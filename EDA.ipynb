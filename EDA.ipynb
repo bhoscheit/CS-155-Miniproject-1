{
 "cells": [
  {
   "cell_type": "code",
   "execution_count": 1,
   "metadata": {
    "collapsed": true
   },
   "outputs": [],
   "source": [
    "import numpy as np\n",
    "import pandas as pd"
   ]
  },
  {
   "cell_type": "code",
   "execution_count": 2,
   "metadata": {
    "collapsed": true
   },
   "outputs": [],
   "source": [
    "# Load data\n",
    "\n",
    "data = np.loadtxt('data/training_data.txt', skiprows=1)"
   ]
  },
  {
   "cell_type": "code",
   "execution_count": 3,
   "metadata": {
    "collapsed": true
   },
   "outputs": [],
   "source": [
    "x_train = data[:,range(1,1001)]\n",
    "y_train = data[:,0]"
   ]
  },
  {
   "cell_type": "code",
   "execution_count": 48,
   "metadata": {},
   "outputs": [
    {
     "name": "stdout",
     "output_type": "stream",
     "text": [
      "0.84725\n",
      "0.84725\n",
      "0.84775\n",
      "0.84675\n",
      "0.84775\n"
     ]
    }
   ],
   "source": [
    "# Logistic Regression\n",
    "\n",
    "from sklearn.linear_model import LogisticRegression\n",
    "\n",
    "# Test Normalization\n",
    "\n",
    "from sklearn import preprocessing\n",
    "\n",
    "# KFold cross validation\n",
    "\n",
    "# from sklearn.model_selection import KFold\n",
    "    \n",
    "# kf = KFold(n_splits = 5, shuffle=True)\n",
    "# inds = [ind for ind in kf.split(x_train, y_train)]\n",
    "\n",
    "# for fold in range(5):\n",
    "#     x_train_folds = x_train[inds[fold][0]]\n",
    "#     x_val_folds = x_train[inds[fold][1]]\n",
    "#     y_train_folds = y_train[inds[fold][0]]\n",
    "#     y_val_folds = y_train[inds[fold][1]]\n",
    "    \n",
    "# print(len(x_train_folds))\n",
    "\n",
    "# Split the data\n",
    "\n",
    "from sklearn.model_selection import train_test_split\n",
    "\n",
    "x_train_s, x_val, y_train_s, y_val = train_test_split(x_train, y_train, test_size=0.2, random_state=42)\n",
    "\n",
    "# w/o normalization\n",
    "\n",
    "# l1 regularization\n",
    "\n",
    "model = LogisticRegression(penalty='l1')\n",
    "model.fit(x_train_s, y_train_s)\n",
    "\n",
    "print(model.score(x_val, y_val))\n",
    "\n",
    "# l2 regularization\n",
    "\n",
    "model = LogisticRegression(penalty='l1')\n",
    "model.fit(x_train_s, y_train_s)\n",
    "\n",
    "print(model.score(x_val, y_val))\n",
    "\n",
    "# w/ normalization\n",
    "\n",
    "x_train_s_norm = preprocessing.normalize(x_train_s, norm='l2')\n",
    "x_val_norm = preprocessing.normalize(x_val, norm='l2')\n",
    "\n",
    "# l1 regularization\n",
    "\n",
    "model = LogisticRegression(penalty='l1')\n",
    "model.fit(x_train_s_norm, y_train_s)\n",
    "\n",
    "print(model.score(x_val_norm, y_val))\n",
    "\n",
    "# l2 regularization\n",
    "\n",
    "model = LogisticRegression(penalty='l2')\n",
    "model.fit(x_train_s_norm, y_train_s)\n",
    "\n",
    "print(model.score(x_val_norm, y_val))\n",
    "\n",
    "# Recoded data: 0 and 1 to -1 and 1\n",
    "\n",
    "y_train_neg1 = y_train\n",
    "y_train_neg1[y_train == 0] = -1\n",
    "\n",
    "x_train_s, x_val, y_train_s, y_val = train_test_split(x_train, y_train_neg1, test_size=0.2, random_state=42)\n",
    "\n",
    "x_train_s_norm = preprocessing.normalize(x_train_s, norm='l2')\n",
    "x_val_norm = preprocessing.normalize(x_val, norm='l2')\n",
    "\n",
    "# Best model\n",
    "\n",
    "model = LogisticRegression(penalty='l1')\n",
    "model.fit(x_train_s_norm, y_train_s)\n",
    "\n",
    "print(model.score(x_val_norm, y_val))"
   ]
  },
  {
   "cell_type": "code",
   "execution_count": 90,
   "metadata": {
    "collapsed": true
   },
   "outputs": [],
   "source": [
    "# Optimize regularization parameter Logistic Regression of best model \n",
    "# (l1-regularized, normalized data)\n",
    "\n",
    "cs = []\n",
    "ci = 0.00001\n",
    "for i in range(18):\n",
    "    ci = 5*ci\n",
    "    cs.append(ci)\n",
    "    \n",
    "x_train_s, x_val, y_train_s, y_val = train_test_split(x_train, y_train, test_size=0.2, random_state=42)\n",
    "x_train_s_norm = preprocessing.normalize(x_train_s, norm='l2')\n",
    "x_val_norm = preprocessing.normalize(x_val, norm='l2')\n",
    "\n",
    "opt_c = []\n",
    "for ci in cs:\n",
    "    model = LogisticRegression(penalty='l1', C=ci)\n",
    "    model.fit(x_train_s_norm, y_train_s)\n",
    "    opt_c.append(model.score(x_val_norm, y_val))"
   ]
  },
  {
   "cell_type": "code",
   "execution_count": 91,
   "metadata": {},
   "outputs": [
    {
     "data": {
      "text/plain": [
       "(7, 0.84950000000000003, 3.90625)"
      ]
     },
     "execution_count": 91,
     "metadata": {},
     "output_type": "execute_result"
    }
   ],
   "source": [
    "np.argmax(opt_c), opt_c[7], cs[7]"
   ]
  },
  {
   "cell_type": "code",
   "execution_count": 96,
   "metadata": {
    "collapsed": true
   },
   "outputs": [],
   "source": [
    "# Optimize regularization parameter Logistic Regression of best model \n",
    "# (l1-regularized, non normalized data)\n",
    "\n",
    "cs = []\n",
    "ci = 0.00001\n",
    "for i in range(18):\n",
    "    ci = 5*ci\n",
    "    cs.append(ci)\n",
    "    \n",
    "x_train_s, x_val, y_train_s, y_val = train_test_split(x_train, y_train, test_size=0.2, random_state=42)\n",
    "\n",
    "opt_c = []\n",
    "for ci in cs:\n",
    "    model = LogisticRegression(penalty='l1', C=ci)\n",
    "    model.fit(x_train_s, y_train_s)\n",
    "    opt_c.append(model.score(x_val, y_val))"
   ]
  },
  {
   "cell_type": "code",
   "execution_count": 97,
   "metadata": {},
   "outputs": [
    {
     "data": {
      "text/plain": [
       "(5, 0.84624999999999995, 3.90625)"
      ]
     },
     "execution_count": 97,
     "metadata": {},
     "output_type": "execute_result"
    }
   ],
   "source": [
    "np.argmax(opt_c), opt_c[7], cs[7]"
   ]
  },
  {
   "cell_type": "code",
   "execution_count": 93,
   "metadata": {
    "collapsed": true
   },
   "outputs": [],
   "source": [
    "# Predict on test set\n",
    "\n",
    "data_train = np.loadtxt('data/training_data.txt', skiprows=1)\n",
    "data_test = np.loadtxt('data/test_data.txt', skiprows=1)"
   ]
  },
  {
   "cell_type": "code",
   "execution_count": 103,
   "metadata": {
    "collapsed": true
   },
   "outputs": [],
   "source": [
    "x_train = data_train[:,range(1,1001)]\n",
    "y_train = data_train[:,0]\n",
    "\n",
    "x_test = data_test"
   ]
  },
  {
   "cell_type": "code",
   "execution_count": 133,
   "metadata": {},
   "outputs": [
    {
     "name": "stdout",
     "output_type": "stream",
     "text": [
      "   Id  Prediction\n",
      "0   1           1\n",
      "1   2           1\n",
      "2   3           0\n",
      "3   4           0\n",
      "4   5           0\n",
      "5   6           0\n",
      "6   7           1\n",
      "7   8           1\n",
      "8   9           1\n",
      "9  10           0\n"
     ]
    }
   ],
   "source": [
    "# Best Logistic Regression Model\n",
    "\n",
    "# Normalize data\n",
    "x_train_norm = preprocessing.normalize(x_train, norm='l2')\n",
    "x_test_norm = preprocessing.normalize(x_test, norm='l2')\n",
    "\n",
    "model = LogisticRegression(penalty='l1', C=3.90625)\n",
    "model.fit(x_train_norm, y_train)\n",
    "\n",
    "y_pred = model.predict(x_test)\n",
    "\n",
    "submission = pd.DataFrame({'Id': range(1, len(x_test)+1), 'Prediction': [int(x) for x in y_pred]})\n",
    "print(submission.head(10))\n",
    "\n",
    "submission.to_csv('submission_Logistic_Regression.csv', index=False, header=True)"
   ]
  },
  {
   "cell_type": "code",
   "execution_count": 6,
   "metadata": {},
   "outputs": [
    {
     "name": "stdout",
     "output_type": "stream",
     "text": [
      "0.497\n"
     ]
    }
   ],
   "source": [
    "# SVM\n",
    "\n",
    "from sklearn import svm\n",
    "from sklearn.model_selection import train_test_split\n",
    "from sklearn import preprocessing\n",
    "\n",
    "# Normalize data\n",
    "\n",
    "x_train_s, x_val, y_train_s, y_val = train_test_split(x_train, y_train, test_size=0.2, random_state=42)\n",
    "x_train_s_norm = preprocessing.normalize(x_train_s, norm='l2')\n",
    "x_val_norm = preprocessing.normalize(x_val, norm='l2')\n",
    "\n",
    "clf = svm.SVC()\n",
    "clf.fit(x_train_s_norm, y_train_s)\n",
    "\n",
    "print(clf.score(x_val_norm, y_val))"
   ]
  },
  {
   "cell_type": "code",
   "execution_count": null,
   "metadata": {
    "collapsed": true
   },
   "outputs": [],
   "source": [
    "# Load words\n",
    "\n",
    "import numpy as np\n",
    "import csv\n",
    "\n",
    "# Import data and labels\n",
    "training_data = np.loadtxt('data/training_data.txt', skiprows=1)\n",
    "with open('data/training_data.txt') as f:\n",
    "    reader = csv.reader(f, delimiter=\" \")\n",
    "    labels = next(reader)"
   ]
  }
 ],
 "metadata": {
  "kernelspec": {
   "display_name": "Python 3",
   "language": "python",
   "name": "python3"
  },
  "language_info": {
   "codemirror_mode": {
    "name": "ipython",
    "version": 3
   },
   "file_extension": ".py",
   "mimetype": "text/x-python",
   "name": "python",
   "nbconvert_exporter": "python",
   "pygments_lexer": "ipython3",
   "version": "3.5.2"
  }
 },
 "nbformat": 4,
 "nbformat_minor": 2
}
