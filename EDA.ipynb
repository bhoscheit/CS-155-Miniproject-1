{
 "cells": [
  {
   "cell_type": "code",
   "execution_count": 1,
   "metadata": {
    "collapsed": true
   },
   "outputs": [],
   "source": [
    "import numpy as np\n",
    "import pandas as pd\n",
    "import matplotlib.pyplot as plt"
   ]
  },
  {
   "cell_type": "code",
   "execution_count": 2,
   "metadata": {
    "collapsed": true
   },
   "outputs": [],
   "source": [
    "# Load data\n",
    "\n",
    "data = np.loadtxt('training_data.txt', skiprows=1)"
   ]
  },
  {
   "cell_type": "code",
   "execution_count": 3,
   "metadata": {
    "collapsed": true
   },
   "outputs": [],
   "source": [
    "x_train = data[:,range(1,1001)]\n",
    "y_train = data[:,0]"
   ]
  },
  {
   "cell_type": "code",
   "execution_count": null,
   "metadata": {
    "collapsed": true
   },
   "outputs": [],
   "source": [
    "# Load words\n",
    "\n",
    "import numpy as np\n",
    "import csv\n",
    "\n",
    "# Import data and labels\n",
    "training_data = np.loadtxt('data/training_data.txt', skiprows=1)\n",
    "with open('data/training_data.txt') as f:\n",
    "    reader = csv.reader(f, delimiter=\" \")\n",
    "    labels = next(reader)"
   ]
  },
  {
   "cell_type": "code",
   "execution_count": 48,
   "metadata": {},
   "outputs": [
    {
     "name": "stdout",
     "output_type": "stream",
     "text": [
      "0.84725\n",
      "0.84725\n",
      "0.84775\n",
      "0.84675\n",
      "0.84775\n"
     ]
    }
   ],
   "source": [
    "# Logistic Regression\n",
    "\n",
    "from sklearn.linear_model import LogisticRegression\n",
    "\n",
    "# Test Normalization\n",
    "\n",
    "from sklearn import preprocessing\n",
    "\n",
    "# KFold cross validation\n",
    "\n",
    "# from sklearn.model_selection import KFold\n",
    "    \n",
    "# kf = KFold(n_splits = 5, shuffle=True)\n",
    "# inds = [ind for ind in kf.split(x_train, y_train)]\n",
    "\n",
    "# for fold in range(5):\n",
    "#     x_train_folds = x_train[inds[fold][0]]\n",
    "#     x_val_folds = x_train[inds[fold][1]]\n",
    "#     y_train_folds = y_train[inds[fold][0]]\n",
    "#     y_val_folds = y_train[inds[fold][1]]\n",
    "    \n",
    "# print(len(x_train_folds))\n",
    "\n",
    "# Split the data\n",
    "\n",
    "from sklearn.model_selection import train_test_split\n",
    "\n",
    "x_train_s, x_val, y_train_s, y_val = train_test_split(x_train, y_train, test_size=0.2, random_state=42)\n",
    "\n",
    "# w/o normalization\n",
    "\n",
    "# l1 regularization\n",
    "\n",
    "model = LogisticRegression(penalty='l1')\n",
    "model.fit(x_train_s, y_train_s)\n",
    "\n",
    "print(model.score(x_val, y_val))\n",
    "\n",
    "# l2 regularization\n",
    "\n",
    "model = LogisticRegression(penalty='l1')\n",
    "model.fit(x_train_s, y_train_s)\n",
    "\n",
    "print(model.score(x_val, y_val))\n",
    "\n",
    "# w/ normalization\n",
    "\n",
    "x_train_s_norm = preprocessing.normalize(x_train_s, norm='l2')\n",
    "x_val_norm = preprocessing.normalize(x_val, norm='l2')\n",
    "\n",
    "# l1 regularization\n",
    "\n",
    "model = LogisticRegression(penalty='l1')\n",
    "model.fit(x_train_s_norm, y_train_s)\n",
    "\n",
    "print(model.score(x_val_norm, y_val))\n",
    "\n",
    "# l2 regularization\n",
    "\n",
    "model = LogisticRegression(penalty='l2')\n",
    "model.fit(x_train_s_norm, y_train_s)\n",
    "\n",
    "print(model.score(x_val_norm, y_val))\n",
    "\n",
    "# Recoded data: 0 and 1 to -1 and 1\n",
    "\n",
    "y_train_neg1 = y_train\n",
    "y_train_neg1[y_train == 0] = -1\n",
    "\n",
    "x_train_s, x_val, y_train_s, y_val = train_test_split(x_train, y_train_neg1, test_size=0.2, random_state=42)\n",
    "\n",
    "x_train_s_norm = preprocessing.normalize(x_train_s, norm='l2')\n",
    "x_val_norm = preprocessing.normalize(x_val, norm='l2')\n",
    "\n",
    "# Best model\n",
    "\n",
    "model = LogisticRegression(penalty='l1')\n",
    "model.fit(x_train_s_norm, y_train_s)\n",
    "\n",
    "print(model.score(x_val_norm, y_val))"
   ]
  },
  {
   "cell_type": "code",
   "execution_count": 90,
   "metadata": {
    "collapsed": true
   },
   "outputs": [],
   "source": [
    "# Optimize regularization parameter Logistic Regression of best model \n",
    "# (l1-regularized, normalized data)\n",
    "\n",
    "cs = []\n",
    "ci = 0.00001\n",
    "for i in range(18):\n",
    "    ci = 5*ci\n",
    "    cs.append(ci)\n",
    "    \n",
    "x_train_s, x_val, y_train_s, y_val = train_test_split(x_train, y_train, test_size=0.2, random_state=42)\n",
    "x_train_s_norm = preprocessing.normalize(x_train_s, norm='l2')\n",
    "x_val_norm = preprocessing.normalize(x_val, norm='l2')\n",
    "\n",
    "opt_c = []\n",
    "for ci in cs:\n",
    "    model = LogisticRegression(penalty='l1', C=ci)\n",
    "    model.fit(x_train_s_norm, y_train_s)\n",
    "    opt_c.append(model.score(x_val_norm, y_val))"
   ]
  },
  {
   "cell_type": "code",
   "execution_count": 91,
   "metadata": {},
   "outputs": [
    {
     "data": {
      "text/plain": [
       "(7, 0.84950000000000003, 3.90625)"
      ]
     },
     "execution_count": 91,
     "metadata": {},
     "output_type": "execute_result"
    }
   ],
   "source": [
    "np.argmax(opt_c), opt_c[7], cs[7]"
   ]
  },
  {
   "cell_type": "code",
   "execution_count": 96,
   "metadata": {
    "collapsed": true
   },
   "outputs": [],
   "source": [
    "# Optimize regularization parameter Logistic Regression of best model \n",
    "# (l1-regularized, non normalized data)\n",
    "\n",
    "cs = []\n",
    "ci = 0.00001\n",
    "for i in range(18):\n",
    "    ci = 5*ci\n",
    "    cs.append(ci)\n",
    "    \n",
    "x_train_s, x_val, y_train_s, y_val = train_test_split(x_train, y_train, test_size=0.2, random_state=42)\n",
    "\n",
    "opt_c = []\n",
    "for ci in cs:\n",
    "    model = LogisticRegression(penalty='l1', C=ci)\n",
    "    model.fit(x_train_s, y_train_s)\n",
    "    opt_c.append(model.score(x_val, y_val))"
   ]
  },
  {
   "cell_type": "code",
   "execution_count": 4,
   "metadata": {
    "collapsed": true
   },
   "outputs": [],
   "source": [
    "# Predict on test set\n",
    "\n",
    "data_train = np.loadtxt('training_data.txt', skiprows=1)\n",
    "data_test = np.loadtxt('test_data.txt', skiprows=1)"
   ]
  },
  {
   "cell_type": "code",
   "execution_count": 5,
   "metadata": {
    "collapsed": true
   },
   "outputs": [],
   "source": [
    "x_train = data_train[:,range(1,1001)]\n",
    "y_train = data_train[:,0]\n",
    "\n",
    "x_test = data_test"
   ]
  },
  {
   "cell_type": "code",
   "execution_count": 133,
   "metadata": {},
   "outputs": [
    {
     "name": "stdout",
     "output_type": "stream",
     "text": [
      "   Id  Prediction\n",
      "0   1           1\n",
      "1   2           1\n",
      "2   3           0\n",
      "3   4           0\n",
      "4   5           0\n",
      "5   6           0\n",
      "6   7           1\n",
      "7   8           1\n",
      "8   9           1\n",
      "9  10           0\n"
     ]
    }
   ],
   "source": [
    "# Best Logistic Regression Model\n",
    "\n",
    "# Normalize data\n",
    "x_train_norm = preprocessing.normalize(x_train, norm='l2')\n",
    "x_test_norm = preprocessing.normalize(x_test, norm='l2')\n",
    "\n",
    "model = LogisticRegression(penalty='l1', C=3.90625)\n",
    "model.fit(x_train_norm, y_train)\n",
    "\n",
    "y_pred = model.predict(x_test)\n",
    "\n",
    "submission = pd.DataFrame({'Id': range(1, len(x_test)+1), 'Prediction': [int(x) for x in y_pred]})\n",
    "print(submission.head(10))\n",
    "\n",
    "submission.to_csv('submission_Logistic_Regression.csv', index=False, header=True)"
   ]
  },
  {
   "cell_type": "code",
   "execution_count": 264,
   "metadata": {},
   "outputs": [
    {
     "name": "stdout",
     "output_type": "stream",
     "text": [
      "0.8471875\n"
     ]
    }
   ],
   "source": [
    "from sklearn.linear_model import LogisticRegression\n",
    "\n",
    "model = LogisticRegression(C=3.1, penalty='l1')\n",
    "model.fit(x_train_s_norm, y_train_s)\n",
    "\n",
    "print(model.score(x_val_norm, y_val))"
   ]
  },
  {
   "cell_type": "code",
   "execution_count": 65,
   "metadata": {},
   "outputs": [
    {
     "name": "stdout",
     "output_type": "stream",
     "text": [
      "0.8303125\n"
     ]
    }
   ],
   "source": [
    "# Eric's best Logistic Regression\n",
    "\n",
    "from sklearn.linear_model import LogisticRegression\n",
    "\n",
    "model = LogisticRegression(C=0.33, penalty='l1')\n",
    "model.fit(x_train_s_norm, y_train_s)\n",
    "\n",
    "print(model.score(x_val_norm, y_val))"
   ]
  },
  {
   "cell_type": "code",
   "execution_count": 109,
   "metadata": {},
   "outputs": [
    {
     "name": "stdout",
     "output_type": "stream",
     "text": [
      "   Id  Prediction\n",
      "0   1           1\n",
      "1   2           1\n",
      "2   3           0\n",
      "3   4           0\n",
      "4   5           0\n",
      "5   6           0\n",
      "6   7           1\n",
      "7   8           1\n",
      "8   9           1\n",
      "9  10           0\n"
     ]
    }
   ],
   "source": [
    "# Trying different C \n",
    "\n",
    "# Best Logistic Regression Model\n",
    "\n",
    "model = LogisticRegression(penalty='l1', C=0.28436)\n",
    "model.fit(x_train, y_train)\n",
    "\n",
    "y_pred = model.predict(x_test)\n",
    "\n",
    "submission = pd.DataFrame({'Id': range(1, len(x_test)+1), 'Prediction': [int(x) for x in y_pred]})\n",
    "print(submission.head(10))\n",
    "\n",
    "submission.to_csv('submission_Logistic_Regression_Eric_opt.csv', index=False, header=True)"
   ]
  },
  {
   "cell_type": "code",
   "execution_count": 265,
   "metadata": {},
   "outputs": [
    {
     "name": "stdout",
     "output_type": "stream",
     "text": [
      "   Id  Prediction\n",
      "0   1           1\n",
      "1   2           1\n",
      "2   3           0\n",
      "3   4           0\n",
      "4   5           0\n",
      "5   6           0\n",
      "6   7           1\n",
      "7   8           1\n",
      "8   9           1\n",
      "9  10           0\n"
     ]
    }
   ],
   "source": [
    "# Trying different C \n",
    "\n",
    "# Best Logistic Regression Model\n",
    "\n",
    "# Normalize data\n",
    "x_train_norm = preprocessing.normalize(x_train, norm='l2')\n",
    "x_test_norm = preprocessing.normalize(x_test, norm='l2')\n",
    "\n",
    "model = LogisticRegression(penalty='l1', C=3.1)\n",
    "model.fit(x_train_norm, y_train)\n",
    "\n",
    "y_pred = model.predict(x_test)\n",
    "\n",
    "submission = pd.DataFrame({'Id': range(1, len(x_test)+1), 'Prediction': [int(x) for x in y_pred]})\n",
    "print(submission.head(10))\n",
    "\n",
    "submission.to_csv('submission_Logistic_Regression2.csv', index=False, header=True)"
   ]
  },
  {
   "cell_type": "code",
   "execution_count": 220,
   "metadata": {},
   "outputs": [
    {
     "name": "stdout",
     "output_type": "stream",
     "text": [
      "0.503125\n"
     ]
    }
   ],
   "source": [
    "# SVC\n",
    "\n",
    "from sklearn import svm\n",
    "from sklearn.model_selection import train_test_split\n",
    "from sklearn import preprocessing\n",
    "\n",
    "# Normalize data\n",
    "\n",
    "x_train_s, x_val, y_train_s, y_val = train_test_split(x_train, y_train, test_size=0.2, random_state=42)\n",
    "x_train_s_norm = preprocessing.normalize(x_train_s, norm='l2')\n",
    "x_val_norm = preprocessing.normalize(x_val, norm='l2')\n",
    "\n",
    "clf = svm.SVC()\n",
    "clf.fit(x_train_s_norm, y_train_s)\n",
    "\n",
    "print(clf.score(x_val_norm, y_val))"
   ]
  },
  {
   "cell_type": "code",
   "execution_count": 223,
   "metadata": {},
   "outputs": [
    {
     "name": "stdout",
     "output_type": "stream",
     "text": [
      "0.84875\n"
     ]
    }
   ],
   "source": [
    "# Linear SVM, l1 reg\n",
    "\n",
    "x_train_s, x_val, y_train_s, y_val = train_test_split(x_train, y_train, test_size=0.2, random_state=42)\n",
    "x_train_s_norm = preprocessing.normalize(x_train_s, norm='l2')\n",
    "x_val_norm = preprocessing.normalize(x_val, norm='l2')\n",
    "\n",
    "clf = svm.LinearSVC(penalty='l1', loss='squared_hinge', dual=False)\n",
    "clf.fit(x_train_s_norm, y_train_s)\n",
    "\n",
    "print(clf.score(x_val_norm, y_val))"
   ]
  },
  {
   "cell_type": "code",
   "execution_count": 268,
   "metadata": {},
   "outputs": [
    {
     "name": "stdout",
     "output_type": "stream",
     "text": [
      "0.8485\n"
     ]
    }
   ],
   "source": [
    "x_train_s, x_val, y_train_s, y_val = train_test_split(x_train, y_train, test_size=0.2, random_state=42)\n",
    "x_train_s_norm = preprocessing.normalize(x_train_s, norm='l2')\n",
    "x_val_norm = preprocessing.normalize(x_val, norm='l2')\n",
    "\n",
    "clf = svm.LinearSVC(C=0.77, penalty='l1', loss='squared_hinge', dual=False)\n",
    "clf.fit(x_train_s_norm, y_train_s)\n",
    "\n",
    "print(clf.score(x_val_norm, y_val))"
   ]
  },
  {
   "cell_type": "code",
   "execution_count": null,
   "metadata": {
    "collapsed": true
   },
   "outputs": [],
   "source": [
    "# Trying different C \n",
    "\n",
    "# Best SVC\n",
    "\n",
    "# Normalize data\n",
    "x_train_norm = preprocessing.normalize(x_train, norm='l2')\n",
    "x_test_norm = preprocessing.normalize(x_test, norm='l2')\n",
    "\n",
    "clf = svm.LinearSVC(C=0.77, penalty='l1', loss='squared_hinge', dual=False)\n",
    "clf.fit(x_train_s_norm, y_train_s)\n",
    "\n",
    "y_pred = clf.predict(x_test)\n",
    "\n",
    "submission = pd.DataFrame({'Id': range(1, len(x_test)+1), 'Prediction': [int(x) for x in y_pred]})\n",
    "print(submission.head(10))\n",
    "\n",
    "submission.to_csv('submission_LinearSVC.csv', index=False, header=True)"
   ]
  },
  {
   "cell_type": "code",
   "execution_count": 225,
   "metadata": {
    "collapsed": true
   },
   "outputs": [],
   "source": [
    "# Optimizing\n",
    "\n",
    "cs = []\n",
    "ci = 0.00001\n",
    "for i in range(18):\n",
    "    ci = 5*ci\n",
    "    cs.append(ci)\n",
    "\n",
    "x_train_s, x_val, y_train_s, y_val = train_test_split(x_train, y_train, test_size=0.2, random_state=42)\n",
    "x_train_s_norm = preprocessing.normalize(x_train_s, norm='l2')\n",
    "x_val_norm = preprocessing.normalize(x_val, norm='l2')\n",
    "\n",
    "opt_c = []\n",
    "for ci in cs:\n",
    "    clf = svm.LinearSVC(C=ci, penalty='l1', loss='squared_hinge', dual=False)\n",
    "    clf.fit(x_train_s_norm, y_train_s)\n",
    "    opt_c.append(clf.score(x_val_norm, y_val))"
   ]
  },
  {
   "cell_type": "code",
   "execution_count": 236,
   "metadata": {},
   "outputs": [
    {
     "data": {
      "text/plain": [
       "[0.49687500000000001,\n",
       " 0.49687500000000001,\n",
       " 0.49687500000000001,\n",
       " 0.67500000000000004,\n",
       " 0.79843750000000002,\n",
       " 0.84593750000000001,\n",
       " 0.84968750000000004,\n",
       " 0.84406250000000005,\n",
       " 0.84406250000000005,\n",
       " 0.84375,\n",
       " 0.84375,\n",
       " 0.84375,\n",
       " 0.84375,\n",
       " 0.84375,\n",
       " 0.84375,\n",
       " 0.84375,\n",
       " 0.84375,\n",
       " 0.84375]"
      ]
     },
     "execution_count": 236,
     "metadata": {},
     "output_type": "execute_result"
    }
   ],
   "source": [
    "opt_c"
   ]
  },
  {
   "cell_type": "code",
   "execution_count": 226,
   "metadata": {},
   "outputs": [
    {
     "data": {
      "text/plain": [
       "(6, 0.84406250000000005, 3.90625)"
      ]
     },
     "execution_count": 226,
     "metadata": {},
     "output_type": "execute_result"
    }
   ],
   "source": [
    "np.argmax(opt_c)"
   ]
  },
  {
   "cell_type": "code",
   "execution_count": 269,
   "metadata": {},
   "outputs": [
    {
     "name": "stdout",
     "output_type": "stream",
     "text": [
      "0.497\n"
     ]
    }
   ],
   "source": [
    "# SVC, rbf kernel\n",
    "\n",
    "x_train_s, x_val, y_train_s, y_val = train_test_split(x_train, y_train, test_size=0.2, random_state=42)\n",
    "x_train_s_norm = preprocessing.normalize(x_train_s, norm='l2')\n",
    "x_val_norm = preprocessing.normalize(x_val, norm='l2')\n",
    "\n",
    "clf = svm.SVC(C=1, kernel='rbf')\n",
    "clf.fit(x_train_s_norm, y_train_s)\n",
    "\n",
    "print(clf.score(x_val_norm, y_val))"
   ]
  },
  {
   "cell_type": "code",
   "execution_count": null,
   "metadata": {
    "collapsed": true
   },
   "outputs": [],
   "source": [
    "# Optimizing\n",
    "\n",
    "cs = []\n",
    "ci = 0.00001\n",
    "for i in range(18):\n",
    "    ci = 5*ci\n",
    "    cs.append(ci)\n",
    "\n",
    "x_train_s, x_val, y_train_s, y_val = train_test_split(x_train, y_train, test_size=0.2, random_state=42)\n",
    "x_train_s_norm = preprocessing.normalize(x_train_s, norm='l2')\n",
    "x_val_norm = preprocessing.normalize(x_val, norm='l2')\n",
    "\n",
    "opt_c = []\n",
    "for ci in cs:\n",
    "    clf = svm.SVC(C=ci, kernel='rbf')\n",
    "    clf.fit(x_train_s_norm, y_train_s)\n",
    "    opt_c.append(clf.score(x_val_norm, y_val))"
   ]
  },
  {
   "cell_type": "code",
   "execution_count": 270,
   "metadata": {},
   "outputs": [
    {
     "name": "stdout",
     "output_type": "stream",
     "text": [
      "0.85125\n"
     ]
    }
   ],
   "source": [
    "# SVC, linear kernel\n",
    "\n",
    "x_train_s, x_val, y_train_s, y_val = train_test_split(x_train, y_train, test_size=0.2, random_state=42)\n",
    "x_train_s_norm = preprocessing.normalize(x_train_s, norm='l2')\n",
    "x_val_norm = preprocessing.normalize(x_val, norm='l2')\n",
    "\n",
    "clf = svm.SVC(C=1, kernel='linear')\n",
    "clf.fit(x_train_s_norm, y_train_s)\n",
    "\n",
    "print(clf.score(x_val_norm, y_val))"
   ]
  },
  {
   "cell_type": "code",
   "execution_count": 6,
   "metadata": {
    "collapsed": true
   },
   "outputs": [],
   "source": [
    "# Optimizing\n",
    "\n",
    "from sklearn import svm\n",
    "from sklearn.model_selection import train_test_split\n",
    "from sklearn import preprocessing\n",
    "\n",
    "cs = []\n",
    "ci = 0.01\n",
    "for i in range(4):\n",
    "    ci = 5*ci\n",
    "    cs.append(ci)\n",
    "\n",
    "x_train_s, x_val, y_train_s, y_val = train_test_split(x_train, y_train, test_size=0.2, random_state=42)\n",
    "x_train_s_norm = preprocessing.normalize(x_train_s, norm='l2')\n",
    "x_val_norm = preprocessing.normalize(x_val, norm='l2')\n",
    "\n",
    "opt_c = []\n",
    "for ci in cs:\n",
    "    clf = svm.SVC(C=ci, kernel='linear')\n",
    "    clf.fit(x_train_s_norm, y_train_s)\n",
    "    opt_c.append(clf.score(x_val_norm, y_val))"
   ]
  },
  {
   "cell_type": "code",
   "execution_count": 10,
   "metadata": {},
   "outputs": [
    {
     "data": {
      "text/plain": [
       "(2,\n",
       " 0.84799999999999998,\n",
       " 1.25,\n",
       " [0.82874999999999999,\n",
       "  0.84724999999999995,\n",
       "  0.84799999999999998,\n",
       "  0.84350000000000003])"
      ]
     },
     "execution_count": 10,
     "metadata": {},
     "output_type": "execute_result"
    }
   ],
   "source": [
    "np.argmax(opt_c), opt_c[2], cs[2], opt_c"
   ]
  },
  {
   "cell_type": "code",
   "execution_count": 12,
   "metadata": {},
   "outputs": [
    {
     "name": "stdout",
     "output_type": "stream",
     "text": [
      "   Id  Prediction\n",
      "0   1           1\n",
      "1   2           1\n",
      "2   3           0\n",
      "3   4           0\n",
      "4   5           0\n",
      "5   6           0\n",
      "6   7           1\n",
      "7   8           1\n",
      "8   9           1\n",
      "9  10           0\n"
     ]
    }
   ],
   "source": [
    "# Optimal  SVC, linear kernel, C=1\n",
    "\n",
    "# Normalize data\n",
    "x_train_norm = preprocessing.normalize(x_train, norm='l2')\n",
    "x_test_norm = preprocessing.normalize(x_test, norm='l2')\n",
    "\n",
    "clf = svm.SVC(C=1, kernel='linear')\n",
    "clf.fit(x_train_norm, y_train)\n",
    "\n",
    "y_pred = clf.predict(x_test_norm)\n",
    "\n",
    "submission = pd.DataFrame({'Id': range(1, len(x_test)+1), 'Prediction': [int(x) for x in y_pred]})\n",
    "print(submission.head(10))\n",
    "\n",
    "submission.to_csv('submission_LinearSVC.csv', index=False, header=True)"
   ]
  },
  {
   "cell_type": "code",
   "execution_count": null,
   "metadata": {
    "collapsed": true
   },
   "outputs": [],
   "source": [
    "# Optimizing\n",
    "\n",
    "cs = []\n",
    "ci = 0.00001\n",
    "for i in range(18):\n",
    "    ci = 5*ci\n",
    "    cs.append(ci)\n",
    "\n",
    "x_train_s, x_val, y_train_s, y_val = train_test_split(x_train, y_train, test_size=0.2, random_state=42)\n",
    "x_train_s_norm = preprocessing.normalize(x_train_s, norm='l2')\n",
    "x_val_norm = preprocessing.normalize(x_val, norm='l2')\n",
    "\n",
    "opt_c = []\n",
    "for ci in cs:\n",
    "    clf = svm.SVC(C=ci, kernel='linear')\n",
    "    clf.fit(x_train_s_norm, y_train_s)\n",
    "    opt_c.append(clf.score(x_val_norm, y_val))"
   ]
  },
  {
   "cell_type": "code",
   "execution_count": 15,
   "metadata": {},
   "outputs": [
    {
     "name": "stdout",
     "output_type": "stream",
     "text": [
      "0.8334375\n"
     ]
    }
   ],
   "source": [
    "# Random Forest\n",
    "\n",
    "from sklearn import preprocessing\n",
    "from sklearn.model_selection import train_test_split\n",
    "from sklearn.ensemble import RandomForestClassifier\n",
    "\n",
    "# Normalize data\n",
    "\n",
    "x_train_s, x_val, y_train_s, y_val = train_test_split(x_train, y_train, test_size=0.2, random_state=42)\n",
    "x_train_s_norm = preprocessing.normalize(x_train_s, norm='l2')\n",
    "x_val_norm = preprocessing.normalize(x_val, norm='l2')\n",
    "\n",
    "# Base (1000 Classifiers)\n",
    "\n",
    "clf = RandomForestClassifier(n_estimators=1000)\n",
    "clf.fit(x_train_s_norm, y_train_s)\n",
    "\n",
    "print(clf.score(x_val_norm, y_val))"
   ]
  },
  {
   "cell_type": "code",
   "execution_count": 127,
   "metadata": {},
   "outputs": [
    {
     "name": "stdout",
     "output_type": "stream",
     "text": [
      "   Id  Prediction\n",
      "0   1           1\n",
      "1   2           1\n",
      "2   3           0\n",
      "3   4           0\n",
      "4   5           1\n",
      "5   6           0\n",
      "6   7           1\n",
      "7   8           1\n",
      "8   9           1\n",
      "9  10           0\n"
     ]
    }
   ],
   "source": [
    "from sklearn.ensemble import RandomForestClassifier\n",
    "\n",
    "# Normalize data\n",
    "\n",
    "x_train_norm = preprocessing.normalize(x_train, norm='l2')\n",
    "x_test_norm = preprocessing.normalize(x_test, norm='l2')\n",
    "\n",
    "# Best Random Forest\n",
    "\n",
    "clf = RandomForestClassifier(n_estimators=1000)\n",
    "clf.fit(x_train_norm, y_train)\n",
    "\n",
    "y_pred = clf.predict(x_test_norm)\n",
    "\n",
    "submission = pd.DataFrame({'Id': range(1, len(x_test)+1), 'Prediction': [int(x) for x in y_pred]})\n",
    "print(submission.head(10))\n",
    "\n",
    "submission.to_csv('submission_random_forest.csv', index=False, header=True)"
   ]
  },
  {
   "cell_type": "code",
   "execution_count": 17,
   "metadata": {
    "collapsed": true
   },
   "outputs": [],
   "source": [
    "def classification_err(y, real_y):\n",
    "    \n",
    "    return (len(y) - np.sum(np.equal(y, real_y)))/(len(y))\n",
    "    \n",
    "    pass\n",
    "\n",
    "def eval_tree_based_model_min_samples(clf, min_samples_leaf, X_train, y_train, X_test, y_test):\n",
    "    \n",
    "    train_err = []\n",
    "    test_err = []\n",
    "    for i in min_samples_leaf:\n",
    "        clf = clf\n",
    "        clf.min_samples_leaf = i\n",
    "        clf.fit(X_train, y_train)\n",
    "        train_err.append(classification_err(clf.predict(X_train), y_train))\n",
    "        test_err.append(classification_err(clf.predict(X_test), y_test))\n",
    "    \n",
    "    return train_err, test_err\n",
    "    pass"
   ]
  },
  {
   "cell_type": "code",
   "execution_count": 27,
   "metadata": {
    "collapsed": true
   },
   "outputs": [],
   "source": [
    "def eval_tree_based_model_max_depth(clf, max_depth, X_train, y_train, X_test, y_test):\n",
    "\n",
    "    train_err = []\n",
    "    test_err = []\n",
    "    for i in max_depth:\n",
    "        clf = clf\n",
    "        clf.max_depth = i\n",
    "        clf.fit(X_train, y_train)\n",
    "        train_err.append(classification_err(clf.predict(X_train), y_train))\n",
    "        test_err.append(classification_err(clf.predict(X_test), y_test))\n",
    "    \n",
    "    return train_err, test_err\n",
    "    pass"
   ]
  },
  {
   "cell_type": "code",
   "execution_count": 36,
   "metadata": {},
   "outputs": [
    {
     "data": {
      "image/png": "[encoded data removed]",
      "text/plain": [
       "<matplotlib.figure.Figure at 0x24185283fd0>"
      ]
     },
     "metadata": {},
     "output_type": "display_data"
    },
    {
     "name": "stdout",
     "output_type": "stream",
     "text": [
      "Test error minimized at min_samples_leaf = 7\n"
     ]
    }
   ],
   "source": [
    "# Normalize data\n",
    "\n",
    "x_train_s, x_val, y_train_s, y_val = train_test_split(x_train, y_train, test_size=0.2, random_state=42)\n",
    "x_train_s_norm = preprocessing.normalize(x_train_s, norm='l2')\n",
    "x_val_norm = preprocessing.normalize(x_val, norm='l2')\n",
    "\n",
    "\n",
    "n_estimators = 10\n",
    "clf = RandomForestClassifier(n_estimators = n_estimators, criterion = 'gini')\n",
    "\n",
    "min_samples_leaf = np.arange(1, 26)\n",
    "\n",
    "train_err, test_err = eval_tree_based_model_min_samples(clf, min_samples_leaf, x_train_s_norm, \n",
    "                                                        y_train_s, x_val_norm, y_val)\n",
    "\n",
    "plt.figure()\n",
    "plt.plot(min_samples_leaf, test_err, label='Testing error')\n",
    "plt.plot(min_samples_leaf, train_err, label='Training error')\n",
    "plt.xlabel('Minimum Node Size')\n",
    "plt.ylabel('Classification error')\n",
    "plt.title('Random Forest with Gini Impurity and Minimum Node Size')\n",
    "plt.legend(loc=0, shadow=True, fontsize='x-large')\n",
    "plt.savefig(\"2D\")\n",
    "plt.show()\n",
    "\n",
    "print('Test error minimized at min_samples_leaf = %i' % min_samples_leaf[np.argmin(test_err)])"
   ]
  },
  {
   "cell_type": "code",
   "execution_count": 37,
   "metadata": {},
   "outputs": [
    {
     "data": {
      "image/png": "[encoded data removed]",
      "text/plain": [
       "<matplotlib.figure.Figure at 0x241808c42b0>"
      ]
     },
     "metadata": {},
     "output_type": "display_data"
    },
    {
     "name": "stdout",
     "output_type": "stream",
     "text": [
      "Test error minimized at max_depth = 16\n"
     ]
    }
   ],
   "source": [
    "clf = RandomForestClassifier(n_estimators = n_estimators, criterion = 'gini')\n",
    "\n",
    "max_depth = np.arange(2, 21)\n",
    "\n",
    "train_err, test_err = eval_tree_based_model_max_depth(clf, max_depth, x_train_s_norm, \n",
    "                                                        y_train_s, x_val_norm, y_val)\n",
    "\n",
    "plt.figure()\n",
    "plt.plot(max_depth, test_err, label='Testing error')\n",
    "plt.plot(max_depth, train_err, label='Training error')\n",
    "plt.xlabel('Maximum Depth')\n",
    "plt.ylabel('Classification error')\n",
    "plt.title('Random Forest with Gini Impurity and Maximum Depth')\n",
    "plt.legend(loc=0, shadow=True, fontsize='x-large')\n",
    "plt.savefig('2E')\n",
    "plt.show()\n",
    "\n",
    "print('Test error minimized at max_depth = %i' % max_depth[np.argmin(test_err)])"
   ]
  },
  {
   "cell_type": "code",
   "execution_count": 33,
   "metadata": {},
   "outputs": [
    {
     "name": "stdout",
     "output_type": "stream",
     "text": [
      "0.825625\n"
     ]
    }
   ],
   "source": [
    "# Try optimal Random Forest\n",
    "\n",
    "# Normalize data\n",
    "\n",
    "x_train_s, x_val, y_train_s, y_val = train_test_split(x_train, y_train, test_size=0.2, random_state=42)\n",
    "x_train_s_norm = preprocessing.normalize(x_train_s, norm='l2')\n",
    "x_val_norm = preprocessing.normalize(x_val, norm='l2')\n",
    "\n",
    "# Base (1000 Classifiers)\n",
    "\n",
    "# clf = RandomForestClassifier(n_estimators=n_estimators, min_samples_leaf=7, max_depth=30)\n",
    "clf = RandomForestClassifier(n_estimators=1000, min_samples_leaf=7, max_depth=30)\n",
    "clf.fit(x_train_s_norm, y_train_s)\n",
    "\n",
    "print(clf.score(x_val_norm, y_val))"
   ]
  },
  {
   "cell_type": "code",
   "execution_count": 13,
   "metadata": {},
   "outputs": [
    {
     "name": "stdout",
     "output_type": "stream",
     "text": [
      "RandomizedSearchCV took 27.71 seconds for 20 candidates parameter settings.\n",
      "Model with rank: 1\n",
      "Mean validation score: 0.814 (std: 0.005)\n",
      "Parameters: {'max_features': 9, 'min_samples_leaf': 8, 'bootstrap': False, 'min_samples_split': 4, 'criterion': 'gini', 'max_depth': None}\n",
      "\n",
      "Model with rank: 2\n",
      "Mean validation score: 0.811 (std: 0.002)\n",
      "Parameters: {'max_features': 5, 'min_samples_leaf': 3, 'bootstrap': True, 'min_samples_split': 5, 'criterion': 'entropy', 'max_depth': None}\n",
      "\n",
      "Model with rank: 3\n",
      "Mean validation score: 0.807 (std: 0.002)\n",
      "Parameters: {'max_features': 4, 'min_samples_leaf': 7, 'bootstrap': True, 'min_samples_split': 4, 'criterion': 'entropy', 'max_depth': None}\n",
      "\n"
     ]
    },
    {
     "ename": "KeyboardInterrupt",
     "evalue": "",
     "output_type": "error",
     "traceback": [
      "\u001b[1;31m---------------------------------------------------------------------------\u001b[0m",
      "\u001b[1;31mKeyboardInterrupt\u001b[0m                         Traceback (most recent call last)",
      "\u001b[1;32m<ipython-input-13-967d2796f37a>\u001b[0m in \u001b[0;36m<module>\u001b[1;34m()\u001b[0m\n\u001b[0;32m     62\u001b[0m \u001b[0mgrid_search\u001b[0m \u001b[1;33m=\u001b[0m \u001b[0mGridSearchCV\u001b[0m\u001b[1;33m(\u001b[0m\u001b[0mclf\u001b[0m\u001b[1;33m,\u001b[0m \u001b[0mparam_grid\u001b[0m\u001b[1;33m=\u001b[0m\u001b[0mparam_grid\u001b[0m\u001b[1;33m)\u001b[0m\u001b[1;33m\u001b[0m\u001b[0m\n\u001b[0;32m     63\u001b[0m \u001b[0mstart\u001b[0m \u001b[1;33m=\u001b[0m \u001b[0mtime\u001b[0m\u001b[1;33m(\u001b[0m\u001b[1;33m)\u001b[0m\u001b[1;33m\u001b[0m\u001b[0m\n\u001b[1;32m---> 64\u001b[1;33m \u001b[0mgrid_search\u001b[0m\u001b[1;33m.\u001b[0m\u001b[0mfit\u001b[0m\u001b[1;33m(\u001b[0m\u001b[0mx_train_norm\u001b[0m\u001b[1;33m,\u001b[0m \u001b[0my_train\u001b[0m\u001b[1;33m)\u001b[0m\u001b[1;33m\u001b[0m\u001b[0m\n\u001b[0m\u001b[0;32m     65\u001b[0m \u001b[1;33m\u001b[0m\u001b[0m\n\u001b[0;32m     66\u001b[0m print(\"GridSearchCV took %.2f seconds for %d candidate parameter settings.\"\n",
      "\u001b[1;32mc:\\users\\ben hoscheit\\desktop\\python3\\lib\\site-packages\\sklearn\\model_selection\\_search.py\u001b[0m in \u001b[0;36mfit\u001b[1;34m(self, X, y, groups, **fit_params)\u001b[0m\n\u001b[0;32m    637\u001b[0m                                   error_score=self.error_score)\n\u001b[0;32m    638\u001b[0m           for parameters, (train, test) in product(candidate_params,\n\u001b[1;32m--> 639\u001b[1;33m                                                    cv.split(X, y, groups)))\n\u001b[0m\u001b[0;32m    640\u001b[0m \u001b[1;33m\u001b[0m\u001b[0m\n\u001b[0;32m    641\u001b[0m         \u001b[1;31m# if one choose to see train score, \"out\" will contain train score info\u001b[0m\u001b[1;33m\u001b[0m\u001b[1;33m\u001b[0m\u001b[0m\n",
      "\u001b[1;32mc:\\users\\ben hoscheit\\desktop\\python3\\lib\\site-packages\\sklearn\\externals\\joblib\\parallel.py\u001b[0m in \u001b[0;36m__call__\u001b[1;34m(self, iterable)\u001b[0m\n\u001b[0;32m    777\u001b[0m             \u001b[1;31m# was dispatched. In particular this covers the edge\u001b[0m\u001b[1;33m\u001b[0m\u001b[1;33m\u001b[0m\u001b[0m\n\u001b[0;32m    778\u001b[0m             \u001b[1;31m# case of Parallel used with an exhausted iterator.\u001b[0m\u001b[1;33m\u001b[0m\u001b[1;33m\u001b[0m\u001b[0m\n\u001b[1;32m--> 779\u001b[1;33m             \u001b[1;32mwhile\u001b[0m \u001b[0mself\u001b[0m\u001b[1;33m.\u001b[0m\u001b[0mdispatch_one_batch\u001b[0m\u001b[1;33m(\u001b[0m\u001b[0miterator\u001b[0m\u001b[1;33m)\u001b[0m\u001b[1;33m:\u001b[0m\u001b[1;33m\u001b[0m\u001b[0m\n\u001b[0m\u001b[0;32m    780\u001b[0m                 \u001b[0mself\u001b[0m\u001b[1;33m.\u001b[0m\u001b[0m_iterating\u001b[0m \u001b[1;33m=\u001b[0m \u001b[1;32mTrue\u001b[0m\u001b[1;33m\u001b[0m\u001b[0m\n\u001b[0;32m    781\u001b[0m             \u001b[1;32melse\u001b[0m\u001b[1;33m:\u001b[0m\u001b[1;33m\u001b[0m\u001b[0m\n",
      "\u001b[1;32mc:\\users\\ben hoscheit\\desktop\\python3\\lib\\site-packages\\sklearn\\externals\\joblib\\parallel.py\u001b[0m in \u001b[0;36mdispatch_one_batch\u001b[1;34m(self, iterator)\u001b[0m\n\u001b[0;32m    623\u001b[0m                 \u001b[1;32mreturn\u001b[0m \u001b[1;32mFalse\u001b[0m\u001b[1;33m\u001b[0m\u001b[0m\n\u001b[0;32m    624\u001b[0m             \u001b[1;32melse\u001b[0m\u001b[1;33m:\u001b[0m\u001b[1;33m\u001b[0m\u001b[0m\n\u001b[1;32m--> 625\u001b[1;33m                 \u001b[0mself\u001b[0m\u001b[1;33m.\u001b[0m\u001b[0m_dispatch\u001b[0m\u001b[1;33m(\u001b[0m\u001b[0mtasks\u001b[0m\u001b[1;33m)\u001b[0m\u001b[1;33m\u001b[0m\u001b[0m\n\u001b[0m\u001b[0;32m    626\u001b[0m                 \u001b[1;32mreturn\u001b[0m \u001b[1;32mTrue\u001b[0m\u001b[1;33m\u001b[0m\u001b[0m\n\u001b[0;32m    627\u001b[0m \u001b[1;33m\u001b[0m\u001b[0m\n",
      "\u001b[1;32mc:\\users\\ben hoscheit\\desktop\\python3\\lib\\site-packages\\sklearn\\externals\\joblib\\parallel.py\u001b[0m in \u001b[0;36m_dispatch\u001b[1;34m(self, batch)\u001b[0m\n\u001b[0;32m    586\u001b[0m         \u001b[0mdispatch_timestamp\u001b[0m \u001b[1;33m=\u001b[0m \u001b[0mtime\u001b[0m\u001b[1;33m.\u001b[0m\u001b[0mtime\u001b[0m\u001b[1;33m(\u001b[0m\u001b[1;33m)\u001b[0m\u001b[1;33m\u001b[0m\u001b[0m\n\u001b[0;32m    587\u001b[0m         \u001b[0mcb\u001b[0m \u001b[1;33m=\u001b[0m \u001b[0mBatchCompletionCallBack\u001b[0m\u001b[1;33m(\u001b[0m\u001b[0mdispatch_timestamp\u001b[0m\u001b[1;33m,\u001b[0m \u001b[0mlen\u001b[0m\u001b[1;33m(\u001b[0m\u001b[0mbatch\u001b[0m\u001b[1;33m)\u001b[0m\u001b[1;33m,\u001b[0m \u001b[0mself\u001b[0m\u001b[1;33m)\u001b[0m\u001b[1;33m\u001b[0m\u001b[0m\n\u001b[1;32m--> 588\u001b[1;33m         \u001b[0mjob\u001b[0m \u001b[1;33m=\u001b[0m \u001b[0mself\u001b[0m\u001b[1;33m.\u001b[0m\u001b[0m_backend\u001b[0m\u001b[1;33m.\u001b[0m\u001b[0mapply_async\u001b[0m\u001b[1;33m(\u001b[0m\u001b[0mbatch\u001b[0m\u001b[1;33m,\u001b[0m \u001b[0mcallback\u001b[0m\u001b[1;33m=\u001b[0m\u001b[0mcb\u001b[0m\u001b[1;33m)\u001b[0m\u001b[1;33m\u001b[0m\u001b[0m\n\u001b[0m\u001b[0;32m    589\u001b[0m         \u001b[0mself\u001b[0m\u001b[1;33m.\u001b[0m\u001b[0m_jobs\u001b[0m\u001b[1;33m.\u001b[0m\u001b[0mappend\u001b[0m\u001b[1;33m(\u001b[0m\u001b[0mjob\u001b[0m\u001b[1;33m)\u001b[0m\u001b[1;33m\u001b[0m\u001b[0m\n\u001b[0;32m    590\u001b[0m \u001b[1;33m\u001b[0m\u001b[0m\n",
      "\u001b[1;32mc:\\users\\ben hoscheit\\desktop\\python3\\lib\\site-packages\\sklearn\\externals\\joblib\\_parallel_backends.py\u001b[0m in \u001b[0;36mapply_async\u001b[1;34m(self, func, callback)\u001b[0m\n\u001b[0;32m    109\u001b[0m     \u001b[1;32mdef\u001b[0m \u001b[0mapply_async\u001b[0m\u001b[1;33m(\u001b[0m\u001b[0mself\u001b[0m\u001b[1;33m,\u001b[0m \u001b[0mfunc\u001b[0m\u001b[1;33m,\u001b[0m \u001b[0mcallback\u001b[0m\u001b[1;33m=\u001b[0m\u001b[1;32mNone\u001b[0m\u001b[1;33m)\u001b[0m\u001b[1;33m:\u001b[0m\u001b[1;33m\u001b[0m\u001b[0m\n\u001b[0;32m    110\u001b[0m         \u001b[1;34m\"\"\"Schedule a func to be run\"\"\"\u001b[0m\u001b[1;33m\u001b[0m\u001b[0m\n\u001b[1;32m--> 111\u001b[1;33m         \u001b[0mresult\u001b[0m \u001b[1;33m=\u001b[0m \u001b[0mImmediateResult\u001b[0m\u001b[1;33m(\u001b[0m\u001b[0mfunc\u001b[0m\u001b[1;33m)\u001b[0m\u001b[1;33m\u001b[0m\u001b[0m\n\u001b[0m\u001b[0;32m    112\u001b[0m         \u001b[1;32mif\u001b[0m \u001b[0mcallback\u001b[0m\u001b[1;33m:\u001b[0m\u001b[1;33m\u001b[0m\u001b[0m\n\u001b[0;32m    113\u001b[0m             \u001b[0mcallback\u001b[0m\u001b[1;33m(\u001b[0m\u001b[0mresult\u001b[0m\u001b[1;33m)\u001b[0m\u001b[1;33m\u001b[0m\u001b[0m\n",
      "\u001b[1;32mc:\\users\\ben hoscheit\\desktop\\python3\\lib\\site-packages\\sklearn\\externals\\joblib\\_parallel_backends.py\u001b[0m in \u001b[0;36m__init__\u001b[1;34m(self, batch)\u001b[0m\n\u001b[0;32m    330\u001b[0m         \u001b[1;31m# Don't delay the application, to avoid keeping the input\u001b[0m\u001b[1;33m\u001b[0m\u001b[1;33m\u001b[0m\u001b[0m\n\u001b[0;32m    331\u001b[0m         \u001b[1;31m# arguments in memory\u001b[0m\u001b[1;33m\u001b[0m\u001b[1;33m\u001b[0m\u001b[0m\n\u001b[1;32m--> 332\u001b[1;33m         \u001b[0mself\u001b[0m\u001b[1;33m.\u001b[0m\u001b[0mresults\u001b[0m \u001b[1;33m=\u001b[0m \u001b[0mbatch\u001b[0m\u001b[1;33m(\u001b[0m\u001b[1;33m)\u001b[0m\u001b[1;33m\u001b[0m\u001b[0m\n\u001b[0m\u001b[0;32m    333\u001b[0m \u001b[1;33m\u001b[0m\u001b[0m\n\u001b[0;32m    334\u001b[0m     \u001b[1;32mdef\u001b[0m \u001b[0mget\u001b[0m\u001b[1;33m(\u001b[0m\u001b[0mself\u001b[0m\u001b[1;33m)\u001b[0m\u001b[1;33m:\u001b[0m\u001b[1;33m\u001b[0m\u001b[0m\n",
      "\u001b[1;32mc:\\users\\ben hoscheit\\desktop\\python3\\lib\\site-packages\\sklearn\\externals\\joblib\\parallel.py\u001b[0m in \u001b[0;36m__call__\u001b[1;34m(self)\u001b[0m\n\u001b[0;32m    129\u001b[0m \u001b[1;33m\u001b[0m\u001b[0m\n\u001b[0;32m    130\u001b[0m     \u001b[1;32mdef\u001b[0m \u001b[0m__call__\u001b[0m\u001b[1;33m(\u001b[0m\u001b[0mself\u001b[0m\u001b[1;33m)\u001b[0m\u001b[1;33m:\u001b[0m\u001b[1;33m\u001b[0m\u001b[0m\n\u001b[1;32m--> 131\u001b[1;33m         \u001b[1;32mreturn\u001b[0m \u001b[1;33m[\u001b[0m\u001b[0mfunc\u001b[0m\u001b[1;33m(\u001b[0m\u001b[1;33m*\u001b[0m\u001b[0margs\u001b[0m\u001b[1;33m,\u001b[0m \u001b[1;33m**\u001b[0m\u001b[0mkwargs\u001b[0m\u001b[1;33m)\u001b[0m \u001b[1;32mfor\u001b[0m \u001b[0mfunc\u001b[0m\u001b[1;33m,\u001b[0m \u001b[0margs\u001b[0m\u001b[1;33m,\u001b[0m \u001b[0mkwargs\u001b[0m \u001b[1;32min\u001b[0m \u001b[0mself\u001b[0m\u001b[1;33m.\u001b[0m\u001b[0mitems\u001b[0m\u001b[1;33m]\u001b[0m\u001b[1;33m\u001b[0m\u001b[0m\n\u001b[0m\u001b[0;32m    132\u001b[0m \u001b[1;33m\u001b[0m\u001b[0m\n\u001b[0;32m    133\u001b[0m     \u001b[1;32mdef\u001b[0m \u001b[0m__len__\u001b[0m\u001b[1;33m(\u001b[0m\u001b[0mself\u001b[0m\u001b[1;33m)\u001b[0m\u001b[1;33m:\u001b[0m\u001b[1;33m\u001b[0m\u001b[0m\n",
      "\u001b[1;32mc:\\users\\ben hoscheit\\desktop\\python3\\lib\\site-packages\\sklearn\\externals\\joblib\\parallel.py\u001b[0m in \u001b[0;36m<listcomp>\u001b[1;34m(.0)\u001b[0m\n\u001b[0;32m    129\u001b[0m \u001b[1;33m\u001b[0m\u001b[0m\n\u001b[0;32m    130\u001b[0m     \u001b[1;32mdef\u001b[0m \u001b[0m__call__\u001b[0m\u001b[1;33m(\u001b[0m\u001b[0mself\u001b[0m\u001b[1;33m)\u001b[0m\u001b[1;33m:\u001b[0m\u001b[1;33m\u001b[0m\u001b[0m\n\u001b[1;32m--> 131\u001b[1;33m         \u001b[1;32mreturn\u001b[0m \u001b[1;33m[\u001b[0m\u001b[0mfunc\u001b[0m\u001b[1;33m(\u001b[0m\u001b[1;33m*\u001b[0m\u001b[0margs\u001b[0m\u001b[1;33m,\u001b[0m \u001b[1;33m**\u001b[0m\u001b[0mkwargs\u001b[0m\u001b[1;33m)\u001b[0m \u001b[1;32mfor\u001b[0m \u001b[0mfunc\u001b[0m\u001b[1;33m,\u001b[0m \u001b[0margs\u001b[0m\u001b[1;33m,\u001b[0m \u001b[0mkwargs\u001b[0m \u001b[1;32min\u001b[0m \u001b[0mself\u001b[0m\u001b[1;33m.\u001b[0m\u001b[0mitems\u001b[0m\u001b[1;33m]\u001b[0m\u001b[1;33m\u001b[0m\u001b[0m\n\u001b[0m\u001b[0;32m    132\u001b[0m \u001b[1;33m\u001b[0m\u001b[0m\n\u001b[0;32m    133\u001b[0m     \u001b[1;32mdef\u001b[0m \u001b[0m__len__\u001b[0m\u001b[1;33m(\u001b[0m\u001b[0mself\u001b[0m\u001b[1;33m)\u001b[0m\u001b[1;33m:\u001b[0m\u001b[1;33m\u001b[0m\u001b[0m\n",
      "\u001b[1;32mc:\\users\\ben hoscheit\\desktop\\python3\\lib\\site-packages\\sklearn\\model_selection\\_validation.py\u001b[0m in \u001b[0;36m_fit_and_score\u001b[1;34m(estimator, X, y, scorer, train, test, verbose, parameters, fit_params, return_train_score, return_parameters, return_n_test_samples, return_times, error_score)\u001b[0m\n\u001b[0;32m    456\u001b[0m             \u001b[0mestimator\u001b[0m\u001b[1;33m.\u001b[0m\u001b[0mfit\u001b[0m\u001b[1;33m(\u001b[0m\u001b[0mX_train\u001b[0m\u001b[1;33m,\u001b[0m \u001b[1;33m**\u001b[0m\u001b[0mfit_params\u001b[0m\u001b[1;33m)\u001b[0m\u001b[1;33m\u001b[0m\u001b[0m\n\u001b[0;32m    457\u001b[0m         \u001b[1;32melse\u001b[0m\u001b[1;33m:\u001b[0m\u001b[1;33m\u001b[0m\u001b[0m\n\u001b[1;32m--> 458\u001b[1;33m             \u001b[0mestimator\u001b[0m\u001b[1;33m.\u001b[0m\u001b[0mfit\u001b[0m\u001b[1;33m(\u001b[0m\u001b[0mX_train\u001b[0m\u001b[1;33m,\u001b[0m \u001b[0my_train\u001b[0m\u001b[1;33m,\u001b[0m \u001b[1;33m**\u001b[0m\u001b[0mfit_params\u001b[0m\u001b[1;33m)\u001b[0m\u001b[1;33m\u001b[0m\u001b[0m\n\u001b[0m\u001b[0;32m    459\u001b[0m \u001b[1;33m\u001b[0m\u001b[0m\n\u001b[0;32m    460\u001b[0m     \u001b[1;32mexcept\u001b[0m \u001b[0mException\u001b[0m \u001b[1;32mas\u001b[0m \u001b[0me\u001b[0m\u001b[1;33m:\u001b[0m\u001b[1;33m\u001b[0m\u001b[0m\n",
      "\u001b[1;32mc:\\users\\ben hoscheit\\desktop\\python3\\lib\\site-packages\\sklearn\\ensemble\\forest.py\u001b[0m in \u001b[0;36mfit\u001b[1;34m(self, X, y, sample_weight)\u001b[0m\n\u001b[0;32m    326\u001b[0m                     \u001b[0mt\u001b[0m\u001b[1;33m,\u001b[0m \u001b[0mself\u001b[0m\u001b[1;33m,\u001b[0m \u001b[0mX\u001b[0m\u001b[1;33m,\u001b[0m \u001b[0my\u001b[0m\u001b[1;33m,\u001b[0m \u001b[0msample_weight\u001b[0m\u001b[1;33m,\u001b[0m \u001b[0mi\u001b[0m\u001b[1;33m,\u001b[0m \u001b[0mlen\u001b[0m\u001b[1;33m(\u001b[0m\u001b[0mtrees\u001b[0m\u001b[1;33m)\u001b[0m\u001b[1;33m,\u001b[0m\u001b[1;33m\u001b[0m\u001b[0m\n\u001b[0;32m    327\u001b[0m                     verbose=self.verbose, class_weight=self.class_weight)\n\u001b[1;32m--> 328\u001b[1;33m                 for i, t in enumerate(trees))\n\u001b[0m\u001b[0;32m    329\u001b[0m \u001b[1;33m\u001b[0m\u001b[0m\n\u001b[0;32m    330\u001b[0m             \u001b[1;31m# Collect newly grown trees\u001b[0m\u001b[1;33m\u001b[0m\u001b[1;33m\u001b[0m\u001b[0m\n",
      "\u001b[1;32mc:\\users\\ben hoscheit\\desktop\\python3\\lib\\site-packages\\sklearn\\externals\\joblib\\parallel.py\u001b[0m in \u001b[0;36m__call__\u001b[1;34m(self, iterable)\u001b[0m\n\u001b[0;32m    777\u001b[0m             \u001b[1;31m# was dispatched. In particular this covers the edge\u001b[0m\u001b[1;33m\u001b[0m\u001b[1;33m\u001b[0m\u001b[0m\n\u001b[0;32m    778\u001b[0m             \u001b[1;31m# case of Parallel used with an exhausted iterator.\u001b[0m\u001b[1;33m\u001b[0m\u001b[1;33m\u001b[0m\u001b[0m\n\u001b[1;32m--> 779\u001b[1;33m             \u001b[1;32mwhile\u001b[0m \u001b[0mself\u001b[0m\u001b[1;33m.\u001b[0m\u001b[0mdispatch_one_batch\u001b[0m\u001b[1;33m(\u001b[0m\u001b[0miterator\u001b[0m\u001b[1;33m)\u001b[0m\u001b[1;33m:\u001b[0m\u001b[1;33m\u001b[0m\u001b[0m\n\u001b[0m\u001b[0;32m    780\u001b[0m                 \u001b[0mself\u001b[0m\u001b[1;33m.\u001b[0m\u001b[0m_iterating\u001b[0m \u001b[1;33m=\u001b[0m \u001b[1;32mTrue\u001b[0m\u001b[1;33m\u001b[0m\u001b[0m\n\u001b[0;32m    781\u001b[0m             \u001b[1;32melse\u001b[0m\u001b[1;33m:\u001b[0m\u001b[1;33m\u001b[0m\u001b[0m\n",
      "\u001b[1;32mc:\\users\\ben hoscheit\\desktop\\python3\\lib\\site-packages\\sklearn\\externals\\joblib\\parallel.py\u001b[0m in \u001b[0;36mdispatch_one_batch\u001b[1;34m(self, iterator)\u001b[0m\n\u001b[0;32m    623\u001b[0m                 \u001b[1;32mreturn\u001b[0m \u001b[1;32mFalse\u001b[0m\u001b[1;33m\u001b[0m\u001b[0m\n\u001b[0;32m    624\u001b[0m             \u001b[1;32melse\u001b[0m\u001b[1;33m:\u001b[0m\u001b[1;33m\u001b[0m\u001b[0m\n\u001b[1;32m--> 625\u001b[1;33m                 \u001b[0mself\u001b[0m\u001b[1;33m.\u001b[0m\u001b[0m_dispatch\u001b[0m\u001b[1;33m(\u001b[0m\u001b[0mtasks\u001b[0m\u001b[1;33m)\u001b[0m\u001b[1;33m\u001b[0m\u001b[0m\n\u001b[0m\u001b[0;32m    626\u001b[0m                 \u001b[1;32mreturn\u001b[0m \u001b[1;32mTrue\u001b[0m\u001b[1;33m\u001b[0m\u001b[0m\n\u001b[0;32m    627\u001b[0m \u001b[1;33m\u001b[0m\u001b[0m\n",
      "\u001b[1;32mc:\\users\\ben hoscheit\\desktop\\python3\\lib\\site-packages\\sklearn\\externals\\joblib\\parallel.py\u001b[0m in \u001b[0;36m_dispatch\u001b[1;34m(self, batch)\u001b[0m\n\u001b[0;32m    586\u001b[0m         \u001b[0mdispatch_timestamp\u001b[0m \u001b[1;33m=\u001b[0m \u001b[0mtime\u001b[0m\u001b[1;33m.\u001b[0m\u001b[0mtime\u001b[0m\u001b[1;33m(\u001b[0m\u001b[1;33m)\u001b[0m\u001b[1;33m\u001b[0m\u001b[0m\n\u001b[0;32m    587\u001b[0m         \u001b[0mcb\u001b[0m \u001b[1;33m=\u001b[0m \u001b[0mBatchCompletionCallBack\u001b[0m\u001b[1;33m(\u001b[0m\u001b[0mdispatch_timestamp\u001b[0m\u001b[1;33m,\u001b[0m \u001b[0mlen\u001b[0m\u001b[1;33m(\u001b[0m\u001b[0mbatch\u001b[0m\u001b[1;33m)\u001b[0m\u001b[1;33m,\u001b[0m \u001b[0mself\u001b[0m\u001b[1;33m)\u001b[0m\u001b[1;33m\u001b[0m\u001b[0m\n\u001b[1;32m--> 588\u001b[1;33m         \u001b[0mjob\u001b[0m \u001b[1;33m=\u001b[0m \u001b[0mself\u001b[0m\u001b[1;33m.\u001b[0m\u001b[0m_backend\u001b[0m\u001b[1;33m.\u001b[0m\u001b[0mapply_async\u001b[0m\u001b[1;33m(\u001b[0m\u001b[0mbatch\u001b[0m\u001b[1;33m,\u001b[0m \u001b[0mcallback\u001b[0m\u001b[1;33m=\u001b[0m\u001b[0mcb\u001b[0m\u001b[1;33m)\u001b[0m\u001b[1;33m\u001b[0m\u001b[0m\n\u001b[0m\u001b[0;32m    589\u001b[0m         \u001b[0mself\u001b[0m\u001b[1;33m.\u001b[0m\u001b[0m_jobs\u001b[0m\u001b[1;33m.\u001b[0m\u001b[0mappend\u001b[0m\u001b[1;33m(\u001b[0m\u001b[0mjob\u001b[0m\u001b[1;33m)\u001b[0m\u001b[1;33m\u001b[0m\u001b[0m\n\u001b[0;32m    590\u001b[0m \u001b[1;33m\u001b[0m\u001b[0m\n",
      "\u001b[1;32mc:\\users\\ben hoscheit\\desktop\\python3\\lib\\site-packages\\sklearn\\externals\\joblib\\_parallel_backends.py\u001b[0m in \u001b[0;36mapply_async\u001b[1;34m(self, func, callback)\u001b[0m\n\u001b[0;32m    109\u001b[0m     \u001b[1;32mdef\u001b[0m \u001b[0mapply_async\u001b[0m\u001b[1;33m(\u001b[0m\u001b[0mself\u001b[0m\u001b[1;33m,\u001b[0m \u001b[0mfunc\u001b[0m\u001b[1;33m,\u001b[0m \u001b[0mcallback\u001b[0m\u001b[1;33m=\u001b[0m\u001b[1;32mNone\u001b[0m\u001b[1;33m)\u001b[0m\u001b[1;33m:\u001b[0m\u001b[1;33m\u001b[0m\u001b[0m\n\u001b[0;32m    110\u001b[0m         \u001b[1;34m\"\"\"Schedule a func to be run\"\"\"\u001b[0m\u001b[1;33m\u001b[0m\u001b[0m\n\u001b[1;32m--> 111\u001b[1;33m         \u001b[0mresult\u001b[0m \u001b[1;33m=\u001b[0m \u001b[0mImmediateResult\u001b[0m\u001b[1;33m(\u001b[0m\u001b[0mfunc\u001b[0m\u001b[1;33m)\u001b[0m\u001b[1;33m\u001b[0m\u001b[0m\n\u001b[0m\u001b[0;32m    112\u001b[0m         \u001b[1;32mif\u001b[0m \u001b[0mcallback\u001b[0m\u001b[1;33m:\u001b[0m\u001b[1;33m\u001b[0m\u001b[0m\n\u001b[0;32m    113\u001b[0m             \u001b[0mcallback\u001b[0m\u001b[1;33m(\u001b[0m\u001b[0mresult\u001b[0m\u001b[1;33m)\u001b[0m\u001b[1;33m\u001b[0m\u001b[0m\n",
      "\u001b[1;32mc:\\users\\ben hoscheit\\desktop\\python3\\lib\\site-packages\\sklearn\\externals\\joblib\\_parallel_backends.py\u001b[0m in \u001b[0;36m__init__\u001b[1;34m(self, batch)\u001b[0m\n\u001b[0;32m    330\u001b[0m         \u001b[1;31m# Don't delay the application, to avoid keeping the input\u001b[0m\u001b[1;33m\u001b[0m\u001b[1;33m\u001b[0m\u001b[0m\n\u001b[0;32m    331\u001b[0m         \u001b[1;31m# arguments in memory\u001b[0m\u001b[1;33m\u001b[0m\u001b[1;33m\u001b[0m\u001b[0m\n\u001b[1;32m--> 332\u001b[1;33m         \u001b[0mself\u001b[0m\u001b[1;33m.\u001b[0m\u001b[0mresults\u001b[0m \u001b[1;33m=\u001b[0m \u001b[0mbatch\u001b[0m\u001b[1;33m(\u001b[0m\u001b[1;33m)\u001b[0m\u001b[1;33m\u001b[0m\u001b[0m\n\u001b[0m\u001b[0;32m    333\u001b[0m \u001b[1;33m\u001b[0m\u001b[0m\n\u001b[0;32m    334\u001b[0m     \u001b[1;32mdef\u001b[0m \u001b[0mget\u001b[0m\u001b[1;33m(\u001b[0m\u001b[0mself\u001b[0m\u001b[1;33m)\u001b[0m\u001b[1;33m:\u001b[0m\u001b[1;33m\u001b[0m\u001b[0m\n",
      "\u001b[1;32mc:\\users\\ben hoscheit\\desktop\\python3\\lib\\site-packages\\sklearn\\externals\\joblib\\parallel.py\u001b[0m in \u001b[0;36m__call__\u001b[1;34m(self)\u001b[0m\n\u001b[0;32m    129\u001b[0m \u001b[1;33m\u001b[0m\u001b[0m\n\u001b[0;32m    130\u001b[0m     \u001b[1;32mdef\u001b[0m \u001b[0m__call__\u001b[0m\u001b[1;33m(\u001b[0m\u001b[0mself\u001b[0m\u001b[1;33m)\u001b[0m\u001b[1;33m:\u001b[0m\u001b[1;33m\u001b[0m\u001b[0m\n\u001b[1;32m--> 131\u001b[1;33m         \u001b[1;32mreturn\u001b[0m \u001b[1;33m[\u001b[0m\u001b[0mfunc\u001b[0m\u001b[1;33m(\u001b[0m\u001b[1;33m*\u001b[0m\u001b[0margs\u001b[0m\u001b[1;33m,\u001b[0m \u001b[1;33m**\u001b[0m\u001b[0mkwargs\u001b[0m\u001b[1;33m)\u001b[0m \u001b[1;32mfor\u001b[0m \u001b[0mfunc\u001b[0m\u001b[1;33m,\u001b[0m \u001b[0margs\u001b[0m\u001b[1;33m,\u001b[0m \u001b[0mkwargs\u001b[0m \u001b[1;32min\u001b[0m \u001b[0mself\u001b[0m\u001b[1;33m.\u001b[0m\u001b[0mitems\u001b[0m\u001b[1;33m]\u001b[0m\u001b[1;33m\u001b[0m\u001b[0m\n\u001b[0m\u001b[0;32m    132\u001b[0m \u001b[1;33m\u001b[0m\u001b[0m\n\u001b[0;32m    133\u001b[0m     \u001b[1;32mdef\u001b[0m \u001b[0m__len__\u001b[0m\u001b[1;33m(\u001b[0m\u001b[0mself\u001b[0m\u001b[1;33m)\u001b[0m\u001b[1;33m:\u001b[0m\u001b[1;33m\u001b[0m\u001b[0m\n",
      "\u001b[1;32mc:\\users\\ben hoscheit\\desktop\\python3\\lib\\site-packages\\sklearn\\externals\\joblib\\parallel.py\u001b[0m in \u001b[0;36m<listcomp>\u001b[1;34m(.0)\u001b[0m\n\u001b[0;32m    129\u001b[0m \u001b[1;33m\u001b[0m\u001b[0m\n\u001b[0;32m    130\u001b[0m     \u001b[1;32mdef\u001b[0m \u001b[0m__call__\u001b[0m\u001b[1;33m(\u001b[0m\u001b[0mself\u001b[0m\u001b[1;33m)\u001b[0m\u001b[1;33m:\u001b[0m\u001b[1;33m\u001b[0m\u001b[0m\n\u001b[1;32m--> 131\u001b[1;33m         \u001b[1;32mreturn\u001b[0m \u001b[1;33m[\u001b[0m\u001b[0mfunc\u001b[0m\u001b[1;33m(\u001b[0m\u001b[1;33m*\u001b[0m\u001b[0margs\u001b[0m\u001b[1;33m,\u001b[0m \u001b[1;33m**\u001b[0m\u001b[0mkwargs\u001b[0m\u001b[1;33m)\u001b[0m \u001b[1;32mfor\u001b[0m \u001b[0mfunc\u001b[0m\u001b[1;33m,\u001b[0m \u001b[0margs\u001b[0m\u001b[1;33m,\u001b[0m \u001b[0mkwargs\u001b[0m \u001b[1;32min\u001b[0m \u001b[0mself\u001b[0m\u001b[1;33m.\u001b[0m\u001b[0mitems\u001b[0m\u001b[1;33m]\u001b[0m\u001b[1;33m\u001b[0m\u001b[0m\n\u001b[0m\u001b[0;32m    132\u001b[0m \u001b[1;33m\u001b[0m\u001b[0m\n\u001b[0;32m    133\u001b[0m     \u001b[1;32mdef\u001b[0m \u001b[0m__len__\u001b[0m\u001b[1;33m(\u001b[0m\u001b[0mself\u001b[0m\u001b[1;33m)\u001b[0m\u001b[1;33m:\u001b[0m\u001b[1;33m\u001b[0m\u001b[0m\n",
      "\u001b[1;32mc:\\users\\ben hoscheit\\desktop\\python3\\lib\\site-packages\\sklearn\\ensemble\\forest.py\u001b[0m in \u001b[0;36m_parallel_build_trees\u001b[1;34m(tree, forest, X, y, sample_weight, tree_idx, n_trees, verbose, class_weight)\u001b[0m\n\u001b[0;32m    119\u001b[0m             \u001b[0mcurr_sample_weight\u001b[0m \u001b[1;33m*=\u001b[0m \u001b[0mcompute_sample_weight\u001b[0m\u001b[1;33m(\u001b[0m\u001b[1;34m'balanced'\u001b[0m\u001b[1;33m,\u001b[0m \u001b[0my\u001b[0m\u001b[1;33m,\u001b[0m \u001b[0mindices\u001b[0m\u001b[1;33m)\u001b[0m\u001b[1;33m\u001b[0m\u001b[0m\n\u001b[0;32m    120\u001b[0m \u001b[1;33m\u001b[0m\u001b[0m\n\u001b[1;32m--> 121\u001b[1;33m         \u001b[0mtree\u001b[0m\u001b[1;33m.\u001b[0m\u001b[0mfit\u001b[0m\u001b[1;33m(\u001b[0m\u001b[0mX\u001b[0m\u001b[1;33m,\u001b[0m \u001b[0my\u001b[0m\u001b[1;33m,\u001b[0m \u001b[0msample_weight\u001b[0m\u001b[1;33m=\u001b[0m\u001b[0mcurr_sample_weight\u001b[0m\u001b[1;33m,\u001b[0m \u001b[0mcheck_input\u001b[0m\u001b[1;33m=\u001b[0m\u001b[1;32mFalse\u001b[0m\u001b[1;33m)\u001b[0m\u001b[1;33m\u001b[0m\u001b[0m\n\u001b[0m\u001b[0;32m    122\u001b[0m     \u001b[1;32melse\u001b[0m\u001b[1;33m:\u001b[0m\u001b[1;33m\u001b[0m\u001b[0m\n\u001b[0;32m    123\u001b[0m         \u001b[0mtree\u001b[0m\u001b[1;33m.\u001b[0m\u001b[0mfit\u001b[0m\u001b[1;33m(\u001b[0m\u001b[0mX\u001b[0m\u001b[1;33m,\u001b[0m \u001b[0my\u001b[0m\u001b[1;33m,\u001b[0m \u001b[0msample_weight\u001b[0m\u001b[1;33m=\u001b[0m\u001b[0msample_weight\u001b[0m\u001b[1;33m,\u001b[0m \u001b[0mcheck_input\u001b[0m\u001b[1;33m=\u001b[0m\u001b[1;32mFalse\u001b[0m\u001b[1;33m)\u001b[0m\u001b[1;33m\u001b[0m\u001b[0m\n",
      "\u001b[1;32mc:\\users\\ben hoscheit\\desktop\\python3\\lib\\site-packages\\sklearn\\tree\\tree.py\u001b[0m in \u001b[0;36mfit\u001b[1;34m(self, X, y, sample_weight, check_input, X_idx_sorted)\u001b[0m\n\u001b[0;32m    788\u001b[0m             \u001b[0msample_weight\u001b[0m\u001b[1;33m=\u001b[0m\u001b[0msample_weight\u001b[0m\u001b[1;33m,\u001b[0m\u001b[1;33m\u001b[0m\u001b[0m\n\u001b[0;32m    789\u001b[0m             \u001b[0mcheck_input\u001b[0m\u001b[1;33m=\u001b[0m\u001b[0mcheck_input\u001b[0m\u001b[1;33m,\u001b[0m\u001b[1;33m\u001b[0m\u001b[0m\n\u001b[1;32m--> 790\u001b[1;33m             X_idx_sorted=X_idx_sorted)\n\u001b[0m\u001b[0;32m    791\u001b[0m         \u001b[1;32mreturn\u001b[0m \u001b[0mself\u001b[0m\u001b[1;33m\u001b[0m\u001b[0m\n\u001b[0;32m    792\u001b[0m \u001b[1;33m\u001b[0m\u001b[0m\n",
      "\u001b[1;32mc:\\users\\ben hoscheit\\desktop\\python3\\lib\\site-packages\\sklearn\\tree\\tree.py\u001b[0m in \u001b[0;36mfit\u001b[1;34m(self, X, y, sample_weight, check_input, X_idx_sorted)\u001b[0m\n\u001b[0;32m    360\u001b[0m                                            min_impurity_split)\n\u001b[0;32m    361\u001b[0m \u001b[1;33m\u001b[0m\u001b[0m\n\u001b[1;32m--> 362\u001b[1;33m         \u001b[0mbuilder\u001b[0m\u001b[1;33m.\u001b[0m\u001b[0mbuild\u001b[0m\u001b[1;33m(\u001b[0m\u001b[0mself\u001b[0m\u001b[1;33m.\u001b[0m\u001b[0mtree_\u001b[0m\u001b[1;33m,\u001b[0m \u001b[0mX\u001b[0m\u001b[1;33m,\u001b[0m \u001b[0my\u001b[0m\u001b[1;33m,\u001b[0m \u001b[0msample_weight\u001b[0m\u001b[1;33m,\u001b[0m \u001b[0mX_idx_sorted\u001b[0m\u001b[1;33m)\u001b[0m\u001b[1;33m\u001b[0m\u001b[0m\n\u001b[0m\u001b[0;32m    363\u001b[0m \u001b[1;33m\u001b[0m\u001b[0m\n\u001b[0;32m    364\u001b[0m         \u001b[1;32mif\u001b[0m \u001b[0mself\u001b[0m\u001b[1;33m.\u001b[0m\u001b[0mn_outputs_\u001b[0m \u001b[1;33m==\u001b[0m \u001b[1;36m1\u001b[0m\u001b[1;33m:\u001b[0m\u001b[1;33m\u001b[0m\u001b[0m\n",
      "\u001b[1;31mKeyboardInterrupt\u001b[0m: "
     ]
    }
   ],
   "source": [
    "# Grid Search\n",
    "\n",
    "import numpy as np\n",
    "\n",
    "from time import time\n",
    "from scipy.stats import randint as sp_randint\n",
    "\n",
    "from sklearn.model_selection import GridSearchCV\n",
    "from sklearn.model_selection import RandomizedSearchCV\n",
    "from sklearn.datasets import load_digits\n",
    "from sklearn.ensemble import RandomForestClassifier\n",
    "\n",
    "# Normalize data\n",
    "\n",
    "x_train_norm = preprocessing.normalize(x_train, norm='l2')\n",
    "\n",
    "# build a classifier\n",
    "clf = RandomForestClassifier(n_estimators=20)\n",
    "\n",
    "\n",
    "# Utility function to report best scores\n",
    "def report(results, n_top=3):\n",
    "    for i in range(1, n_top + 1):\n",
    "        candidates = np.flatnonzero(results['rank_test_score'] == i)\n",
    "        for candidate in candidates:\n",
    "            print(\"Model with rank: {0}\".format(i))\n",
    "            print(\"Mean validation score: {0:.3f} (std: {1:.3f})\".format(\n",
    "                  results['mean_test_score'][candidate],\n",
    "                  results['std_test_score'][candidate]))\n",
    "            print(\"Parameters: {0}\".format(results['params'][candidate]))\n",
    "            print(\"\")\n",
    "\n",
    "\n",
    "# specify parameters and distributions to sample from\n",
    "param_dist = {\"max_depth\": [3, None],\n",
    "              \"max_features\": sp_randint(1, 11),\n",
    "              \"min_samples_split\": sp_randint(2, 11),\n",
    "              \"min_samples_leaf\": sp_randint(1, 11),\n",
    "              \"bootstrap\": [True, False],\n",
    "              \"criterion\": [\"gini\", \"entropy\"]}\n",
    "\n",
    "# run randomized search\n",
    "n_iter_search = 20\n",
    "random_search = RandomizedSearchCV(clf, param_distributions=param_dist,\n",
    "                                   n_iter=n_iter_search)\n",
    "\n",
    "start = time()\n",
    "random_search.fit(x_train_norm, y_train)\n",
    "print(\"RandomizedSearchCV took %.2f seconds for %d candidates\"\n",
    "      \" parameter settings.\" % ((time() - start), n_iter_search))\n",
    "report(random_search.cv_results_)\n",
    "\n",
    "# use a full grid over all parameters\n",
    "param_grid = {\"max_depth\": [3, None],\n",
    "              \"max_features\": [1, 3, 10],\n",
    "              \"min_samples_split\": [2, 3, 10],\n",
    "              \"min_samples_leaf\": [1, 3, 10],\n",
    "              \"bootstrap\": [True, False],\n",
    "              \"criterion\": [\"gini\", \"entropy\"]}\n",
    "\n",
    "# run grid search\n",
    "grid_search = GridSearchCV(clf, param_grid=param_grid)\n",
    "start = time()\n",
    "grid_search.fit(x_train_norm, y_train)\n",
    "\n",
    "print(\"GridSearchCV took %.2f seconds for %d candidate parameter settings.\"\n",
    "      % (time() - start, len(grid_search.cv_results_['params'])))\n",
    "report(grid_search.cv_results_)"
   ]
  },
  {
   "cell_type": "code",
   "execution_count": 39,
   "metadata": {
    "collapsed": true
   },
   "outputs": [],
   "source": [
    "# Naive Bayes\n",
    "# Find most informative features\n",
    "\n",
    "import nltk \n",
    "\n",
    "# normalize data\n",
    "\n",
    "x_train_s, x_val, y_train_s, y_val = train_test_split(x_train, y_train, test_size=0.2, random_state=42)\n",
    "x_train_s_norm = preprocessing.normalize(x_train_s, norm='l2')\n",
    "x_val_norm = preprocessing.normalize(x_val, norm='l2')\n",
    "\n",
    "# Base (1000 Classifiers)\n",
    "\n",
    "# clf = RandomForestClassifier(n_estimators=n_estimators, min_samples_leaf=7, max_depth=30)\n",
    "clf = RandomForestClassifier(n_estimators=1000, min_samples_leaf=7, max_depth=30)\n",
    "clf.fit(x_train_s_norm, y_train_s)\n",
    "\n",
    "print(clf.score(x_val_norm, y_val))"
   ]
  },
  {
   "cell_type": "code",
   "execution_count": 6,
   "metadata": {},
   "outputs": [
    {
     "data": {
      "text/plain": [
       "0.78343750000000001"
      ]
     },
     "execution_count": 6,
     "metadata": {},
     "output_type": "execute_result"
    }
   ],
   "source": [
    "# Gaussian NB\n",
    "\n",
    "# normalize data\n",
    "\n",
    "from sklearn import preprocessing\n",
    "from sklearn.model_selection import train_test_split\n",
    "\n",
    "x_train_s, x_val, y_train_s, y_val = train_test_split(x_train, y_train, test_size=0.2, random_state=42)\n",
    "x_train_s_norm = preprocessing.normalize(x_train_s, norm='l2')\n",
    "x_val_norm = preprocessing.normalize(x_val, norm='l2')\n",
    "\n",
    "from sklearn.naive_bayes import GaussianNB\n",
    "gnb = GaussianNB()\n",
    "gnb.fit(x_train_s_norm, y_train_s)\n",
    "\n",
    "gnb.score(x_val_norm, y_val)"
   ]
  },
  {
   "cell_type": "code",
   "execution_count": 583,
   "metadata": {},
   "outputs": [
    {
     "data": {
      "text/plain": [
       "0.84075"
      ]
     },
     "execution_count": 583,
     "metadata": {},
     "output_type": "execute_result"
    }
   ],
   "source": [
    "# Multinomial NB\n",
    "\n",
    "# normalize data\n",
    "\n",
    "from sklearn import preprocessing\n",
    "from sklearn.model_selection import train_test_split\n",
    "\n",
    "x_train_s, x_val, y_train_s, y_val = train_test_split(x_train, y_train, test_size=0.2, random_state=42)\n",
    "x_train_s_norm = preprocessing.normalize(x_train_s, norm='l2')\n",
    "x_val_norm = preprocessing.normalize(x_val, norm='l2')\n",
    "\n",
    "from sklearn.naive_bayes import MultinomialNB\n",
    "mnb = MultinomialNB(alpha=0.000001)\n",
    "mnb.fit(x_train_s_norm, y_train_s)\n",
    "\n",
    "mnb.score(x_val_norm, y_val)"
   ]
  },
  {
   "cell_type": "code",
   "execution_count": 577,
   "metadata": {
    "collapsed": true
   },
   "outputs": [],
   "source": [
    "# Optimizing\n",
    "\n",
    "cs = []\n",
    "ci = 0.0000001\n",
    "for i in range(5):\n",
    "    ci = 5*ci\n",
    "    cs.append(ci)\n",
    "\n",
    "x_train_s, x_val, y_train_s, y_val = train_test_split(x_train, y_train, test_size=0.2, random_state=42)\n",
    "x_train_s_norm = preprocessing.normalize(x_train_s, norm='l2')\n",
    "x_val_norm = preprocessing.normalize(x_val, norm='l2')\n",
    "\n",
    "opt_c = []\n",
    "for ci in cs:\n",
    "    mnb = MultinomialNB(alpha=ci)\n",
    "    mnb.fit(x_train_s_norm, y_train_s)\n",
    "    opt_c.append(mnb.score(x_val_norm, y_val))"
   ]
  },
  {
   "cell_type": "code",
   "execution_count": 579,
   "metadata": {},
   "outputs": [
    {
     "data": {
      "text/plain": [
       "(0,\n",
       " 0.84075,\n",
       " 5e-07,\n",
       " [0.84075, 0.84075, 0.84075, 0.84075, 0.84075],\n",
       " [5e-07, 2.4999999999999998e-06, 1.2499999999999999e-05, 6.25e-05, 0.0003125])"
      ]
     },
     "execution_count": 579,
     "metadata": {},
     "output_type": "execute_result"
    }
   ],
   "source": [
    "np.argmax(opt_c), opt_c[0], cs[0], opt_c, cs"
   ]
  },
  {
   "cell_type": "code",
   "execution_count": 587,
   "metadata": {},
   "outputs": [
    {
     "name": "stdout",
     "output_type": "stream",
     "text": [
      "   Id  Prediction\n",
      "0   1           1\n",
      "1   2           1\n",
      "2   3           1\n",
      "3   4           0\n",
      "4   5           1\n",
      "5   6           0\n",
      "6   7           1\n",
      "7   8           1\n",
      "8   9           1\n",
      "9  10           0\n"
     ]
    }
   ],
   "source": [
    "# Best MultinomialNB\n",
    "\n",
    "# Normalize data\n",
    "x_train_norm = preprocessing.normalize(x_train, norm='l2')\n",
    "x_test_norm = preprocessing.normalize(x_test, norm='l2')\n",
    "\n",
    "from sklearn.naive_bayes import MultinomialNB\n",
    "mnb = MultinomialNB(alpha=0.000001)\n",
    "mnb.fit(x_train_norm, y_train)\n",
    "\n",
    "y_pred = mnb.predict(x_test_norm)\n",
    "\n",
    "submission = pd.DataFrame({'Id': range(1, len(x_test)+1), 'Prediction': [int(x) for x in y_pred]})\n",
    "print(submission.head(10))\n",
    "\n",
    "submission.to_csv('submission_Multinomial_NB.csv', index=False, header=True)"
   ]
  },
  {
   "cell_type": "code",
   "execution_count": 22,
   "metadata": {},
   "outputs": [
    {
     "data": {
      "text/plain": [
       "0.82343750000000004"
      ]
     },
     "execution_count": 22,
     "metadata": {},
     "output_type": "execute_result"
    }
   ],
   "source": [
    "# Bernoulli NB\n",
    "\n",
    "from sklearn import preprocessing\n",
    "from sklearn.model_selection import train_test_split\n",
    "\n",
    "x_train_s, x_val, y_train_s, y_val = train_test_split(x_train, y_train, test_size=0.2, random_state=42)\n",
    "x_train_s_norm = preprocessing.normalize(x_train_s, norm='l2')\n",
    "x_val_norm = preprocessing.normalize(x_val, norm='l2')\n",
    "\n",
    "from sklearn.naive_bayes import BernoulliNB\n",
    "\n",
    "bnb = BernoulliNB(alpha=0.00001)\n",
    "bnb.fit(x_train_s_norm, y_train_s)\n",
    "\n",
    "bnb.score(x_val_norm, y_val)"
   ]
  },
  {
   "cell_type": "code",
   "execution_count": 13,
   "metadata": {
    "collapsed": true
   },
   "outputs": [],
   "source": [
    "# Optimizing\n",
    "\n",
    "cs = []\n",
    "ci = 0.0000001\n",
    "for i in range(5):\n",
    "    ci = 5*ci\n",
    "    cs.append(ci)\n",
    "\n",
    "x_train_s, x_val, y_train_s, y_val = train_test_split(x_train, y_train, test_size=0.2, random_state=42)\n",
    "x_train_s_norm = preprocessing.normalize(x_train_s, norm='l2')\n",
    "x_val_norm = preprocessing.normalize(x_val, norm='l2')\n",
    "\n",
    "opt_c = []\n",
    "for ci in cs:\n",
    "    bnb = BernoulliNB(alpha=ci)\n",
    "    bnb.fit(x_train_s_norm, y_train_s)\n",
    "    opt_c.append(bnb.score(x_val_norm, y_val))"
   ]
  },
  {
   "cell_type": "code",
   "execution_count": 15,
   "metadata": {},
   "outputs": [
    {
     "data": {
      "text/plain": [
       "(0,\n",
       " 0.82343750000000004,\n",
       " 5e-07,\n",
       " [0.82343750000000004,\n",
       "  0.82343750000000004,\n",
       "  0.82343750000000004,\n",
       "  0.82343750000000004,\n",
       "  0.82343750000000004])"
      ]
     },
     "execution_count": 15,
     "metadata": {},
     "output_type": "execute_result"
    }
   ],
   "source": [
    "np.argmax(opt_c), opt_c[0], cs[0], opt_c"
   ]
  },
  {
   "cell_type": "code",
   "execution_count": 43,
   "metadata": {
    "collapsed": true
   },
   "outputs": [],
   "source": [
    "# Load words"
   ]
  },
  {
   "cell_type": "code",
   "execution_count": 70,
   "metadata": {
    "collapsed": true
   },
   "outputs": [],
   "source": [
    "bag_of_words = []\n",
    "with open('data_train.txt','r') as f:\n",
    "    for line in f:\n",
    "        for word in line.split():\n",
    "             bag_of_words.append(word)\n",
    "                \n",
    "bag_of_words = bag_of_words[:1000]"
   ]
  },
  {
   "cell_type": "code",
   "execution_count": 72,
   "metadata": {},
   "outputs": [
    {
     "data": {
      "text/plain": [
       "['Label', 'thi', 'book', 'wa', 'one', 'read', 'movi', 'like', 'great', 'good']"
      ]
     },
     "execution_count": 72,
     "metadata": {},
     "output_type": "execute_result"
    }
   ],
   "source": [
    "bag_of_words[:10]"
   ]
  },
  {
   "cell_type": "code",
   "execution_count": 79,
   "metadata": {},
   "outputs": [
    {
     "data": {
      "text/plain": [
       "(array([ 0.,  0.,  0.,  0.,  0.,  0.,  0.,  0.,  0.,  0.]), 1.0)"
      ]
     },
     "execution_count": 79,
     "metadata": {},
     "output_type": "execute_result"
    }
   ],
   "source": [
    "x_train[0][:10], y_train[0]"
   ]
  },
  {
   "cell_type": "code",
   "execution_count": 209,
   "metadata": {
    "collapsed": true
   },
   "outputs": [],
   "source": [
    "sent = []\n",
    "for i in range(len(x_train)):\n",
    "    for w in range(len(bag_of_words)):\n",
    "        if x_train[i][w] == 0:\n",
    "            sent.append(({bag_of_words[w]: False}, y_train[i]))\n",
    "        elif x_train[i][w] == 1:\n",
    "            sent.append(({bag_of_words[w]: True}, y_train[i]))\n",
    "\n",
    "# [({'this': True, 'love': True, 'view': False}, 'pos'), . . .]"
   ]
  },
  {
   "cell_type": "code",
   "execution_count": 213,
   "metadata": {
    "scrolled": true
   },
   "outputs": [
    {
     "data": {
      "text/plain": [
       "[({'Label': False}, 1.0),\n",
       " ({'thi': False}, 1.0),\n",
       " ({'book': False}, 1.0),\n",
       " ({'wa': False}, 1.0),\n",
       " ({'one': False}, 1.0),\n",
       " ({'read': False}, 1.0),\n",
       " ({'movi': False}, 1.0),\n",
       " ({'like': False}, 1.0),\n",
       " ({'great': False}, 1.0),\n",
       " ({'good': False}, 1.0)]"
      ]
     },
     "execution_count": 213,
     "metadata": {},
     "output_type": "execute_result"
    }
   ],
   "source": [
    "sent[:10]"
   ]
  },
  {
   "cell_type": "code",
   "execution_count": 214,
   "metadata": {
    "collapsed": true
   },
   "outputs": [],
   "source": [
    "classifier = nltk.NaiveBayesClassifier.train(sent)"
   ]
  },
  {
   "cell_type": "code",
   "execution_count": 216,
   "metadata": {},
   "outputs": [
    {
     "name": "stdout",
     "output_type": "stream",
     "text": [
      "Most Informative Features\n",
      "                    loud = True              0.0 : 1.0    =     45.8 : 1.0\n",
      "                    room = True              0.0 : 1.0    =     26.2 : 1.0\n",
      "                    show = True              0.0 : 1.0    =     23.0 : 1.0\n",
      "                    tool = True              0.0 : 1.0    =     13.9 : 1.0\n",
      "                 impress = True              0.0 : 1.0    =     13.6 : 1.0\n",
      "                    tell = True              0.0 : 1.0    =     13.0 : 1.0\n",
      "                    area = True              1.0 : 0.0    =     12.1 : 1.0\n",
      "                    emot = True              0.0 : 1.0    =     11.4 : 1.0\n",
      "                  singer = True              0.0 : 1.0    =     11.2 : 1.0\n",
      "                    fine = True              0.0 : 1.0    =      9.6 : 1.0\n"
     ]
    }
   ],
   "source": [
    "#  Most informative words\n",
    "\n",
    "classifier.show_most_informative_features(10)"
   ]
  },
  {
   "cell_type": "code",
   "execution_count": null,
   "metadata": {
    "collapsed": true
   },
   "outputs": [],
   "source": [
    "sent_val = []\n",
    "for i in range(len(x_val)):\n",
    "    for w in range(len(bag_of_words)):\n",
    "        if x_train[i][w] == 0:\n",
    "            sent.append(({bag_of_words[w]: False}, y_train[i]))\n",
    "        elif x_train[i][w] == 1:\n",
    "            sent.append(({bag_of_words[w]: True}, y_train[i]))"
   ]
  },
  {
   "cell_type": "code",
   "execution_count": 219,
   "metadata": {},
   "outputs": [
    {
     "data": {
      "text/plain": [
       "0.50697712663941019"
      ]
     },
     "execution_count": 219,
     "metadata": {},
     "output_type": "execute_result"
    }
   ],
   "source": [
    "nltk.classify.accuracy(classifier, sent)"
   ]
  },
  {
   "cell_type": "code",
   "execution_count": 575,
   "metadata": {},
   "outputs": [
    {
     "data": {
      "text/plain": [
       "0.81674999999999998"
      ]
     },
     "execution_count": 575,
     "metadata": {},
     "output_type": "execute_result"
    }
   ],
   "source": [
    "# GBM\n",
    "\n",
    "from sklearn import preprocessing\n",
    "from sklearn.model_selection import train_test_split\n",
    "\n",
    "x_train_s, x_val, y_train_s, y_val = train_test_split(x_train, y_train, test_size=0.2, random_state=42)\n",
    "x_train_s_norm = preprocessing.normalize(x_train_s, norm='l2')\n",
    "x_val_norm = preprocessing.normalize(x_val, norm='l2')\n",
    "\n",
    "from sklearn.ensemble import GradientBoostingClassifier\n",
    "\n",
    "clf = GradientBoostingClassifier(n_estimators=500, learning_rate=1, max_depth=3, random_state=0)\n",
    "\n",
    "clf.fit(x_train_s_norm, y_train_s)\n",
    "\n",
    "clf.score(x_val_norm, y_val)"
   ]
  },
  {
   "cell_type": "code",
   "execution_count": 598,
   "metadata": {},
   "outputs": [
    {
     "name": "stdout",
     "output_type": "stream",
     "text": [
      "   Id  Prediction\n",
      "0   1           1\n",
      "1   2           1\n",
      "2   3           0\n",
      "3   4           0\n",
      "4   5           0\n",
      "5   6           0\n",
      "6   7           1\n",
      "7   8           1\n",
      "8   9           1\n",
      "9  10           0\n"
     ]
    }
   ],
   "source": [
    "# Best GBM\n",
    "\n",
    "# Normalize data\n",
    "x_train_norm = preprocessing.normalize(x_train, norm='l2')\n",
    "x_test_norm = preprocessing.normalize(x_test, norm='l2')\n",
    "\n",
    "clf = GradientBoostingClassifier(n_estimators=500, learning_rate=1, max_depth=3, random_state=0)\n",
    "clf.fit(x_train_norm, y_train)\n",
    "\n",
    "y_pred = clf.predict(x_test_norm)\n",
    "\n",
    "submission = pd.DataFrame({'Id': range(1, len(x_test)+1), 'Prediction': [int(x) for x in y_pred]})\n",
    "print(submission.head(10))\n",
    "\n",
    "submission.to_csv('submission_GBM.csv', index=False, header=True)"
   ]
  },
  {
   "cell_type": "code",
   "execution_count": 40,
   "metadata": {},
   "outputs": [
    {
     "data": {
      "text/plain": [
       "0.80312499999999998"
      ]
     },
     "execution_count": 40,
     "metadata": {},
     "output_type": "execute_result"
    }
   ],
   "source": [
    "# AdaBoost\n",
    "\n",
    "from sklearn import preprocessing\n",
    "from sklearn.model_selection import train_test_split\n",
    "\n",
    "x_train_s, x_val, y_train_s, y_val = train_test_split(x_train, y_train, test_size=0.2, random_state=42)\n",
    "x_train_s_norm = preprocessing.normalize(x_train_s, norm='l2')\n",
    "x_val_norm = preprocessing.normalize(x_val, norm='l2')\n",
    "\n",
    "from sklearn.ensemble import AdaBoostClassifier\n",
    "\n",
    "clf = AdaBoostClassifier(n_estimators=100, learning_rate=1)\n",
    "                   \n",
    "clf.fit(x_train_s_norm, y_train_s)\n",
    "\n",
    "clf.score(x_val_norm, y_val)                   "
   ]
  },
  {
   "cell_type": "code",
   "execution_count": 188,
   "metadata": {},
   "outputs": [
    {
     "data": {
      "text/html": [
       "<div>\n",
       "<style scoped>\n",
       "    .dataframe tbody tr th:only-of-type {\n",
       "        vertical-align: middle;\n",
       "    }\n",
       "\n",
       "    .dataframe tbody tr th {\n",
       "        vertical-align: top;\n",
       "    }\n",
       "\n",
       "    .dataframe thead th {\n",
       "        text-align: right;\n",
       "    }\n",
       "</style>\n",
       "<table border=\"1\" class=\"dataframe\">\n",
       "  <thead>\n",
       "    <tr style=\"text-align: right;\">\n",
       "      <th></th>\n",
       "      <th>Id</th>\n",
       "      <th>Prediction0</th>\n",
       "      <th>Prediction1</th>\n",
       "      <th>Prediction2</th>\n",
       "    </tr>\n",
       "  </thead>\n",
       "  <tbody>\n",
       "    <tr>\n",
       "      <th>0</th>\n",
       "      <td>1</td>\n",
       "      <td>1</td>\n",
       "      <td>1</td>\n",
       "      <td>1</td>\n",
       "    </tr>\n",
       "    <tr>\n",
       "      <th>1</th>\n",
       "      <td>2</td>\n",
       "      <td>1</td>\n",
       "      <td>1</td>\n",
       "      <td>1</td>\n",
       "    </tr>\n",
       "    <tr>\n",
       "      <th>2</th>\n",
       "      <td>3</td>\n",
       "      <td>0</td>\n",
       "      <td>0</td>\n",
       "      <td>0</td>\n",
       "    </tr>\n",
       "    <tr>\n",
       "      <th>3</th>\n",
       "      <td>4</td>\n",
       "      <td>0</td>\n",
       "      <td>0</td>\n",
       "      <td>0</td>\n",
       "    </tr>\n",
       "    <tr>\n",
       "      <th>4</th>\n",
       "      <td>5</td>\n",
       "      <td>0</td>\n",
       "      <td>0</td>\n",
       "      <td>1</td>\n",
       "    </tr>\n",
       "    <tr>\n",
       "      <th>5</th>\n",
       "      <td>6</td>\n",
       "      <td>0</td>\n",
       "      <td>0</td>\n",
       "      <td>0</td>\n",
       "    </tr>\n",
       "    <tr>\n",
       "      <th>6</th>\n",
       "      <td>7</td>\n",
       "      <td>1</td>\n",
       "      <td>1</td>\n",
       "      <td>1</td>\n",
       "    </tr>\n",
       "    <tr>\n",
       "      <th>7</th>\n",
       "      <td>8</td>\n",
       "      <td>1</td>\n",
       "      <td>1</td>\n",
       "      <td>1</td>\n",
       "    </tr>\n",
       "    <tr>\n",
       "      <th>8</th>\n",
       "      <td>9</td>\n",
       "      <td>1</td>\n",
       "      <td>1</td>\n",
       "      <td>1</td>\n",
       "    </tr>\n",
       "    <tr>\n",
       "      <th>9</th>\n",
       "      <td>10</td>\n",
       "      <td>0</td>\n",
       "      <td>0</td>\n",
       "      <td>0</td>\n",
       "    </tr>\n",
       "    <tr>\n",
       "      <th>10</th>\n",
       "      <td>11</td>\n",
       "      <td>1</td>\n",
       "      <td>1</td>\n",
       "      <td>1</td>\n",
       "    </tr>\n",
       "    <tr>\n",
       "      <th>11</th>\n",
       "      <td>12</td>\n",
       "      <td>1</td>\n",
       "      <td>0</td>\n",
       "      <td>1</td>\n",
       "    </tr>\n",
       "    <tr>\n",
       "      <th>12</th>\n",
       "      <td>13</td>\n",
       "      <td>1</td>\n",
       "      <td>1</td>\n",
       "      <td>0</td>\n",
       "    </tr>\n",
       "    <tr>\n",
       "      <th>13</th>\n",
       "      <td>14</td>\n",
       "      <td>0</td>\n",
       "      <td>0</td>\n",
       "      <td>0</td>\n",
       "    </tr>\n",
       "    <tr>\n",
       "      <th>14</th>\n",
       "      <td>15</td>\n",
       "      <td>0</td>\n",
       "      <td>0</td>\n",
       "      <td>0</td>\n",
       "    </tr>\n",
       "    <tr>\n",
       "      <th>15</th>\n",
       "      <td>16</td>\n",
       "      <td>1</td>\n",
       "      <td>1</td>\n",
       "      <td>1</td>\n",
       "    </tr>\n",
       "    <tr>\n",
       "      <th>16</th>\n",
       "      <td>17</td>\n",
       "      <td>0</td>\n",
       "      <td>0</td>\n",
       "      <td>0</td>\n",
       "    </tr>\n",
       "    <tr>\n",
       "      <th>17</th>\n",
       "      <td>18</td>\n",
       "      <td>0</td>\n",
       "      <td>0</td>\n",
       "      <td>0</td>\n",
       "    </tr>\n",
       "    <tr>\n",
       "      <th>18</th>\n",
       "      <td>19</td>\n",
       "      <td>1</td>\n",
       "      <td>1</td>\n",
       "      <td>1</td>\n",
       "    </tr>\n",
       "    <tr>\n",
       "      <th>19</th>\n",
       "      <td>20</td>\n",
       "      <td>0</td>\n",
       "      <td>0</td>\n",
       "      <td>0</td>\n",
       "    </tr>\n",
       "    <tr>\n",
       "      <th>20</th>\n",
       "      <td>21</td>\n",
       "      <td>0</td>\n",
       "      <td>0</td>\n",
       "      <td>0</td>\n",
       "    </tr>\n",
       "    <tr>\n",
       "      <th>21</th>\n",
       "      <td>22</td>\n",
       "      <td>1</td>\n",
       "      <td>1</td>\n",
       "      <td>1</td>\n",
       "    </tr>\n",
       "    <tr>\n",
       "      <th>22</th>\n",
       "      <td>23</td>\n",
       "      <td>1</td>\n",
       "      <td>1</td>\n",
       "      <td>1</td>\n",
       "    </tr>\n",
       "    <tr>\n",
       "      <th>23</th>\n",
       "      <td>24</td>\n",
       "      <td>1</td>\n",
       "      <td>1</td>\n",
       "      <td>0</td>\n",
       "    </tr>\n",
       "    <tr>\n",
       "      <th>24</th>\n",
       "      <td>25</td>\n",
       "      <td>0</td>\n",
       "      <td>0</td>\n",
       "      <td>0</td>\n",
       "    </tr>\n",
       "    <tr>\n",
       "      <th>25</th>\n",
       "      <td>26</td>\n",
       "      <td>1</td>\n",
       "      <td>1</td>\n",
       "      <td>1</td>\n",
       "    </tr>\n",
       "    <tr>\n",
       "      <th>26</th>\n",
       "      <td>27</td>\n",
       "      <td>0</td>\n",
       "      <td>0</td>\n",
       "      <td>0</td>\n",
       "    </tr>\n",
       "    <tr>\n",
       "      <th>27</th>\n",
       "      <td>28</td>\n",
       "      <td>0</td>\n",
       "      <td>0</td>\n",
       "      <td>0</td>\n",
       "    </tr>\n",
       "    <tr>\n",
       "      <th>28</th>\n",
       "      <td>29</td>\n",
       "      <td>0</td>\n",
       "      <td>0</td>\n",
       "      <td>0</td>\n",
       "    </tr>\n",
       "    <tr>\n",
       "      <th>29</th>\n",
       "      <td>30</td>\n",
       "      <td>1</td>\n",
       "      <td>1</td>\n",
       "      <td>1</td>\n",
       "    </tr>\n",
       "  </tbody>\n",
       "</table>\n",
       "</div>"
      ],
      "text/plain": [
       "    Id  Prediction0  Prediction1  Prediction2\n",
       "0    1            1            1            1\n",
       "1    2            1            1            1\n",
       "2    3            0            0            0\n",
       "3    4            0            0            0\n",
       "4    5            0            0            1\n",
       "5    6            0            0            0\n",
       "6    7            1            1            1\n",
       "7    8            1            1            1\n",
       "8    9            1            1            1\n",
       "9   10            0            0            0\n",
       "10  11            1            1            1\n",
       "11  12            1            0            1\n",
       "12  13            1            1            0\n",
       "13  14            0            0            0\n",
       "14  15            0            0            0\n",
       "15  16            1            1            1\n",
       "16  17            0            0            0\n",
       "17  18            0            0            0\n",
       "18  19            1            1            1\n",
       "19  20            0            0            0\n",
       "20  21            0            0            0\n",
       "21  22            1            1            1\n",
       "22  23            1            1            1\n",
       "23  24            1            1            0\n",
       "24  25            0            0            0\n",
       "25  26            1            1            1\n",
       "26  27            0            0            0\n",
       "27  28            0            0            0\n",
       "28  29            0            0            0\n",
       "29  30            1            1            1"
      ]
     },
     "execution_count": 188,
     "metadata": {},
     "output_type": "execute_result"
    }
   ],
   "source": [
    "# Stack Logistic Regression, Random Forest, LinearSVM\n",
    "\n",
    "# Majority Stacking\n",
    "\n",
    "import os\n",
    "\n",
    "sub_path = \"submissions/\"\n",
    "all_files = os.listdir(sub_path)\n",
    "\n",
    "# Read and concatenate submissions\n",
    "outs = [pd.read_csv(os.path.join(sub_path, f), index_col=0) for f in all_files]\n",
    "concat_sub = pd.concat(outs, axis=1)\n",
    "cols = list(map(lambda x: \"Prediction\" + str(x), range(len(concat_sub.columns))))\n",
    "concat_sub.columns = cols\n",
    "concat_sub.reset_index(inplace=True)\n",
    "concat_sub.head(n=30)"
   ]
  },
  {
   "cell_type": "code",
   "execution_count": 176,
   "metadata": {},
   "outputs": [
    {
     "name": "stdout",
     "output_type": "stream",
     "text": [
      "10000\n",
      "483\n"
     ]
    }
   ],
   "source": [
    "pred_svm = concat_sub.Prediction0\n",
    "pred_log = concat_sub.Prediction1\n",
    "pred_rfo = concat_sub.Prediction2\n",
    "disagree_svm_log = np.logical_not(np.equal(pred_svm, pred_log))\n",
    "print(len(disagree_svm_log))\n",
    "print(np.sum(disagree_svm_log))"
   ]
  },
  {
   "cell_type": "code",
   "execution_count": 212,
   "metadata": {},
   "outputs": [
    {
     "data": {
      "text/plain": [
       "array([1, 1, 0, 0, 0, 0, 1, 1, 1, 0, 1, 1, 1, 0, 0])"
      ]
     },
     "execution_count": 212,
     "metadata": {},
     "output_type": "execute_result"
    }
   ],
   "source": [
    "predictDF = np.array(concat_sub.iloc[:, 1:4])\n",
    "predictDF[0:5, ] #.head()\n",
    "majority = np.mean(predictDF, axis=1)\n",
    "majority[0:5]\n",
    "stacked = (majority > 0.5) + 0\n",
    "stacked[0:15]"
   ]
  },
  {
   "cell_type": "code",
   "execution_count": 213,
   "metadata": {},
   "outputs": [
    {
     "name": "stdout",
     "output_type": "stream",
     "text": [
      "   Id  Prediction\n",
      "0   1           1\n",
      "1   2           1\n",
      "2   3           0\n",
      "3   4           0\n",
      "4   5           0\n",
      "5   6           0\n",
      "6   7           1\n",
      "7   8           1\n",
      "8   9           1\n",
      "9  10           0\n"
     ]
    }
   ],
   "source": [
    "# Majority stack\n",
    "\n",
    "submission = pd.DataFrame({'Id': range(1, len(x_test)+1), 'Prediction': [int(x) for x in stacked]})\n",
    "print(submission.head(10))\n",
    "\n",
    "submission.to_csv('submission_majority_stack_svm_logreg_rfo.csv', index=False, header=True)"
   ]
  },
  {
   "cell_type": "code",
   "execution_count": 157,
   "metadata": {},
   "outputs": [
    {
     "data": {
      "text/html": [
       "<div>\n",
       "<style scoped>\n",
       "    .dataframe tbody tr th:only-of-type {\n",
       "        vertical-align: middle;\n",
       "    }\n",
       "\n",
       "    .dataframe tbody tr th {\n",
       "        vertical-align: top;\n",
       "    }\n",
       "\n",
       "    .dataframe thead th {\n",
       "        text-align: right;\n",
       "    }\n",
       "</style>\n",
       "<table border=\"1\" class=\"dataframe\">\n",
       "  <thead>\n",
       "    <tr style=\"text-align: right;\">\n",
       "      <th></th>\n",
       "      <th>Id</th>\n",
       "      <th>Prediction0</th>\n",
       "      <th>Prediction1</th>\n",
       "      <th>Prediction2</th>\n",
       "    </tr>\n",
       "  </thead>\n",
       "  <tbody>\n",
       "    <tr>\n",
       "      <th>Id</th>\n",
       "      <td>1.000000</td>\n",
       "      <td>0.006020</td>\n",
       "      <td>0.005802</td>\n",
       "      <td>0.017638</td>\n",
       "    </tr>\n",
       "    <tr>\n",
       "      <th>Prediction0</th>\n",
       "      <td>0.006020</td>\n",
       "      <td>1.000000</td>\n",
       "      <td>0.905069</td>\n",
       "      <td>0.768188</td>\n",
       "    </tr>\n",
       "    <tr>\n",
       "      <th>Prediction1</th>\n",
       "      <td>0.005802</td>\n",
       "      <td>0.905069</td>\n",
       "      <td>1.000000</td>\n",
       "      <td>0.786237</td>\n",
       "    </tr>\n",
       "    <tr>\n",
       "      <th>Prediction2</th>\n",
       "      <td>0.017638</td>\n",
       "      <td>0.768188</td>\n",
       "      <td>0.786237</td>\n",
       "      <td>1.000000</td>\n",
       "    </tr>\n",
       "  </tbody>\n",
       "</table>\n",
       "</div>"
      ],
      "text/plain": [
       "                   Id  Prediction0  Prediction1  Prediction2\n",
       "Id           1.000000     0.006020     0.005802     0.017638\n",
       "Prediction0  0.006020     1.000000     0.905069     0.768188\n",
       "Prediction1  0.005802     0.905069     1.000000     0.786237\n",
       "Prediction2  0.017638     0.768188     0.786237     1.000000"
      ]
     },
     "execution_count": 157,
     "metadata": {},
     "output_type": "execute_result"
    }
   ],
   "source": [
    "# check correlation\n",
    "\n",
    "concat_sub.corr()"
   ]
  },
  {
   "cell_type": "code",
   "execution_count": 158,
   "metadata": {
    "collapsed": true
   },
   "outputs": [],
   "source": [
    "cutoff_lo = 0.8\n",
    "cutoff_hi = 0.2"
   ]
  },
  {
   "cell_type": "code",
   "execution_count": 168,
   "metadata": {
    "collapsed": true
   },
   "outputs": [],
   "source": [
    "# get the data fields ready for stacking\n",
    "concat_sub['Prediction_max'] = concat_sub.iloc[:, 1:3].max(axis=1)\n",
    "concat_sub['Prediction_min'] = concat_sub.iloc[:, 1:3].min(axis=1)\n",
    "concat_sub['Prediction_mean'] = concat_sub.iloc[:, 1:3].mean(axis=1)\n",
    "concat_sub['Prediction_median'] = concat_sub.iloc[:, 1:3].median(axis=1)"
   ]
  },
  {
   "cell_type": "code",
   "execution_count": 177,
   "metadata": {
    "collapsed": true
   },
   "outputs": [],
   "source": [
    "concat_sub['Prediction'] = np.where(np.all(concat_sub.iloc[:,1:3] > cutoff_lo, axis=1), \n",
    "                                    concat_sub['Prediction_max'], \n",
    "                                    np.where(np.all(concat_sub.iloc[:,1:3] < cutoff_hi, axis=1),\n",
    "                                             concat_sub['Prediction_min'], \n",
    "                                             concat_sub['Prediction_median']))\n",
    "concat_sub[['Id', 'Prediction']].to_csv('stack_minmax_median_round.csv', \n",
    "                                        index=False, float_format='%.6f')\n",
    "# # Round 0.5 down to 0\n",
    "# concat_sub[['Id', 'Prediction']].round().to_csv('stack_minmax_median_round.csv', \n",
    "#                                         index=False, float_format='%.6f')"
   ]
  },
  {
   "cell_type": "code",
   "execution_count": 178,
   "metadata": {},
   "outputs": [
    {
     "data": {
      "text/html": [
       "<div>\n",
       "<style scoped>\n",
       "    .dataframe tbody tr th:only-of-type {\n",
       "        vertical-align: middle;\n",
       "    }\n",
       "\n",
       "    .dataframe tbody tr th {\n",
       "        vertical-align: top;\n",
       "    }\n",
       "\n",
       "    .dataframe thead th {\n",
       "        text-align: right;\n",
       "    }\n",
       "</style>\n",
       "<table border=\"1\" class=\"dataframe\">\n",
       "  <thead>\n",
       "    <tr style=\"text-align: right;\">\n",
       "      <th></th>\n",
       "      <th>Id</th>\n",
       "      <th>Prediction</th>\n",
       "    </tr>\n",
       "  </thead>\n",
       "  <tbody>\n",
       "    <tr>\n",
       "      <th>0</th>\n",
       "      <td>1</td>\n",
       "      <td>1.0</td>\n",
       "    </tr>\n",
       "    <tr>\n",
       "      <th>1</th>\n",
       "      <td>2</td>\n",
       "      <td>1.0</td>\n",
       "    </tr>\n",
       "    <tr>\n",
       "      <th>2</th>\n",
       "      <td>3</td>\n",
       "      <td>0.0</td>\n",
       "    </tr>\n",
       "    <tr>\n",
       "      <th>3</th>\n",
       "      <td>4</td>\n",
       "      <td>0.0</td>\n",
       "    </tr>\n",
       "    <tr>\n",
       "      <th>4</th>\n",
       "      <td>5</td>\n",
       "      <td>0.0</td>\n",
       "    </tr>\n",
       "    <tr>\n",
       "      <th>5</th>\n",
       "      <td>6</td>\n",
       "      <td>0.0</td>\n",
       "    </tr>\n",
       "    <tr>\n",
       "      <th>6</th>\n",
       "      <td>7</td>\n",
       "      <td>1.0</td>\n",
       "    </tr>\n",
       "    <tr>\n",
       "      <th>7</th>\n",
       "      <td>8</td>\n",
       "      <td>1.0</td>\n",
       "    </tr>\n",
       "    <tr>\n",
       "      <th>8</th>\n",
       "      <td>9</td>\n",
       "      <td>1.0</td>\n",
       "    </tr>\n",
       "    <tr>\n",
       "      <th>9</th>\n",
       "      <td>10</td>\n",
       "      <td>0.0</td>\n",
       "    </tr>\n",
       "    <tr>\n",
       "      <th>10</th>\n",
       "      <td>11</td>\n",
       "      <td>1.0</td>\n",
       "    </tr>\n",
       "    <tr>\n",
       "      <th>11</th>\n",
       "      <td>12</td>\n",
       "      <td>0.5</td>\n",
       "    </tr>\n",
       "    <tr>\n",
       "      <th>12</th>\n",
       "      <td>13</td>\n",
       "      <td>1.0</td>\n",
       "    </tr>\n",
       "    <tr>\n",
       "      <th>13</th>\n",
       "      <td>14</td>\n",
       "      <td>0.0</td>\n",
       "    </tr>\n",
       "    <tr>\n",
       "      <th>14</th>\n",
       "      <td>15</td>\n",
       "      <td>0.0</td>\n",
       "    </tr>\n",
       "    <tr>\n",
       "      <th>15</th>\n",
       "      <td>16</td>\n",
       "      <td>1.0</td>\n",
       "    </tr>\n",
       "    <tr>\n",
       "      <th>16</th>\n",
       "      <td>17</td>\n",
       "      <td>0.0</td>\n",
       "    </tr>\n",
       "    <tr>\n",
       "      <th>17</th>\n",
       "      <td>18</td>\n",
       "      <td>0.0</td>\n",
       "    </tr>\n",
       "    <tr>\n",
       "      <th>18</th>\n",
       "      <td>19</td>\n",
       "      <td>1.0</td>\n",
       "    </tr>\n",
       "    <tr>\n",
       "      <th>19</th>\n",
       "      <td>20</td>\n",
       "      <td>0.0</td>\n",
       "    </tr>\n",
       "    <tr>\n",
       "      <th>20</th>\n",
       "      <td>21</td>\n",
       "      <td>0.0</td>\n",
       "    </tr>\n",
       "    <tr>\n",
       "      <th>21</th>\n",
       "      <td>22</td>\n",
       "      <td>1.0</td>\n",
       "    </tr>\n",
       "    <tr>\n",
       "      <th>22</th>\n",
       "      <td>23</td>\n",
       "      <td>1.0</td>\n",
       "    </tr>\n",
       "    <tr>\n",
       "      <th>23</th>\n",
       "      <td>24</td>\n",
       "      <td>1.0</td>\n",
       "    </tr>\n",
       "    <tr>\n",
       "      <th>24</th>\n",
       "      <td>25</td>\n",
       "      <td>0.0</td>\n",
       "    </tr>\n",
       "    <tr>\n",
       "      <th>25</th>\n",
       "      <td>26</td>\n",
       "      <td>1.0</td>\n",
       "    </tr>\n",
       "    <tr>\n",
       "      <th>26</th>\n",
       "      <td>27</td>\n",
       "      <td>0.0</td>\n",
       "    </tr>\n",
       "    <tr>\n",
       "      <th>27</th>\n",
       "      <td>28</td>\n",
       "      <td>0.0</td>\n",
       "    </tr>\n",
       "    <tr>\n",
       "      <th>28</th>\n",
       "      <td>29</td>\n",
       "      <td>0.0</td>\n",
       "    </tr>\n",
       "    <tr>\n",
       "      <th>29</th>\n",
       "      <td>30</td>\n",
       "      <td>1.0</td>\n",
       "    </tr>\n",
       "    <tr>\n",
       "      <th>...</th>\n",
       "      <td>...</td>\n",
       "      <td>...</td>\n",
       "    </tr>\n",
       "    <tr>\n",
       "      <th>9970</th>\n",
       "      <td>9971</td>\n",
       "      <td>0.0</td>\n",
       "    </tr>\n",
       "    <tr>\n",
       "      <th>9971</th>\n",
       "      <td>9972</td>\n",
       "      <td>0.0</td>\n",
       "    </tr>\n",
       "    <tr>\n",
       "      <th>9972</th>\n",
       "      <td>9973</td>\n",
       "      <td>1.0</td>\n",
       "    </tr>\n",
       "    <tr>\n",
       "      <th>9973</th>\n",
       "      <td>9974</td>\n",
       "      <td>0.5</td>\n",
       "    </tr>\n",
       "    <tr>\n",
       "      <th>9974</th>\n",
       "      <td>9975</td>\n",
       "      <td>0.0</td>\n",
       "    </tr>\n",
       "    <tr>\n",
       "      <th>9975</th>\n",
       "      <td>9976</td>\n",
       "      <td>1.0</td>\n",
       "    </tr>\n",
       "    <tr>\n",
       "      <th>9976</th>\n",
       "      <td>9977</td>\n",
       "      <td>1.0</td>\n",
       "    </tr>\n",
       "    <tr>\n",
       "      <th>9977</th>\n",
       "      <td>9978</td>\n",
       "      <td>1.0</td>\n",
       "    </tr>\n",
       "    <tr>\n",
       "      <th>9978</th>\n",
       "      <td>9979</td>\n",
       "      <td>0.0</td>\n",
       "    </tr>\n",
       "    <tr>\n",
       "      <th>9979</th>\n",
       "      <td>9980</td>\n",
       "      <td>1.0</td>\n",
       "    </tr>\n",
       "    <tr>\n",
       "      <th>9980</th>\n",
       "      <td>9981</td>\n",
       "      <td>0.5</td>\n",
       "    </tr>\n",
       "    <tr>\n",
       "      <th>9981</th>\n",
       "      <td>9982</td>\n",
       "      <td>1.0</td>\n",
       "    </tr>\n",
       "    <tr>\n",
       "      <th>9982</th>\n",
       "      <td>9983</td>\n",
       "      <td>1.0</td>\n",
       "    </tr>\n",
       "    <tr>\n",
       "      <th>9983</th>\n",
       "      <td>9984</td>\n",
       "      <td>0.0</td>\n",
       "    </tr>\n",
       "    <tr>\n",
       "      <th>9984</th>\n",
       "      <td>9985</td>\n",
       "      <td>0.0</td>\n",
       "    </tr>\n",
       "    <tr>\n",
       "      <th>9985</th>\n",
       "      <td>9986</td>\n",
       "      <td>0.5</td>\n",
       "    </tr>\n",
       "    <tr>\n",
       "      <th>9986</th>\n",
       "      <td>9987</td>\n",
       "      <td>1.0</td>\n",
       "    </tr>\n",
       "    <tr>\n",
       "      <th>9987</th>\n",
       "      <td>9988</td>\n",
       "      <td>1.0</td>\n",
       "    </tr>\n",
       "    <tr>\n",
       "      <th>9988</th>\n",
       "      <td>9989</td>\n",
       "      <td>0.0</td>\n",
       "    </tr>\n",
       "    <tr>\n",
       "      <th>9989</th>\n",
       "      <td>9990</td>\n",
       "      <td>1.0</td>\n",
       "    </tr>\n",
       "    <tr>\n",
       "      <th>9990</th>\n",
       "      <td>9991</td>\n",
       "      <td>0.0</td>\n",
       "    </tr>\n",
       "    <tr>\n",
       "      <th>9991</th>\n",
       "      <td>9992</td>\n",
       "      <td>1.0</td>\n",
       "    </tr>\n",
       "    <tr>\n",
       "      <th>9992</th>\n",
       "      <td>9993</td>\n",
       "      <td>0.0</td>\n",
       "    </tr>\n",
       "    <tr>\n",
       "      <th>9993</th>\n",
       "      <td>9994</td>\n",
       "      <td>0.0</td>\n",
       "    </tr>\n",
       "    <tr>\n",
       "      <th>9994</th>\n",
       "      <td>9995</td>\n",
       "      <td>0.0</td>\n",
       "    </tr>\n",
       "    <tr>\n",
       "      <th>9995</th>\n",
       "      <td>9996</td>\n",
       "      <td>1.0</td>\n",
       "    </tr>\n",
       "    <tr>\n",
       "      <th>9996</th>\n",
       "      <td>9997</td>\n",
       "      <td>1.0</td>\n",
       "    </tr>\n",
       "    <tr>\n",
       "      <th>9997</th>\n",
       "      <td>9998</td>\n",
       "      <td>0.0</td>\n",
       "    </tr>\n",
       "    <tr>\n",
       "      <th>9998</th>\n",
       "      <td>9999</td>\n",
       "      <td>1.0</td>\n",
       "    </tr>\n",
       "    <tr>\n",
       "      <th>9999</th>\n",
       "      <td>10000</td>\n",
       "      <td>0.0</td>\n",
       "    </tr>\n",
       "  </tbody>\n",
       "</table>\n",
       "<p>10000 rows × 2 columns</p>\n",
       "</div>"
      ],
      "text/plain": [
       "         Id  Prediction\n",
       "0         1         1.0\n",
       "1         2         1.0\n",
       "2         3         0.0\n",
       "3         4         0.0\n",
       "4         5         0.0\n",
       "5         6         0.0\n",
       "6         7         1.0\n",
       "7         8         1.0\n",
       "8         9         1.0\n",
       "9        10         0.0\n",
       "10       11         1.0\n",
       "11       12         0.5\n",
       "12       13         1.0\n",
       "13       14         0.0\n",
       "14       15         0.0\n",
       "15       16         1.0\n",
       "16       17         0.0\n",
       "17       18         0.0\n",
       "18       19         1.0\n",
       "19       20         0.0\n",
       "20       21         0.0\n",
       "21       22         1.0\n",
       "22       23         1.0\n",
       "23       24         1.0\n",
       "24       25         0.0\n",
       "25       26         1.0\n",
       "26       27         0.0\n",
       "27       28         0.0\n",
       "28       29         0.0\n",
       "29       30         1.0\n",
       "...     ...         ...\n",
       "9970   9971         0.0\n",
       "9971   9972         0.0\n",
       "9972   9973         1.0\n",
       "9973   9974         0.5\n",
       "9974   9975         0.0\n",
       "9975   9976         1.0\n",
       "9976   9977         1.0\n",
       "9977   9978         1.0\n",
       "9978   9979         0.0\n",
       "9979   9980         1.0\n",
       "9980   9981         0.5\n",
       "9981   9982         1.0\n",
       "9982   9983         1.0\n",
       "9983   9984         0.0\n",
       "9984   9985         0.0\n",
       "9985   9986         0.5\n",
       "9986   9987         1.0\n",
       "9987   9988         1.0\n",
       "9988   9989         0.0\n",
       "9989   9990         1.0\n",
       "9990   9991         0.0\n",
       "9991   9992         1.0\n",
       "9992   9993         0.0\n",
       "9993   9994         0.0\n",
       "9994   9995         0.0\n",
       "9995   9996         1.0\n",
       "9996   9997         1.0\n",
       "9997   9998         0.0\n",
       "9998   9999         1.0\n",
       "9999  10000         0.0\n",
       "\n",
       "[10000 rows x 2 columns]"
      ]
     },
     "execution_count": 178,
     "metadata": {},
     "output_type": "execute_result"
    }
   ],
   "source": [
    "concat_sub[['Id', 'Prediction']]"
   ]
  },
  {
   "cell_type": "code",
   "execution_count": null,
   "metadata": {
    "collapsed": true
   },
   "outputs": [],
   "source": [
    "# How many diagreements\n"
   ]
  },
  {
   "cell_type": "code",
   "execution_count": 8,
   "metadata": {},
   "outputs": [
    {
     "name": "stderr",
     "output_type": "stream",
     "text": [
      "Using TensorFlow backend.\n"
     ]
    }
   ],
   "source": [
    "# Neural Networks\n",
    "\n",
    "from keras.preprocessing import sequence\n",
    "from keras.utils import np_utils\n",
    "from keras.models import Sequential\n",
    "from keras.layers import Dense, Dropout, Activation, Embedding\n",
    "from keras.layers import LSTM\n",
    "from keras.layers.convolutional import Conv1D\n",
    "from keras.layers.convolutional import MaxPooling1D\n",
    "from keras.layers import Flatten"
   ]
  },
  {
   "cell_type": "code",
   "execution_count": 10,
   "metadata": {},
   "outputs": [],
   "source": [
    "from sklearn import preprocessing\n",
    "from sklearn.model_selection import train_test_split\n",
    "\n",
    "x_train_s, x_val, y_train_s, y_val = train_test_split(x_train, y_train, test_size=0.2, random_state=42)\n",
    "x_train_s_norm = preprocessing.normalize(x_train_s, norm='l2')\n",
    "x_val_norm = preprocessing.normalize(x_val, norm='l2')\n",
    "\n",
    "y_train_s_hot = np_utils.to_categorical(y_train_s)\n",
    "y_val_hot = np_utils.to_categorical(y_val)"
   ]
  },
  {
   "cell_type": "code",
   "execution_count": 20,
   "metadata": {},
   "outputs": [
    {
     "name": "stdout",
     "output_type": "stream",
     "text": [
      "(16000, 1000)\n",
      "(16000,)\n"
     ]
    },
    {
     "data": {
      "text/plain": [
       "(None, None)"
      ]
     },
     "execution_count": 20,
     "metadata": {},
     "output_type": "execute_result"
    }
   ],
   "source": [
    "print(x_train_s.shape), print(y_train_s.shape)"
   ]
  },
  {
   "cell_type": "code",
   "execution_count": 51,
   "metadata": {},
   "outputs": [
    {
     "name": "stdout",
     "output_type": "stream",
     "text": [
      "_________________________________________________________________\n",
      "Layer (type)                 Output Shape              Param #   \n",
      "=================================================================\n",
      "dense_87 (Dense)             (None, 120)               120120    \n",
      "_________________________________________________________________\n",
      "activation_85 (Activation)   (None, 120)               0         \n",
      "_________________________________________________________________\n",
      "dropout_32 (Dropout)         (None, 120)               0         \n",
      "_________________________________________________________________\n",
      "dense_88 (Dense)             (None, 60)                7260      \n",
      "_________________________________________________________________\n",
      "activation_86 (Activation)   (None, 60)                0         \n",
      "_________________________________________________________________\n",
      "dropout_33 (Dropout)         (None, 60)                0         \n",
      "_________________________________________________________________\n",
      "dense_89 (Dense)             (None, 20)                1220      \n",
      "_________________________________________________________________\n",
      "activation_87 (Activation)   (None, 20)                0         \n",
      "_________________________________________________________________\n",
      "dense_90 (Dense)             (None, 2)                 42        \n",
      "_________________________________________________________________\n",
      "activation_88 (Activation)   (None, 2)                 0         \n",
      "=================================================================\n",
      "Total params: 128,642\n",
      "Trainable params: 128,642\n",
      "Non-trainable params: 0\n",
      "_________________________________________________________________\n"
     ]
    }
   ],
   "source": [
    "# Dense NN\n",
    "\n",
    "model = Sequential()\n",
    "model.add(Dense(120, input_shape=(1000,)))\n",
    "model.add(Activation('relu'))\n",
    "model.add(Dropout(0.3))\n",
    "model.add(Dense(60))\n",
    "model.add(Activation('relu'))\n",
    "model.add(Dropout(0.3))\n",
    "model.add(Dense(20))\n",
    "model.add(Activation('relu'))\n",
    "\n",
    "model.add(Dense(2))\n",
    "model.add(Activation('softmax'))\n",
    "\n",
    "model.summary()"
   ]
  },
  {
   "cell_type": "code",
   "execution_count": 52,
   "metadata": {},
   "outputs": [
    {
     "name": "stderr",
     "output_type": "stream",
     "text": [
      "/Library/Frameworks/Python.framework/Versions/3.5/lib/python3.5/site-packages/keras/models.py:939: UserWarning: The `nb_epoch` argument in `fit` has been renamed `epochs`.\n",
      "  warnings.warn('The `nb_epoch` argument in `fit` '\n"
     ]
    },
    {
     "name": "stdout",
     "output_type": "stream",
     "text": [
      "Epoch 1/1\n",
      "16000/16000 [==============================] - 6s 379us/step - loss: 0.4397 - acc: 0.7913\n",
      "4000/4000 [==============================] - 1s 244us/step\n"
     ]
    },
    {
     "data": {
      "text/plain": [
       "[0.33595985072851181, 0.85099999999999998]"
      ]
     },
     "execution_count": 52,
     "metadata": {},
     "output_type": "execute_result"
    }
   ],
   "source": [
    "model.compile(loss='binary_crossentropy', optimizer='adam', metrics=['accuracy'])\n",
    "model.fit(x_train_s_norm, y_train_s_hot, batch_size=32, nb_epoch=1, verbose=1)\n",
    "\n",
    "model.evaluate(x_val_norm, y_val_hot)"
   ]
  },
  {
   "cell_type": "code",
   "execution_count": 80,
   "metadata": {},
   "outputs": [
    {
     "name": "stdout",
     "output_type": "stream",
     "text": [
      "Epoch 1/1\n",
      "16000/16000 [==============================] - 7s 447us/step - loss: 0.4827 - acc: 0.7687\n",
      "4000/4000 [==============================] - 2s 457us/step\n",
      "Epoch 1/2\n",
      "16000/16000 [==============================] - 7s 457us/step - loss: 0.4817 - acc: 0.7654\n",
      "Epoch 2/2\n",
      "16000/16000 [==============================] - 4s 242us/step - loss: 0.3485 - acc: 0.8501\n",
      "4000/4000 [==============================] - 2s 445us/step\n",
      "Epoch 1/3\n",
      "16000/16000 [==============================] - 7s 451us/step - loss: 0.4875 - acc: 0.7551\n",
      "Epoch 2/3\n",
      "16000/16000 [==============================] - 4s 238us/step - loss: 0.3501 - acc: 0.8510\n",
      "Epoch 3/3\n",
      "16000/16000 [==============================] - 4s 243us/step - loss: 0.3167 - acc: 0.8664\n",
      "4000/4000 [==============================] - 2s 457us/step\n",
      "Epoch 1/4\n",
      "16000/16000 [==============================] - 8s 484us/step - loss: 0.4871 - acc: 0.7595\n",
      "Epoch 2/4\n",
      "16000/16000 [==============================] - 4s 241us/step - loss: 0.3464 - acc: 0.8501\n",
      "Epoch 3/4\n",
      "16000/16000 [==============================] - 4s 249us/step - loss: 0.3194 - acc: 0.8633\n",
      "Epoch 4/4\n",
      "16000/16000 [==============================] - 4s 249us/step - loss: 0.2970 - acc: 0.8751\n",
      "4000/4000 [==============================] - 2s 454us/step\n",
      "Epoch 1/5\n",
      "16000/16000 [==============================] - 8s 471us/step - loss: 0.4751 - acc: 0.7695\n",
      "Epoch 2/5\n",
      "16000/16000 [==============================] - 4s 252us/step - loss: 0.3481 - acc: 0.8503\n",
      "Epoch 3/5\n",
      "16000/16000 [==============================] - 4s 246us/step - loss: 0.3202 - acc: 0.8632\n",
      "Epoch 4/5\n",
      "16000/16000 [==============================] - 4s 236us/step - loss: 0.2943 - acc: 0.8778\n",
      "Epoch 5/5\n",
      "16000/16000 [==============================] - 4s 244us/step - loss: 0.2769 - acc: 0.8847\n",
      "4000/4000 [==============================] - 2s 494us/step\n",
      "Epoch 1/6\n",
      "16000/16000 [==============================] - 8s 479us/step - loss: 0.4813 - acc: 0.7678\n",
      "Epoch 2/6\n",
      "16000/16000 [==============================] - 5s 298us/step - loss: 0.3484 - acc: 0.8506\n",
      "Epoch 3/6\n",
      "16000/16000 [==============================] - 5s 287us/step - loss: 0.3186 - acc: 0.8649\n",
      "Epoch 4/6\n",
      "16000/16000 [==============================] - 4s 240us/step - loss: 0.2980 - acc: 0.8742\n",
      "Epoch 5/6\n",
      "16000/16000 [==============================] - 4s 258us/step - loss: 0.2767 - acc: 0.8861\n",
      "Epoch 6/6\n",
      "16000/16000 [==============================] - 4s 259us/step - loss: 0.2614 - acc: 0.8947\n",
      "4000/4000 [==============================] - 2s 478us/step\n",
      "Epoch 1/7\n",
      "16000/16000 [==============================] - 8s 529us/step - loss: 0.4791 - acc: 0.7645\n",
      "Epoch 2/7\n",
      "16000/16000 [==============================] - 4s 257us/step - loss: 0.3491 - acc: 0.8471\n",
      "Epoch 3/7\n",
      "16000/16000 [==============================] - 4s 252us/step - loss: 0.3220 - acc: 0.8602\n",
      "Epoch 4/7\n",
      "16000/16000 [==============================] - 4s 274us/step - loss: 0.2963 - acc: 0.8775\n",
      "Epoch 5/7\n",
      "16000/16000 [==============================] - 4s 264us/step - loss: 0.2792 - acc: 0.8860\n",
      "Epoch 6/7\n",
      "16000/16000 [==============================] - 4s 253us/step - loss: 0.2597 - acc: 0.8945\n",
      "Epoch 7/7\n",
      "16000/16000 [==============================] - 4s 245us/step - loss: 0.2423 - acc: 0.9026\n",
      "4000/4000 [==============================] - 2s 517us/step\n",
      "Epoch 1/8\n",
      "16000/16000 [==============================] - 8s 503us/step - loss: 0.4792 - acc: 0.7627\n",
      "Epoch 2/8\n",
      "16000/16000 [==============================] - 4s 281us/step - loss: 0.3489 - acc: 0.8501\n",
      "Epoch 3/8\n",
      "16000/16000 [==============================] - 4s 281us/step - loss: 0.3183 - acc: 0.8656\n",
      "Epoch 4/8\n",
      "16000/16000 [==============================] - 4s 275us/step - loss: 0.2951 - acc: 0.8744\n",
      "Epoch 5/8\n",
      "16000/16000 [==============================] - 4s 247us/step - loss: 0.2768 - acc: 0.8845\n",
      "Epoch 6/8\n",
      "16000/16000 [==============================] - 4s 243us/step - loss: 0.2566 - acc: 0.8984\n",
      "Epoch 7/8\n",
      "16000/16000 [==============================] - 4s 241us/step - loss: 0.2422 - acc: 0.9029\n",
      "Epoch 8/8\n",
      "16000/16000 [==============================] - 4s 233us/step - loss: 0.2193 - acc: 0.9132\n",
      "4000/4000 [==============================] - 2s 473us/step\n",
      "Epoch 1/9\n",
      "16000/16000 [==============================] - 8s 475us/step - loss: 0.4887 - acc: 0.7579\n",
      "Epoch 2/9\n",
      "16000/16000 [==============================] - 4s 258us/step - loss: 0.3491 - acc: 0.8478\n",
      "Epoch 3/9\n",
      "16000/16000 [==============================] - 4s 252us/step - loss: 0.3189 - acc: 0.8656\n",
      "Epoch 4/9\n",
      "16000/16000 [==============================] - 4s 244us/step - loss: 0.2999 - acc: 0.8729\n",
      "Epoch 5/9\n",
      "16000/16000 [==============================] - 4s 232us/step - loss: 0.2790 - acc: 0.8869\n",
      "Epoch 6/9\n",
      "16000/16000 [==============================] - 4s 237us/step - loss: 0.2628 - acc: 0.8939\n",
      "Epoch 7/9\n",
      "16000/16000 [==============================] - 4s 244us/step - loss: 0.2450 - acc: 0.9016\n",
      "Epoch 8/9\n",
      "16000/16000 [==============================] - 4s 236us/step - loss: 0.2299 - acc: 0.9098\n",
      "Epoch 9/9\n",
      "16000/16000 [==============================] - 4s 246us/step - loss: 0.2138 - acc: 0.9173\n",
      "4000/4000 [==============================] - 2s 498us/step\n",
      "Epoch 1/10\n",
      "16000/16000 [==============================] - 9s 533us/step - loss: 0.4823 - acc: 0.7692\n",
      "Epoch 2/10\n",
      "16000/16000 [==============================] - 4s 279us/step - loss: 0.3489 - acc: 0.8514\n",
      "Epoch 3/10\n",
      "16000/16000 [==============================] - 4s 251us/step - loss: 0.3203 - acc: 0.8647\n",
      "Epoch 4/10\n",
      "16000/16000 [==============================] - 4s 243us/step - loss: 0.2975 - acc: 0.8748\n",
      "Epoch 5/10\n",
      "16000/16000 [==============================] - 4s 247us/step - loss: 0.2791 - acc: 0.8845\n",
      "Epoch 6/10\n",
      "16000/16000 [==============================] - 4s 249us/step - loss: 0.2631 - acc: 0.8937\n",
      "Epoch 7/10\n",
      "16000/16000 [==============================] - 4s 249us/step - loss: 0.2426 - acc: 0.9013\n",
      "Epoch 8/10\n",
      "16000/16000 [==============================] - 4s 246us/step - loss: 0.2270 - acc: 0.9101\n",
      "Epoch 9/10\n",
      "16000/16000 [==============================] - 4s 258us/step - loss: 0.2111 - acc: 0.9197\n",
      "Epoch 10/10\n",
      "16000/16000 [==============================] - 4s 242us/step - loss: 0.1981 - acc: 0.9230\n",
      "4000/4000 [==============================] - 2s 503us/step\n",
      "Epoch 1/11\n",
      "16000/16000 [==============================] - 8s 492us/step - loss: 0.4929 - acc: 0.7576\n",
      "Epoch 2/11\n",
      "16000/16000 [==============================] - 4s 247us/step - loss: 0.3519 - acc: 0.8461\n",
      "Epoch 3/11\n",
      "16000/16000 [==============================] - 4s 236us/step - loss: 0.3205 - acc: 0.8636\n",
      "Epoch 4/11\n",
      "16000/16000 [==============================] - 4s 247us/step - loss: 0.2997 - acc: 0.8751\n",
      "Epoch 5/11\n",
      "16000/16000 [==============================] - 4s 245us/step - loss: 0.2805 - acc: 0.8856 0s - loss: 0.2770 - a\n",
      "Epoch 6/11\n",
      "16000/16000 [==============================] - 4s 239us/step - loss: 0.2584 - acc: 0.8953\n",
      "Epoch 7/11\n",
      "16000/16000 [==============================] - 4s 237us/step - loss: 0.2456 - acc: 0.9013\n",
      "Epoch 8/11\n",
      "16000/16000 [==============================] - 4s 238us/step - loss: 0.2202 - acc: 0.9158\n",
      "Epoch 9/11\n",
      "16000/16000 [==============================] - 4s 237us/step - loss: 0.2057 - acc: 0.9200\n",
      "Epoch 10/11\n",
      "16000/16000 [==============================] - 4s 247us/step - loss: 0.1957 - acc: 0.9229\n",
      "Epoch 11/11\n",
      "16000/16000 [==============================] - 4s 251us/step - loss: 0.1818 - acc: 0.9299\n",
      "4000/4000 [==============================] - 2s 515us/step\n",
      "Epoch 1/12\n",
      "16000/16000 [==============================] - 8s 473us/step - loss: 0.4815 - acc: 0.7684\n",
      "Epoch 2/12\n",
      "16000/16000 [==============================] - 4s 246us/step - loss: 0.3516 - acc: 0.8484\n",
      "Epoch 3/12\n",
      "16000/16000 [==============================] - 4s 235us/step - loss: 0.3131 - acc: 0.8652\n",
      "Epoch 4/12\n",
      "16000/16000 [==============================] - 4s 247us/step - loss: 0.2950 - acc: 0.8763\n",
      "Epoch 5/12\n",
      "16000/16000 [==============================] - 6s 347us/step - loss: 0.2756 - acc: 0.8863\n",
      "Epoch 6/12\n",
      "16000/16000 [==============================] - 5s 285us/step - loss: 0.2576 - acc: 0.8953\n",
      "Epoch 7/12\n",
      "16000/16000 [==============================] - 4s 261us/step - loss: 0.2383 - acc: 0.9037\n",
      "Epoch 8/12\n",
      "16000/16000 [==============================] - 4s 243us/step - loss: 0.2232 - acc: 0.9133\n",
      "Epoch 9/12\n"
     ]
    },
    {
     "name": "stdout",
     "output_type": "stream",
     "text": [
      "16000/16000 [==============================] - 4s 252us/step - loss: 0.2096 - acc: 0.9199\n",
      "Epoch 10/12\n",
      "16000/16000 [==============================] - 4s 247us/step - loss: 0.1935 - acc: 0.9268\n",
      "Epoch 11/12\n",
      "16000/16000 [==============================] - 4s 259us/step - loss: 0.1799 - acc: 0.9337\n",
      "Epoch 12/12\n",
      "16000/16000 [==============================] - 4s 254us/step - loss: 0.1617 - acc: 0.9393\n",
      "4000/4000 [==============================] - 2s 517us/step\n",
      "Epoch 1/13\n",
      "16000/16000 [==============================] - 8s 470us/step - loss: 0.4839 - acc: 0.7618\n",
      "Epoch 2/13\n",
      "16000/16000 [==============================] - 4s 252us/step - loss: 0.3529 - acc: 0.8472\n",
      "Epoch 3/13\n",
      "16000/16000 [==============================] - 4s 247us/step - loss: 0.3167 - acc: 0.8654\n",
      "Epoch 4/13\n",
      "16000/16000 [==============================] - 4s 244us/step - loss: 0.2950 - acc: 0.8784\n",
      "Epoch 5/13\n",
      "16000/16000 [==============================] - 4s 243us/step - loss: 0.2777 - acc: 0.8872\n",
      "Epoch 6/13\n",
      "16000/16000 [==============================] - 4s 241us/step - loss: 0.2606 - acc: 0.8945\n",
      "Epoch 7/13\n",
      "16000/16000 [==============================] - 4s 249us/step - loss: 0.2419 - acc: 0.9021\n",
      "Epoch 8/13\n",
      "16000/16000 [==============================] - 4s 252us/step - loss: 0.2271 - acc: 0.9102\n",
      "Epoch 9/13\n",
      "16000/16000 [==============================] - 4s 249us/step - loss: 0.2138 - acc: 0.9139\n",
      "Epoch 10/13\n",
      "16000/16000 [==============================] - 4s 256us/step - loss: 0.1955 - acc: 0.9246\n",
      "Epoch 11/13\n",
      "16000/16000 [==============================] - 4s 248us/step - loss: 0.1837 - acc: 0.9312\n",
      "Epoch 12/13\n",
      "16000/16000 [==============================] - 4s 254us/step - loss: 0.1657 - acc: 0.9389\n",
      "Epoch 13/13\n",
      "16000/16000 [==============================] - 4s 253us/step - loss: 0.1607 - acc: 0.9384\n",
      "4000/4000 [==============================] - 2s 522us/step\n",
      "Epoch 1/14\n",
      "16000/16000 [==============================] - 8s 490us/step - loss: 0.4892 - acc: 0.7622\n",
      "Epoch 2/14\n",
      "16000/16000 [==============================] - 4s 233us/step - loss: 0.3542 - acc: 0.8465\n",
      "Epoch 3/14\n",
      "16000/16000 [==============================] - 4s 253us/step - loss: 0.3196 - acc: 0.8634\n",
      "Epoch 4/14\n",
      "16000/16000 [==============================] - 4s 245us/step - loss: 0.2996 - acc: 0.8733\n",
      "Epoch 5/14\n",
      "16000/16000 [==============================] - 4s 238us/step - loss: 0.2823 - acc: 0.8846\n",
      "Epoch 6/14\n",
      "16000/16000 [==============================] - 4s 242us/step - loss: 0.2618 - acc: 0.8918\n",
      "Epoch 7/14\n",
      "16000/16000 [==============================] - 4s 256us/step - loss: 0.2392 - acc: 0.9036\n",
      "Epoch 8/14\n",
      "16000/16000 [==============================] - 4s 248us/step - loss: 0.2273 - acc: 0.9120\n",
      "Epoch 9/14\n",
      "16000/16000 [==============================] - 4s 254us/step - loss: 0.2118 - acc: 0.9183\n",
      "Epoch 10/14\n",
      "16000/16000 [==============================] - 4s 249us/step - loss: 0.1959 - acc: 0.9253\n",
      "Epoch 11/14\n",
      "16000/16000 [==============================] - 4s 253us/step - loss: 0.1880 - acc: 0.9256\n",
      "Epoch 12/14\n",
      "16000/16000 [==============================] - 4s 276us/step - loss: 0.1736 - acc: 0.9337\n",
      "Epoch 13/14\n",
      "16000/16000 [==============================] - 5s 282us/step - loss: 0.1571 - acc: 0.9407\n",
      "Epoch 14/14\n",
      "16000/16000 [==============================] - 4s 256us/step - loss: 0.1498 - acc: 0.9426\n",
      "4000/4000 [==============================] - 3s 641us/step\n",
      "Epoch 1/15\n",
      "16000/16000 [==============================] - 9s 564us/step - loss: 0.4932 - acc: 0.7527\n",
      "Epoch 2/15\n",
      "16000/16000 [==============================] - 4s 251us/step - loss: 0.3484 - acc: 0.8488\n",
      "Epoch 3/15\n",
      "16000/16000 [==============================] - 4s 248us/step - loss: 0.3204 - acc: 0.8605\n",
      "Epoch 4/15\n",
      "16000/16000 [==============================] - 4s 259us/step - loss: 0.2958 - acc: 0.8736\n",
      "Epoch 5/15\n",
      "16000/16000 [==============================] - 4s 247us/step - loss: 0.2816 - acc: 0.8831\n",
      "Epoch 6/15\n",
      "16000/16000 [==============================] - 4s 260us/step - loss: 0.2604 - acc: 0.8942\n",
      "Epoch 7/15\n",
      "16000/16000 [==============================] - 4s 243us/step - loss: 0.2469 - acc: 0.9029\n",
      "Epoch 8/15\n",
      "16000/16000 [==============================] - 4s 247us/step - loss: 0.2285 - acc: 0.9104\n",
      "Epoch 9/15\n",
      "16000/16000 [==============================] - 4s 258us/step - loss: 0.2126 - acc: 0.9178\n",
      "Epoch 10/15\n",
      "16000/16000 [==============================] - 4s 253us/step - loss: 0.2009 - acc: 0.9244\n",
      "Epoch 11/15\n",
      "16000/16000 [==============================] - 4s 252us/step - loss: 0.1830 - acc: 0.9304\n",
      "Epoch 12/15\n",
      "16000/16000 [==============================] - 4s 246us/step - loss: 0.1685 - acc: 0.9356\n",
      "Epoch 13/15\n",
      "16000/16000 [==============================] - 4s 255us/step - loss: 0.1573 - acc: 0.9420\n",
      "Epoch 14/15\n",
      "16000/16000 [==============================] - 4s 248us/step - loss: 0.1503 - acc: 0.9438\n",
      "Epoch 15/15\n",
      "16000/16000 [==============================] - 4s 258us/step - loss: 0.1431 - acc: 0.9428\n",
      "4000/4000 [==============================] - 2s 509us/step\n",
      "Epoch 1/16\n",
      "16000/16000 [==============================] - 8s 506us/step - loss: 0.4879 - acc: 0.7601\n",
      "Epoch 2/16\n",
      "16000/16000 [==============================] - 4s 239us/step - loss: 0.3502 - acc: 0.8470\n",
      "Epoch 3/16\n",
      "16000/16000 [==============================] - 4s 252us/step - loss: 0.3149 - acc: 0.8666\n",
      "Epoch 4/16\n",
      "16000/16000 [==============================] - 4s 266us/step - loss: 0.2966 - acc: 0.8769\n",
      "Epoch 5/16\n",
      "16000/16000 [==============================] - 4s 243us/step - loss: 0.2723 - acc: 0.8883\n",
      "Epoch 6/16\n",
      "16000/16000 [==============================] - 4s 239us/step - loss: 0.2570 - acc: 0.8961\n",
      "Epoch 7/16\n",
      "16000/16000 [==============================] - 4s 245us/step - loss: 0.2408 - acc: 0.9054\n",
      "Epoch 8/16\n",
      "16000/16000 [==============================] - 4s 241us/step - loss: 0.2222 - acc: 0.9125\n",
      "Epoch 9/16\n",
      "16000/16000 [==============================] - 4s 239us/step - loss: 0.2080 - acc: 0.9192\n",
      "Epoch 10/16\n",
      "16000/16000 [==============================] - 4s 244us/step - loss: 0.1935 - acc: 0.9264\n",
      "Epoch 11/16\n",
      "16000/16000 [==============================] - 4s 238us/step - loss: 0.1837 - acc: 0.9270\n",
      "Epoch 12/16\n",
      "16000/16000 [==============================] - 4s 242us/step - loss: 0.1666 - acc: 0.9347\n",
      "Epoch 13/16\n",
      "16000/16000 [==============================] - 4s 247us/step - loss: 0.1590 - acc: 0.9393\n",
      "Epoch 14/16\n",
      "16000/16000 [==============================] - 4s 250us/step - loss: 0.1483 - acc: 0.9434\n",
      "Epoch 15/16\n",
      "16000/16000 [==============================] - 4s 241us/step - loss: 0.1433 - acc: 0.9461\n",
      "Epoch 16/16\n",
      "16000/16000 [==============================] - 4s 248us/step - loss: 0.1353 - acc: 0.9467\n",
      "4000/4000 [==============================] - 2s 496us/step\n",
      "Epoch 1/17\n",
      "16000/16000 [==============================] - 9s 539us/step - loss: 0.4920 - acc: 0.7548\n",
      "Epoch 2/17\n",
      "16000/16000 [==============================] - 4s 255us/step - loss: 0.3488 - acc: 0.8504\n",
      "Epoch 3/17\n",
      "16000/16000 [==============================] - 4s 266us/step - loss: 0.3208 - acc: 0.8649\n",
      "Epoch 4/17\n",
      "16000/16000 [==============================] - 4s 258us/step - loss: 0.2992 - acc: 0.8757\n",
      "Epoch 5/17\n",
      "16000/16000 [==============================] - 4s 256us/step - loss: 0.2809 - acc: 0.8860\n",
      "Epoch 6/17\n",
      "16000/16000 [==============================] - 4s 261us/step - loss: 0.2587 - acc: 0.8965\n",
      "Epoch 7/17\n",
      "16000/16000 [==============================] - 4s 260us/step - loss: 0.2425 - acc: 0.9042\n",
      "Epoch 8/17\n",
      "16000/16000 [==============================] - 4s 267us/step - loss: 0.2292 - acc: 0.9106\n",
      "Epoch 9/17\n",
      "16000/16000 [==============================] - 4s 269us/step - loss: 0.2138 - acc: 0.9173\n",
      "Epoch 10/17\n",
      "16000/16000 [==============================] - 4s 255us/step - loss: 0.1926 - acc: 0.9282\n",
      "Epoch 11/17\n",
      "16000/16000 [==============================] - 4s 257us/step - loss: 0.1819 - acc: 0.9315\n",
      "Epoch 12/17\n",
      "16000/16000 [==============================] - 4s 257us/step - loss: 0.1700 - acc: 0.9351\n",
      "Epoch 13/17\n",
      "16000/16000 [==============================] - 5s 321us/step - loss: 0.1570 - acc: 0.9398\n",
      "Epoch 14/17\n",
      "16000/16000 [==============================] - 5s 321us/step - loss: 0.1484 - acc: 0.9447\n",
      "Epoch 15/17\n",
      "16000/16000 [==============================] - 5s 303us/step - loss: 0.1425 - acc: 0.9449\n",
      "Epoch 16/17\n",
      "16000/16000 [==============================] - 4s 259us/step - loss: 0.1363 - acc: 0.9499\n"
     ]
    },
    {
     "name": "stdout",
     "output_type": "stream",
     "text": [
      "Epoch 17/17\n",
      "16000/16000 [==============================] - 5s 283us/step - loss: 0.1281 - acc: 0.9494\n",
      "4000/4000 [==============================] - 2s 524us/step\n",
      "Epoch 1/18\n",
      "16000/16000 [==============================] - 9s 555us/step - loss: 0.4828 - acc: 0.7629\n",
      "Epoch 2/18\n",
      "16000/16000 [==============================] - 4s 254us/step - loss: 0.3521 - acc: 0.8453\n",
      "Epoch 3/18\n",
      "16000/16000 [==============================] - 4s 255us/step - loss: 0.3170 - acc: 0.8645\n",
      "Epoch 4/18\n",
      "16000/16000 [==============================] - 5s 292us/step - loss: 0.2959 - acc: 0.8755\n",
      "Epoch 5/18\n",
      "16000/16000 [==============================] - 4s 253us/step - loss: 0.2757 - acc: 0.8868\n",
      "Epoch 6/18\n",
      "16000/16000 [==============================] - 4s 239us/step - loss: 0.2571 - acc: 0.8936\n",
      "Epoch 7/18\n",
      "16000/16000 [==============================] - 4s 249us/step - loss: 0.2440 - acc: 0.9034\n",
      "Epoch 8/18\n",
      "16000/16000 [==============================] - 4s 270us/step - loss: 0.2245 - acc: 0.9121\n",
      "Epoch 9/18\n",
      "16000/16000 [==============================] - 5s 325us/step - loss: 0.2078 - acc: 0.9182\n",
      "Epoch 10/18\n",
      "16000/16000 [==============================] - 4s 239us/step - loss: 0.1896 - acc: 0.9268\n",
      "Epoch 11/18\n",
      "16000/16000 [==============================] - 4s 233us/step - loss: 0.1761 - acc: 0.9336\n",
      "Epoch 12/18\n",
      "16000/16000 [==============================] - 4s 237us/step - loss: 0.1673 - acc: 0.9381\n",
      "Epoch 13/18\n",
      "16000/16000 [==============================] - 4s 245us/step - loss: 0.1552 - acc: 0.9416\n",
      "Epoch 14/18\n",
      "16000/16000 [==============================] - 4s 251us/step - loss: 0.1530 - acc: 0.9420\n",
      "Epoch 15/18\n",
      "16000/16000 [==============================] - 4s 244us/step - loss: 0.1437 - acc: 0.9462\n",
      "Epoch 16/18\n",
      "16000/16000 [==============================] - 4s 272us/step - loss: 0.1315 - acc: 0.9491\n",
      "Epoch 17/18\n",
      "16000/16000 [==============================] - 4s 261us/step - loss: 0.1268 - acc: 0.9525\n",
      "Epoch 18/18\n",
      "16000/16000 [==============================] - 4s 256us/step - loss: 0.1177 - acc: 0.9548\n",
      "4000/4000 [==============================] - 2s 481us/step\n",
      "Epoch 1/19\n",
      "16000/16000 [==============================] - 7s 455us/step - loss: 0.4787 - acc: 0.7661\n",
      "Epoch 2/19\n",
      "16000/16000 [==============================] - 4s 237us/step - loss: 0.3476 - acc: 0.8487\n",
      "Epoch 3/19\n",
      "16000/16000 [==============================] - 4s 248us/step - loss: 0.3159 - acc: 0.8659\n",
      "Epoch 4/19\n",
      "16000/16000 [==============================] - 4s 252us/step - loss: 0.2963 - acc: 0.8744\n",
      "Epoch 5/19\n",
      "16000/16000 [==============================] - 4s 240us/step - loss: 0.2786 - acc: 0.8866\n",
      "Epoch 6/19\n",
      "16000/16000 [==============================] - 4s 240us/step - loss: 0.2575 - acc: 0.8949\n",
      "Epoch 7/19\n",
      "16000/16000 [==============================] - 4s 239us/step - loss: 0.2434 - acc: 0.9031\n",
      "Epoch 8/19\n",
      "16000/16000 [==============================] - 4s 241us/step - loss: 0.2279 - acc: 0.9118\n",
      "Epoch 9/19\n",
      "16000/16000 [==============================] - 4s 234us/step - loss: 0.2155 - acc: 0.9144\n",
      "Epoch 10/19\n",
      "16000/16000 [==============================] - 4s 236us/step - loss: 0.1911 - acc: 0.9276\n",
      "Epoch 11/19\n",
      "16000/16000 [==============================] - 4s 241us/step - loss: 0.1846 - acc: 0.9293\n",
      "Epoch 12/19\n",
      "16000/16000 [==============================] - 4s 244us/step - loss: 0.1698 - acc: 0.9350\n",
      "Epoch 13/19\n",
      "16000/16000 [==============================] - 4s 250us/step - loss: 0.1600 - acc: 0.9393\n",
      "Epoch 14/19\n",
      "16000/16000 [==============================] - 4s 246us/step - loss: 0.1521 - acc: 0.9416\n",
      "Epoch 15/19\n",
      "16000/16000 [==============================] - 4s 241us/step - loss: 0.1452 - acc: 0.9444\n",
      "Epoch 16/19\n",
      "16000/16000 [==============================] - 4s 232us/step - loss: 0.1333 - acc: 0.9496\n",
      "Epoch 17/19\n",
      "16000/16000 [==============================] - 4s 233us/step - loss: 0.1260 - acc: 0.9509\n",
      "Epoch 18/19\n",
      "16000/16000 [==============================] - 4s 234us/step - loss: 0.1230 - acc: 0.9518\n",
      "Epoch 19/19\n",
      "16000/16000 [==============================] - 4s 242us/step - loss: 0.1189 - acc: 0.9525\n",
      "4000/4000 [==============================] - 2s 481us/step\n",
      "Epoch 1/20\n",
      "16000/16000 [==============================] - 8s 478us/step - loss: 0.4775 - acc: 0.7647\n",
      "Epoch 2/20\n",
      "16000/16000 [==============================] - 4s 261us/step - loss: 0.3485 - acc: 0.8514\n",
      "Epoch 3/20\n",
      "16000/16000 [==============================] - 4s 250us/step - loss: 0.3199 - acc: 0.8646\n",
      "Epoch 4/20\n",
      "16000/16000 [==============================] - 4s 249us/step - loss: 0.2937 - acc: 0.8770\n",
      "Epoch 5/20\n",
      "16000/16000 [==============================] - 4s 256us/step - loss: 0.2788 - acc: 0.8871\n",
      "Epoch 6/20\n",
      "16000/16000 [==============================] - 4s 251us/step - loss: 0.2610 - acc: 0.8957\n",
      "Epoch 7/20\n",
      "16000/16000 [==============================] - 4s 235us/step - loss: 0.2408 - acc: 0.9052\n",
      "Epoch 8/20\n",
      "16000/16000 [==============================] - 4s 247us/step - loss: 0.2321 - acc: 0.9094\n",
      "Epoch 9/20\n",
      "16000/16000 [==============================] - 4s 267us/step - loss: 0.2113 - acc: 0.9177\n",
      "Epoch 10/20\n",
      "16000/16000 [==============================] - 4s 259us/step - loss: 0.2021 - acc: 0.9213\n",
      "Epoch 11/20\n",
      "16000/16000 [==============================] - 4s 243us/step - loss: 0.1818 - acc: 0.9311\n",
      "Epoch 12/20\n",
      "16000/16000 [==============================] - 4s 251us/step - loss: 0.1677 - acc: 0.9362\n",
      "Epoch 13/20\n",
      "16000/16000 [==============================] - 4s 246us/step - loss: 0.1573 - acc: 0.9398\n",
      "Epoch 14/20\n",
      "16000/16000 [==============================] - 4s 240us/step - loss: 0.1462 - acc: 0.9453\n",
      "Epoch 15/20\n",
      "16000/16000 [==============================] - 4s 256us/step - loss: 0.1381 - acc: 0.9483\n",
      "Epoch 16/20\n",
      "16000/16000 [==============================] - 4s 251us/step - loss: 0.1361 - acc: 0.9476\n",
      "Epoch 17/20\n",
      "16000/16000 [==============================] - 4s 262us/step - loss: 0.1279 - acc: 0.9493\n",
      "Epoch 18/20\n",
      "16000/16000 [==============================] - 4s 244us/step - loss: 0.1224 - acc: 0.9526\n",
      "Epoch 19/20\n",
      "16000/16000 [==============================] - 4s 267us/step - loss: 0.1128 - acc: 0.9579\n",
      "Epoch 20/20\n",
      "16000/16000 [==============================] - 4s 255us/step - loss: 0.1084 - acc: 0.9568\n",
      "4000/4000 [==============================] - 2s 488us/step\n"
     ]
    }
   ],
   "source": [
    "# Optimze epochs\n",
    "\n",
    "accuracies4 = []\n",
    "models4 = []\n",
    "\n",
    "for i in np.arange(1, 21):\n",
    "    model = Sequential()\n",
    "    model.add(Dense(120, input_shape=(1000,)))\n",
    "    model.add(Activation('relu'))\n",
    "    model.add(Dropout(0.7))\n",
    "    model.add(Dense(20))\n",
    "    model.add(Activation('relu'))\n",
    "\n",
    "    model.add(Dense(2))\n",
    "    model.add(Activation('softmax'))\n",
    "    \n",
    "    model.compile(optimizer='adam',\n",
    "              loss='binary_crossentropy',\n",
    "              metrics=['accuracy'])\n",
    "    \n",
    "    model.fit(x_train_s_norm, y_train_s_hot, epochs=i, batch_size=32, verbose=1)\n",
    "    \n",
    "    accuracies4.append(model.evaluate(x_val_norm, y_val_hot)[1])\n",
    "    models4.append(model)"
   ]
  },
  {
   "cell_type": "code",
   "execution_count": 81,
   "metadata": {},
   "outputs": [
    {
     "data": {
      "text/plain": [
       "4"
      ]
     },
     "execution_count": 81,
     "metadata": {},
     "output_type": "execute_result"
    }
   ],
   "source": [
    "np.argmax(accuracies4)"
   ]
  },
  {
   "cell_type": "code",
   "execution_count": 82,
   "metadata": {},
   "outputs": [
    {
     "data": {
      "text/plain": [
       "5"
      ]
     },
     "execution_count": 82,
     "metadata": {},
     "output_type": "execute_result"
    }
   ],
   "source": [
    "np.arange(1, 21)[4]"
   ]
  },
  {
   "cell_type": "code",
   "execution_count": 83,
   "metadata": {},
   "outputs": [
    {
     "name": "stdout",
     "output_type": "stream",
     "text": [
      "4000/4000 [==============================] - 0s 124us/step\n"
     ]
    },
    {
     "data": {
      "text/plain": [
       "[0.33541927671432498, 0.85750000000000004]"
      ]
     },
     "execution_count": 83,
     "metadata": {},
     "output_type": "execute_result"
    }
   ],
   "source": [
    "models4[4].evaluate(x_val_norm, y_val_hot)"
   ]
  },
  {
   "cell_type": "code",
   "execution_count": 30,
   "metadata": {},
   "outputs": [
    {
     "name": "stdout",
     "output_type": "stream",
     "text": [
      "Epoch 1/5\n",
      "16000/16000 [==============================] - 4s 260us/step - loss: 0.6915 - acc: 0.5381\n",
      "Epoch 2/5\n",
      "16000/16000 [==============================] - 3s 202us/step - loss: 0.6446 - acc: 0.6243\n",
      "Epoch 3/5\n",
      "16000/16000 [==============================] - 3s 209us/step - loss: 0.5575 - acc: 0.7147\n",
      "Epoch 4/5\n",
      "16000/16000 [==============================] - 3s 204us/step - loss: 0.4915 - acc: 0.7645\n",
      "Epoch 5/5\n",
      "16000/16000 [==============================] - 3s 205us/step - loss: 0.4636 - acc: 0.7822\n"
     ]
    },
    {
     "data": {
      "text/plain": [
       "<keras.callbacks.History at 0x11dd707f0>"
      ]
     },
     "execution_count": 30,
     "metadata": {},
     "output_type": "execute_result"
    }
   ],
   "source": [
    "    model = Sequential()\n",
    "    model.add(Dense(120, input_shape=(1000,)))\n",
    "    model.add(Activation('sigmoid'))\n",
    "    model.add(Dropout(0.7))\n",
    "    model.add(Dense(20))\n",
    "    model.add(Activation('sigmoid'))\n",
    "\n",
    "    model.add(Dense(2))\n",
    "    model.add(Activation('softmax'))\n",
    "    \n",
    "    model.compile(optimizer='adam',\n",
    "              loss='binary_crossentropy',\n",
    "              metrics=['accuracy'])\n",
    "    \n",
    "    model.fit(x_train_s_norm, y_train_s_hot, epochs=5, batch_size=32, verbose=1)"
   ]
  },
  {
   "cell_type": "code",
   "execution_count": 31,
   "metadata": {},
   "outputs": [
    {
     "name": "stdout",
     "output_type": "stream",
     "text": [
      "4000/4000 [==============================] - 0s 103us/step\n"
     ]
    },
    {
     "data": {
      "text/plain": [
       "[0.37439831280708313, 0.84325000000000006]"
      ]
     },
     "execution_count": 31,
     "metadata": {},
     "output_type": "execute_result"
    }
   ],
   "source": [
    "model.evaluate(x_val_norm, y_val_hot)"
   ]
  },
  {
   "cell_type": "code",
   "execution_count": 11,
   "metadata": {},
   "outputs": [
    {
     "name": "stdout",
     "output_type": "stream",
     "text": [
      "Epoch 1/5\n",
      "16000/16000 [==============================] - 4s 263us/step - loss: 0.4804 - acc: 0.7681\n",
      "Epoch 2/5\n",
      "16000/16000 [==============================] - 3s 202us/step - loss: 0.3486 - acc: 0.8508\n",
      "Epoch 3/5\n",
      "16000/16000 [==============================] - 3s 199us/step - loss: 0.3160 - acc: 0.8651\n",
      "Epoch 4/5\n",
      "16000/16000 [==============================] - 3s 199us/step - loss: 0.2941 - acc: 0.8744\n",
      "Epoch 5/5\n",
      "16000/16000 [==============================] - 3s 202us/step - loss: 0.2750 - acc: 0.8862\n"
     ]
    },
    {
     "data": {
      "text/plain": [
       "<keras.callbacks.History at 0x123f9e390>"
      ]
     },
     "execution_count": 11,
     "metadata": {},
     "output_type": "execute_result"
    }
   ],
   "source": [
    "    model = Sequential()\n",
    "    model.add(Dense(120, input_shape=(1000,)))\n",
    "    model.add(Activation('relu'))\n",
    "    model.add(Dropout(0.7))\n",
    "    model.add(Dense(20))\n",
    "    model.add(Activation('relu'))\n",
    "\n",
    "    model.add(Dense(2))\n",
    "    model.add(Activation('softmax'))\n",
    "    \n",
    "    model.compile(optimizer='adam',\n",
    "              loss='binary_crossentropy',\n",
    "              metrics=['accuracy'])\n",
    "    \n",
    "    model.fit(x_train_s_norm, y_train_s_hot, epochs=5, batch_size=32, verbose=1)"
   ]
  },
  {
   "cell_type": "code",
   "execution_count": 12,
   "metadata": {},
   "outputs": [
    {
     "name": "stdout",
     "output_type": "stream",
     "text": [
      "4000/4000 [==============================] - 0s 74us/step\n"
     ]
    },
    {
     "data": {
      "text/plain": [
       "[0.35212227517366407, 0.85175000000000001]"
      ]
     },
     "execution_count": 12,
     "metadata": {},
     "output_type": "execute_result"
    }
   ],
   "source": [
    "model.evaluate(x_val_norm, y_val_hot)"
   ]
  },
  {
   "cell_type": "code",
   "execution_count": null,
   "metadata": {
    "collapsed": true
   },
   "outputs": [],
   "source": [
    "0.85499999999999998]"
   ]
  },
  {
   "cell_type": "code",
   "execution_count": null,
   "metadata": {
    "collapsed": true
   },
   "outputs": [],
   "source": [
    "0.85324999999999995]"
   ]
  },
  {
   "cell_type": "code",
   "execution_count": 40,
   "metadata": {},
   "outputs": [
    {
     "name": "stdout",
     "output_type": "stream",
     "text": [
      "4000/4000 [==============================] - 1s 132us/step\n",
      "4000/4000 [==============================] - 1s 149us/step\n",
      "4000/4000 [==============================] - 1s 169us/step\n",
      "4000/4000 [==============================] - 1s 191us/step\n",
      "4000/4000 [==============================] - 1s 168us/step\n"
     ]
    }
   ],
   "source": [
    "# CV NN\n",
    "\n",
    "x_train_norm = preprocessing.normalize(x_train, norm='l2')\n",
    "\n",
    "# One-hot\n",
    "y_train_hot = np_utils.to_categorical(y_train)\n",
    "\n",
    "from sklearn.model_selection import cross_val_score\n",
    "from sklearn.model_selection import KFold\n",
    "\n",
    "# nhypers = 15\n",
    "# kfold = 5\n",
    "# dropouts = np.linspace(0, .7, nhypers)\n",
    "# val_scores = []\n",
    "# models = []\n",
    "\n",
    "# for i in dropouts:\n",
    "#     model = Sequential()\n",
    "#     model.add(Dense(120, input_shape=(1000,)))\n",
    "#     model.add(Activation('relu'))\n",
    "#     model.add(Dropout(i))\n",
    "#     model.add(Dense(20))\n",
    "#     model.add(Activation('relu'))\n",
    "\n",
    "#     model.add(Dense(2))\n",
    "#     model.add(Activation('softmax'))\n",
    "    \n",
    "#     model.compile(optimizer='adam',\n",
    "#               loss='binary_crossentropy',\n",
    "#               metrics=['accuracy'])\n",
    "    \n",
    "# #     model.fit(x_train_norm, y_train_hot, epochs=1, batch_size=32, verbose=1)\n",
    "    \n",
    "#     scores = cross_val_score(model, x_train_norm, y_train_hot, groups=None, scoring=None,\n",
    "#                              cv=kfold, n_jobs=1, verbose=0, fit_params=None)\n",
    "#     val_scores.append(scores)\n",
    "#     models.append(model)\n",
    "    \n",
    "kfold = KFold(n_splits=5, shuffle=True)\n",
    "cvscores = []\n",
    "for train, test in kfold.split(x_train_norm, y_train_hot):\n",
    "    model = Sequential()\n",
    "    model.add(Dense(120, input_shape=(1000,)))\n",
    "    model.add(Activation('relu'))\n",
    "    model.add(Dropout(0.5))\n",
    "    model.add(Dense(20))\n",
    "    model.add(Activation('relu'))\n",
    "\n",
    "    model.add(Dense(2))\n",
    "    model.add(Activation('softmax'))\n",
    "    \n",
    "    model.compile(optimizer='adam',\n",
    "              loss='binary_crossentropy',\n",
    "              metrics=['accuracy'])\n",
    "    # Fit the model\n",
    "    model.fit(x_train_norm[train], y_train_hot[train], epochs=1, batch_size=10, verbose=0)\n",
    "    # evaluate the model\n",
    "    scores = model.evaluate(x_train_norm[test], y_train_hot[test])"
   ]
  },
  {
   "cell_type": "code",
   "execution_count": 41,
   "metadata": {},
   "outputs": [
    {
     "data": {
      "text/plain": [
       "[0.34180925035476684, 0.84775]"
      ]
     },
     "execution_count": 41,
     "metadata": {},
     "output_type": "execute_result"
    }
   ],
   "source": [
    "scores"
   ]
  },
  {
   "cell_type": "code",
   "execution_count": null,
   "metadata": {
    "collapsed": true
   },
   "outputs": [],
   "source": [
    ": 0.2"
   ]
  },
  {
   "cell_type": "code",
   "execution_count": null,
   "metadata": {
    "collapsed": true
   },
   "outputs": [],
   "source": [
    ": 0.5"
   ]
  },
  {
   "cell_type": "code",
   "execution_count": null,
   "metadata": {
    "collapsed": true
   },
   "outputs": [],
   "source": [
    "[0.34539571571350097, 0.85024999999999995] : 0.7"
   ]
  },
  {
   "cell_type": "code",
   "execution_count": 26,
   "metadata": {},
   "outputs": [
    {
     "name": "stdout",
     "output_type": "stream",
     "text": [
      "Epoch 1/5\n",
      "20000/20000 [==============================] - 6s 280us/step - loss: 0.4651 - acc: 0.7740\n",
      "Epoch 2/5\n",
      "20000/20000 [==============================] - 5s 241us/step - loss: 0.3449 - acc: 0.8493\n",
      "Epoch 3/5\n",
      "20000/20000 [==============================] - 5s 241us/step - loss: 0.3168 - acc: 0.8628\n",
      "Epoch 4/5\n",
      "20000/20000 [==============================] - 5s 241us/step - loss: 0.2966 - acc: 0.8754\n",
      "Epoch 5/5\n",
      "20000/20000 [==============================] - 5s 241us/step - loss: 0.2818 - acc: 0.8821\n",
      "Epoch 1/1\n",
      "20000/20000 [==============================] - 5s 248us/step - loss: 0.2639 - acc: 0.8946\n",
      "   Id  Prediction\n",
      "0   1           1\n",
      "1   2           1\n",
      "2   3           0\n",
      "3   4           0\n",
      "4   5           0\n",
      "5   6           0\n",
      "6   7           1\n",
      "7   8           1\n",
      "8   9           1\n",
      "9  10           0\n"
     ]
    }
   ],
   "source": [
    "# Submit Optimal NN\n",
    "\n",
    "# Normalize data\n",
    "x_train_norm = preprocessing.normalize(x_train, norm='l2')\n",
    "x_test_norm = preprocessing.normalize(x_test, norm='l2')\n",
    "\n",
    "# One-hot\n",
    "y_train_hot = np_utils.to_categorical(y_train)\n",
    "\n",
    "model = Sequential()\n",
    "model.add(Dense(120, input_shape=(1000,)))\n",
    "model.add(Activation('relu'))\n",
    "model.add(Dropout(0.7))\n",
    "model.add(Dense(20))\n",
    "model.add(Activation('relu'))\n",
    "\n",
    "model.add(Dense(2))\n",
    "model.add(Activation('softmax'))\n",
    "    \n",
    "model.compile(optimizer='adam', loss='binary_crossentropy',metrics=['accuracy'])\n",
    "model.fit(x_train_norm, y_train_hot, epochs=5, batch_size=32, verbose=1)\n",
    "\n",
    "model.fit(x_train_norm, y_train_hot)\n",
    "\n",
    "y_pred = model.predict_classes(x_test_norm)\n",
    "\n",
    "submission = pd.DataFrame({'Id': range(1, len(x_test)+1), 'Prediction': [int(x) for x in y_pred]})\n",
    "print(submission.head(10))\n",
    "\n",
    "submission.to_csv('submission_optimal_Dense_NN.csv', index=False, header=True)"
   ]
  },
  {
   "cell_type": "code",
   "execution_count": 20,
   "metadata": {},
   "outputs": [
    {
     "data": {
      "text/plain": [
       "array([ 0.04667654,  0.95332348], dtype=float32)"
      ]
     },
     "execution_count": 20,
     "metadata": {},
     "output_type": "execute_result"
    }
   ],
   "source": [
    "y_pred[0]"
   ]
  },
  {
   "cell_type": "code",
   "execution_count": 27,
   "metadata": {},
   "outputs": [
    {
     "data": {
      "text/plain": [
       "array([[ 0.00259928,  0.99740076],\n",
       "       [ 0.39218283,  0.60781723],\n",
       "       [ 0.08801281,  0.91198725],\n",
       "       ..., \n",
       "       [ 0.25613365,  0.74386638],\n",
       "       [ 0.0010884 ,  0.99891162],\n",
       "       [ 0.96818894,  0.03181104]], dtype=float32)"
      ]
     },
     "execution_count": 27,
     "metadata": {},
     "output_type": "execute_result"
    }
   ],
   "source": [
    "model.predict(x_train_norm)"
   ]
  },
  {
   "cell_type": "code",
   "execution_count": 24,
   "metadata": {},
   "outputs": [
    {
     "data": {
      "text/plain": [
       "(array([[ 0.,  1.],\n",
       "        [ 0.,  1.],\n",
       "        [ 0.,  1.],\n",
       "        ..., \n",
       "        [ 0.,  1.],\n",
       "        [ 0.,  1.],\n",
       "        [ 1.,  0.]]), array([ 1.,  1.,  1., ...,  1.,  1.,  0.]))"
      ]
     },
     "execution_count": 24,
     "metadata": {},
     "output_type": "execute_result"
    }
   ],
   "source": [
    "y_train_hot, y_train"
   ]
  },
  {
   "cell_type": "code",
   "execution_count": 76,
   "metadata": {},
   "outputs": [
    {
     "name": "stdout",
     "output_type": "stream",
     "text": [
      "Epoch 1/10\n",
      "16000/16000 [==============================] - 7s 407us/step - loss: 0.4364 - acc: 0.8022\n",
      "Epoch 2/10\n",
      "16000/16000 [==============================] - 3s 173us/step - loss: 0.3240 - acc: 0.8621\n",
      "Epoch 3/10\n",
      "16000/16000 [==============================] - 3s 174us/step - loss: 0.2948 - acc: 0.8765\n",
      "Epoch 4/10\n",
      "16000/16000 [==============================] - 3s 172us/step - loss: 0.2637 - acc: 0.8918\n",
      "Epoch 5/10\n",
      "16000/16000 [==============================] - 3s 174us/step - loss: 0.2269 - acc: 0.9111\n",
      "Epoch 6/10\n",
      "16000/16000 [==============================] - 3s 169us/step - loss: 0.1852 - acc: 0.9304\n",
      "Epoch 7/10\n",
      "16000/16000 [==============================] - 3s 172us/step - loss: 0.1504 - acc: 0.9454\n",
      "Epoch 8/10\n",
      "16000/16000 [==============================] - 3s 169us/step - loss: 0.1173 - acc: 0.9613\n",
      "Epoch 9/10\n",
      "16000/16000 [==============================] - 3s 172us/step - loss: 0.0952 - acc: 0.9678\n",
      "Epoch 10/10\n",
      "16000/16000 [==============================] - 3s 165us/step - loss: 0.0731 - acc: 0.9764\n"
     ]
    },
    {
     "data": {
      "text/plain": [
       "<keras.callbacks.History at 0x18e98fd68>"
      ]
     },
     "execution_count": 76,
     "metadata": {},
     "output_type": "execute_result"
    }
   ],
   "source": [
    "    model = Sequential()\n",
    "    model.add(Dense(50, input_shape=(1000,)))\n",
    "    model.add(Activation('relu'))\n",
    "    model.add(Dropout(0.7))\n",
    "    model.add(Dense(20))\n",
    "    model.add(Activation('relu'))\n",
    "\n",
    "    model.add(Dense(2))\n",
    "    model.add(Activation('softmax'))\n",
    "    \n",
    "    model.compile(optimizer='adam',\n",
    "              loss='binary_crossentropy',\n",
    "              metrics=['accuracy'])\n",
    "    \n",
    "    model.fit(x_train_s_norm, y_train_s_hot, epochs=10, batch_size=32, verbose=1)"
   ]
  },
  {
   "cell_type": "code",
   "execution_count": 77,
   "metadata": {},
   "outputs": [
    {
     "name": "stdout",
     "output_type": "stream",
     "text": [
      "4000/4000 [==============================] - 2s 404us/step\n"
     ]
    },
    {
     "data": {
      "text/plain": [
       "[0.56419626776129006, 0.84299999999999997]"
      ]
     },
     "execution_count": 77,
     "metadata": {},
     "output_type": "execute_result"
    }
   ],
   "source": [
    "model.evaluate(x_val_norm, y_val_hot)"
   ]
  },
  {
   "cell_type": "code",
   "execution_count": 72,
   "metadata": {},
   "outputs": [
    {
     "name": "stdout",
     "output_type": "stream",
     "text": [
      "Epoch 1/1\n",
      "16000/16000 [==============================] - 6s 399us/step - loss: 0.4243 - acc: 0.8088\n",
      "4000/4000 [==============================] - 1s 357us/step\n",
      "Epoch 1/1\n",
      "16000/16000 [==============================] - 5s 341us/step - loss: 0.4327 - acc: 0.7979\n",
      "4000/4000 [==============================] - 1s 371us/step\n",
      "Epoch 1/1\n",
      "16000/16000 [==============================] - 5s 343us/step - loss: 0.4464 - acc: 0.7973\n",
      "4000/4000 [==============================] - 1s 350us/step\n",
      "Epoch 1/1\n",
      "16000/16000 [==============================] - 6s 344us/step - loss: 0.4438 - acc: 0.7977\n",
      "4000/4000 [==============================] - 1s 374us/step\n",
      "Epoch 1/1\n",
      "16000/16000 [==============================] - 6s 360us/step - loss: 0.4667 - acc: 0.7758\n",
      "4000/4000 [==============================] - 1s 369us/step\n",
      "Epoch 1/1\n",
      "16000/16000 [==============================] - 6s 356us/step - loss: 0.4657 - acc: 0.7777\n",
      "4000/4000 [==============================] - 1s 366us/step\n",
      "Epoch 1/1\n",
      "16000/16000 [==============================] - 6s 359us/step - loss: 0.4918 - acc: 0.7559\n",
      "4000/4000 [==============================] - 1s 367us/step\n",
      "Epoch 1/1\n",
      "16000/16000 [==============================] - 6s 356us/step - loss: 0.5305 - acc: 0.7261\n",
      "4000/4000 [==============================] - 2s 496us/step\n",
      "Epoch 1/1\n",
      "16000/16000 [==============================] - 7s 455us/step - loss: 0.5569 - acc: 0.7080\n",
      "4000/4000 [==============================] - 2s 441us/step\n",
      "Epoch 1/1\n",
      "16000/16000 [==============================] - 6s 406us/step - loss: 0.6351 - acc: 0.6228\n",
      "4000/4000 [==============================] - 2s 444us/step\n",
      "Epoch 1/1\n",
      "16000/16000 [==============================] - 6s 383us/step - loss: 0.4231 - acc: 0.8154\n",
      "4000/4000 [==============================] - 2s 428us/step\n"
     ]
    }
   ],
   "source": [
    "accuracies3 = []\n",
    "models3 = []\n",
    "\n",
    "for i in np.arange(0.0, 1.1, 0.1):\n",
    "    model = Sequential()\n",
    "    model.add(Dense(50, input_shape=(1000,)))\n",
    "    model.add(Activation('relu'))\n",
    "    model.add(Dropout(i))\n",
    "    model.add(Dense(20))\n",
    "    model.add(Activation('relu'))\n",
    "\n",
    "    model.add(Dense(2))\n",
    "    model.add(Activation('softmax'))\n",
    "    \n",
    "    model.compile(optimizer='adam',\n",
    "              loss='binary_crossentropy',\n",
    "              metrics=['accuracy'])\n",
    "    \n",
    "    model.fit(x_train_s_norm, y_train_s_hot, epochs=1, batch_size=32, verbose=1)\n",
    "    \n",
    "    accuracies3.append(model.evaluate(x_val_norm, y_val_hot)[1])\n",
    "    models3.append(model)"
   ]
  },
  {
   "cell_type": "code",
   "execution_count": 73,
   "metadata": {},
   "outputs": [
    {
     "data": {
      "text/plain": [
       "2"
      ]
     },
     "execution_count": 73,
     "metadata": {},
     "output_type": "execute_result"
    }
   ],
   "source": [
    "np.argmax(accuracies3)"
   ]
  },
  {
   "cell_type": "code",
   "execution_count": 75,
   "metadata": {},
   "outputs": [
    {
     "data": {
      "text/plain": [
       "0.20000000000000001"
      ]
     },
     "execution_count": 75,
     "metadata": {},
     "output_type": "execute_result"
    }
   ],
   "source": [
    "np.arange(0.0, 1.1, 0.1)[2]"
   ]
  },
  {
   "cell_type": "code",
   "execution_count": 74,
   "metadata": {},
   "outputs": [
    {
     "name": "stdout",
     "output_type": "stream",
     "text": [
      "4000/4000 [==============================] - 0s 94us/step\n"
     ]
    },
    {
     "data": {
      "text/plain": [
       "[0.33924327248334885, 0.85175000000000001]"
      ]
     },
     "execution_count": 74,
     "metadata": {},
     "output_type": "execute_result"
    }
   ],
   "source": [
    "models3[2].evaluate(x_val_norm, y_val_hot)"
   ]
  },
  {
   "cell_type": "code",
   "execution_count": 60,
   "metadata": {},
   "outputs": [
    {
     "name": "stdout",
     "output_type": "stream",
     "text": [
      "Epoch 1/1\n",
      "16000/16000 [==============================] - 6s 358us/step - loss: 0.4175 - acc: 0.8121\n",
      "4000/4000 [==============================] - 1s 244us/step\n",
      "Epoch 1/1\n",
      "16000/16000 [==============================] - 5s 336us/step - loss: 0.4216 - acc: 0.8083\n",
      "4000/4000 [==============================] - 1s 246us/step\n",
      "Epoch 1/1\n",
      "16000/16000 [==============================] - 5s 336us/step - loss: 0.4300 - acc: 0.8096\n",
      "4000/4000 [==============================] - 1s 252us/step\n",
      "Epoch 1/1\n",
      "16000/16000 [==============================] - 6s 365us/step - loss: 0.4577 - acc: 0.7852\n",
      "4000/4000 [==============================] - 1s 277us/step\n",
      "Epoch 1/1\n",
      "16000/16000 [==============================] - 6s 358us/step - loss: 0.4625 - acc: 0.7838\n",
      "4000/4000 [==============================] - 1s 258us/step\n",
      "Epoch 1/1\n",
      "16000/16000 [==============================] - 6s 387us/step - loss: 0.4951 - acc: 0.7579\n",
      "4000/4000 [==============================] - 1s 286us/step\n",
      "Epoch 1/1\n",
      "16000/16000 [==============================] - 6s 373us/step - loss: 0.5364 - acc: 0.7273\n",
      "4000/4000 [==============================] - 1s 335us/step\n",
      "Epoch 1/1\n",
      "16000/16000 [==============================] - 6s 395us/step - loss: 0.5864 - acc: 0.6698\n",
      "4000/4000 [==============================] - 1s 283us/step\n",
      "Epoch 1/1\n",
      "16000/16000 [==============================] - 6s 373us/step - loss: 0.6519 - acc: 0.5936\n",
      "4000/4000 [==============================] - 1s 301us/step\n",
      "Epoch 1/1\n",
      "16000/16000 [==============================] - 7s 407us/step - loss: 0.6963 - acc: 0.5130\n",
      "4000/4000 [==============================] - 1s 313us/step\n",
      "Epoch 1/1\n",
      "16000/16000 [==============================] - 6s 360us/step - loss: 0.4066 - acc: 0.8204\n",
      "4000/4000 [==============================] - 1s 286us/step\n"
     ]
    }
   ],
   "source": [
    "# Optimize\n",
    "\n",
    "accuracies2 = []\n",
    "models2 = []\n",
    "\n",
    "for i in np.arange(0.0, 1.1, 0.1):\n",
    "    model = Sequential()\n",
    "    model.add(Dense(120, input_shape=(1000,)))\n",
    "    model.add(Activation('relu'))\n",
    "    model.add(Dropout(i))\n",
    "    model.add(Dense(20))\n",
    "    model.add(Activation('relu'))\n",
    "    model.add(Dropout(i))\n",
    "\n",
    "    model.add(Dense(2))\n",
    "    model.add(Activation('softmax'))\n",
    "    \n",
    "    model.compile(optimizer='adam',\n",
    "              loss='binary_crossentropy',\n",
    "              metrics=['accuracy'])\n",
    "    \n",
    "    model.fit(x_train_s_norm, y_train_s_hot, epochs=1, batch_size=32, verbose=1)\n",
    "    \n",
    "    accuracies2.append(model.evaluate(x_val_norm, y_val_hot)[1])\n",
    "    models2.append(model)"
   ]
  },
  {
   "cell_type": "code",
   "execution_count": 65,
   "metadata": {},
   "outputs": [
    {
     "data": {
      "text/plain": [
       "4"
      ]
     },
     "execution_count": 65,
     "metadata": {},
     "output_type": "execute_result"
    }
   ],
   "source": [
    "np.argmax(accuracies2)"
   ]
  },
  {
   "cell_type": "code",
   "execution_count": 67,
   "metadata": {},
   "outputs": [
    {
     "name": "stdout",
     "output_type": "stream",
     "text": [
      "4000/4000 [==============================] - 0s 97us/step\n"
     ]
    },
    {
     "data": {
      "text/plain": [
       "[0.3415415415763855, 0.85124999999999995]"
      ]
     },
     "execution_count": 67,
     "metadata": {},
     "output_type": "execute_result"
    }
   ],
   "source": [
    "models2[4].evaluate(x_val_norm, y_val_hot)"
   ]
  },
  {
   "cell_type": "code",
   "execution_count": 49,
   "metadata": {},
   "outputs": [
    {
     "name": "stdout",
     "output_type": "stream",
     "text": [
      "Epoch 1/1\n",
      "16000/16000 [==============================] - 5s 329us/step - loss: 0.4143 - acc: 0.8143\n",
      "4000/4000 [==============================] - 1s 182us/step\n",
      "Epoch 1/1\n",
      "16000/16000 [==============================] - 5s 327us/step - loss: 0.4153 - acc: 0.8123\n",
      "4000/4000 [==============================] - 1s 189us/step\n",
      "Epoch 1/1\n",
      "16000/16000 [==============================] - 6s 356us/step - loss: 0.4211 - acc: 0.8124\n",
      "4000/4000 [==============================] - 1s 214us/step\n",
      "Epoch 1/1\n",
      "16000/16000 [==============================] - 4s 278us/step - loss: 0.4315 - acc: 0.8056\n",
      "4000/4000 [==============================] - 1s 252us/step\n",
      "Epoch 1/1\n",
      "16000/16000 [==============================] - 5s 329us/step - loss: 0.4360 - acc: 0.8003\n",
      "4000/4000 [==============================] - 1s 194us/step\n",
      "Epoch 1/1\n",
      "16000/16000 [==============================] - 5s 311us/step - loss: 0.4478 - acc: 0.7905\n",
      "4000/4000 [==============================] - ETA:  - 1s 281us/step\n",
      "Epoch 1/1\n",
      "16000/16000 [==============================] - 6s 346us/step - loss: 0.4653 - acc: 0.7768\n",
      "4000/4000 [==============================] - 1s 263us/step\n",
      "Epoch 1/1\n",
      "16000/16000 [==============================] - 6s 380us/step - loss: 0.4786 - acc: 0.7651\n",
      "4000/4000 [==============================] - 1s 227us/step\n",
      "Epoch 1/1\n",
      "16000/16000 [==============================] - 5s 313us/step - loss: 0.5163 - acc: 0.7396\n",
      "4000/4000 [==============================] - 1s 211us/step\n",
      "Epoch 1/1\n",
      "16000/16000 [==============================] - 5s 310us/step - loss: 0.5981 - acc: 0.6681\n",
      "4000/4000 [==============================] - 1s 213us/step\n",
      "Epoch 1/1\n",
      "16000/16000 [==============================] - 5s 306us/step - loss: 0.4113 - acc: 0.8154\n",
      "4000/4000 [==============================] - 1s 220us/step\n"
     ]
    }
   ],
   "source": [
    "# Optimize\n",
    "\n",
    "accuracies = []\n",
    "models = []\n",
    "\n",
    "for i in np.arange(0.0, 1.1, 0.1):\n",
    "    model = Sequential()\n",
    "    model.add(Dense(120, input_shape=(1000,)))\n",
    "    model.add(Activation('relu'))\n",
    "    model.add(Dropout(i))\n",
    "    model.add(Dense(20))\n",
    "    model.add(Activation('relu'))\n",
    "\n",
    "    model.add(Dense(2))\n",
    "    model.add(Activation('softmax'))\n",
    "    \n",
    "    model.compile(optimizer='adam',\n",
    "              loss='binary_crossentropy',\n",
    "              metrics=['accuracy'])\n",
    "    \n",
    "    model.fit(x_train_s_norm, y_train_s_hot, epochs=1, batch_size=32, verbose=1)\n",
    "    \n",
    "    accuracies.append(model.evaluate(x_val_norm, y_val_hot)[1])\n",
    "    models.append(model)"
   ]
  },
  {
   "cell_type": "code",
   "execution_count": 64,
   "metadata": {},
   "outputs": [
    {
     "data": {
      "text/plain": [
       "7"
      ]
     },
     "execution_count": 64,
     "metadata": {},
     "output_type": "execute_result"
    }
   ],
   "source": [
    "np.argmax(accuracies)"
   ]
  },
  {
   "cell_type": "code",
   "execution_count": 68,
   "metadata": {},
   "outputs": [
    {
     "data": {
      "text/plain": [
       "0.70000000000000007"
      ]
     },
     "execution_count": 68,
     "metadata": {},
     "output_type": "execute_result"
    }
   ],
   "source": [
    "np.arange(0.0, 1.1, 0.1)[7]"
   ]
  },
  {
   "cell_type": "code",
   "execution_count": 62,
   "metadata": {},
   "outputs": [
    {
     "name": "stdout",
     "output_type": "stream",
     "text": [
      "4000/4000 [==============================] - 0s 98us/step\n"
     ]
    },
    {
     "data": {
      "text/plain": [
       "[0.34473459619283675, 0.85275000000000001]"
      ]
     },
     "execution_count": 62,
     "metadata": {},
     "output_type": "execute_result"
    }
   ],
   "source": [
    "models[7].evaluate(x_val_norm, y_val_hot)"
   ]
  },
  {
   "cell_type": "code",
   "execution_count": 69,
   "metadata": {},
   "outputs": [
    {
     "name": "stdout",
     "output_type": "stream",
     "text": [
      "Epoch 1/30\n",
      "16000/16000 [==============================] - 6s 377us/step - loss: 0.4850 - acc: 0.7605\n",
      "Epoch 2/30\n",
      "16000/16000 [==============================] - 4s 235us/step - loss: 0.3472 - acc: 0.8499\n",
      "Epoch 3/30\n",
      "16000/16000 [==============================] - 4s 232us/step - loss: 0.3220 - acc: 0.8646\n",
      "Epoch 4/30\n",
      "16000/16000 [==============================] - 4s 231us/step - loss: 0.2962 - acc: 0.8732\n",
      "Epoch 5/30\n",
      "16000/16000 [==============================] - 4s 227us/step - loss: 0.2796 - acc: 0.8834\n",
      "Epoch 6/30\n",
      "16000/16000 [==============================] - 4s 222us/step - loss: 0.2616 - acc: 0.8933\n",
      "Epoch 7/30\n",
      "16000/16000 [==============================] - 4s 229us/step - loss: 0.2441 - acc: 0.9026\n",
      "Epoch 8/30\n",
      "16000/16000 [==============================] - 4s 226us/step - loss: 0.2274 - acc: 0.9119\n",
      "Epoch 9/30\n",
      "16000/16000 [==============================] - 4s 231us/step - loss: 0.2116 - acc: 0.9204\n",
      "Epoch 10/30\n",
      "16000/16000 [==============================] - 4s 232us/step - loss: 0.1921 - acc: 0.9260\n",
      "Epoch 11/30\n",
      "16000/16000 [==============================] - 4s 239us/step - loss: 0.1844 - acc: 0.9297\n",
      "Epoch 12/30\n",
      "16000/16000 [==============================] - 4s 236us/step - loss: 0.1675 - acc: 0.9354\n",
      "Epoch 13/30\n",
      "16000/16000 [==============================] - 4s 220us/step - loss: 0.1615 - acc: 0.9381\n",
      "Epoch 14/30\n",
      "16000/16000 [==============================] - 4s 237us/step - loss: 0.1472 - acc: 0.9426\n",
      "Epoch 15/30\n",
      "16000/16000 [==============================] - 4s 226us/step - loss: 0.1416 - acc: 0.9460\n",
      "Epoch 16/30\n",
      "16000/16000 [==============================] - 4s 225us/step - loss: 0.1308 - acc: 0.9521\n",
      "Epoch 17/30\n",
      "16000/16000 [==============================] - 4s 238us/step - loss: 0.1286 - acc: 0.9527\n",
      "Epoch 18/30\n",
      "16000/16000 [==============================] - 4s 232us/step - loss: 0.1236 - acc: 0.9509\n",
      "Epoch 19/30\n",
      "16000/16000 [==============================] - 4s 238us/step - loss: 0.1189 - acc: 0.9543\n",
      "Epoch 20/30\n",
      "16000/16000 [==============================] - 4s 238us/step - loss: 0.1107 - acc: 0.9577\n",
      "Epoch 21/30\n",
      "16000/16000 [==============================] - 4s 223us/step - loss: 0.1085 - acc: 0.9561\n",
      "Epoch 22/30\n",
      "16000/16000 [==============================] - 4s 251us/step - loss: 0.1053 - acc: 0.9584\n",
      "Epoch 23/30\n",
      "16000/16000 [==============================] - 4s 225us/step - loss: 0.0997 - acc: 0.9585\n",
      "Epoch 24/30\n",
      "16000/16000 [==============================] - 4s 222us/step - loss: 0.0942 - acc: 0.9623\n",
      "Epoch 25/30\n",
      "16000/16000 [==============================] - 4s 234us/step - loss: 0.0936 - acc: 0.9630\n",
      "Epoch 26/30\n",
      "16000/16000 [==============================] - 4s 225us/step - loss: 0.0960 - acc: 0.9627\n",
      "Epoch 27/30\n",
      "16000/16000 [==============================] - 4s 224us/step - loss: 0.0847 - acc: 0.9666\n",
      "Epoch 28/30\n",
      "16000/16000 [==============================] - 4s 236us/step - loss: 0.0878 - acc: 0.9642\n",
      "Epoch 29/30\n",
      "16000/16000 [==============================] - 4s 236us/step - loss: 0.0827 - acc: 0.9669\n",
      "Epoch 30/30\n",
      "16000/16000 [==============================] - 4s 230us/step - loss: 0.0785 - acc: 0.9680\n"
     ]
    },
    {
     "data": {
      "text/plain": [
       "<keras.callbacks.History at 0x1756405c0>"
      ]
     },
     "execution_count": 69,
     "metadata": {},
     "output_type": "execute_result"
    }
   ],
   "source": [
    "# Train best NN for 30 epochs\n",
    "\n",
    "model = Sequential()\n",
    "model.add(Dense(120, input_shape=(1000,)))\n",
    "model.add(Activation('relu'))\n",
    "model.add(Dropout(0.7))\n",
    "model.add(Dense(20))\n",
    "model.add(Activation('relu'))\n",
    "\n",
    "model.add(Dense(2))\n",
    "model.add(Activation('softmax'))\n",
    "    \n",
    "model.compile(optimizer='adam',\n",
    "              loss='binary_crossentropy',\n",
    "              metrics=['accuracy'])\n",
    "    \n",
    "model.fit(x_train_s_norm, y_train_s_hot, epochs=30, batch_size=32, verbose=1)"
   ]
  },
  {
   "cell_type": "code",
   "execution_count": 70,
   "metadata": {},
   "outputs": [
    {
     "name": "stdout",
     "output_type": "stream",
     "text": [
      "4000/4000 [==============================] - 1s 312us/step\n"
     ]
    },
    {
     "data": {
      "text/plain": [
       "[0.61870412689447407, 0.85075000000000001]"
      ]
     },
     "execution_count": 70,
     "metadata": {},
     "output_type": "execute_result"
    }
   ],
   "source": [
    "model.evaluate(x_val_norm, y_val_hot)"
   ]
  },
  {
   "cell_type": "code",
   "execution_count": null,
   "metadata": {
    "collapsed": true
   },
   "outputs": [],
   "source": [
    "# Dataset Statistics (throw away neutral words)\n",
    "\n"
   ]
  },
  {
   "cell_type": "code",
   "execution_count": 115,
   "metadata": {},
   "outputs": [
    {
     "data": {
      "text/plain": [
       "array([[ 0.,  0.,  0., ...,  0.,  0.,  0.],\n",
       "       [ 3.,  0.,  0., ...,  0.,  0.,  0.],\n",
       "       [ 0.,  3.,  1., ...,  0.,  0.,  0.],\n",
       "       ..., \n",
       "       [ 3.,  0.,  1., ...,  0.,  0.,  0.],\n",
       "       [ 2.,  4.,  0., ...,  0.,  0.,  0.],\n",
       "       [ 0.,  0.,  3., ...,  0.,  0.,  0.]])"
      ]
     },
     "execution_count": 115,
     "metadata": {},
     "output_type": "execute_result"
    }
   ],
   "source": [
    "x_train"
   ]
  },
  {
   "cell_type": "code",
   "execution_count": 391,
   "metadata": {
    "collapsed": true
   },
   "outputs": [],
   "source": [
    "# Read in data as Pandas dataframe\n",
    "data_pd = pd.read_csv('training_data.txt', sep=\" \", header=None)"
   ]
  },
  {
   "cell_type": "code",
   "execution_count": 393,
   "metadata": {},
   "outputs": [
    {
     "data": {
      "text/html": [
       "<div>\n",
       "<style scoped>\n",
       "    .dataframe tbody tr th:only-of-type {\n",
       "        vertical-align: middle;\n",
       "    }\n",
       "\n",
       "    .dataframe tbody tr th {\n",
       "        vertical-align: top;\n",
       "    }\n",
       "\n",
       "    .dataframe thead th {\n",
       "        text-align: right;\n",
       "    }\n",
       "</style>\n",
       "<table border=\"1\" class=\"dataframe\">\n",
       "  <thead>\n",
       "    <tr style=\"text-align: right;\">\n",
       "      <th></th>\n",
       "      <th>0</th>\n",
       "      <th>1</th>\n",
       "      <th>2</th>\n",
       "      <th>3</th>\n",
       "      <th>4</th>\n",
       "      <th>5</th>\n",
       "      <th>6</th>\n",
       "      <th>7</th>\n",
       "      <th>8</th>\n",
       "      <th>9</th>\n",
       "      <th>...</th>\n",
       "      <th>991</th>\n",
       "      <th>992</th>\n",
       "      <th>993</th>\n",
       "      <th>994</th>\n",
       "      <th>995</th>\n",
       "      <th>996</th>\n",
       "      <th>997</th>\n",
       "      <th>998</th>\n",
       "      <th>999</th>\n",
       "      <th>1000</th>\n",
       "    </tr>\n",
       "  </thead>\n",
       "  <tbody>\n",
       "    <tr>\n",
       "      <th>0</th>\n",
       "      <td>Label</td>\n",
       "      <td>thi</td>\n",
       "      <td>book</td>\n",
       "      <td>wa</td>\n",
       "      <td>one</td>\n",
       "      <td>read</td>\n",
       "      <td>movi</td>\n",
       "      <td>like</td>\n",
       "      <td>great</td>\n",
       "      <td>good</td>\n",
       "      <td>...</td>\n",
       "      <td>brought</td>\n",
       "      <td>regular</td>\n",
       "      <td>shock</td>\n",
       "      <td>secret</td>\n",
       "      <td>complaint</td>\n",
       "      <td>challeng</td>\n",
       "      <td>halloween</td>\n",
       "      <td>pair</td>\n",
       "      <td>soni</td>\n",
       "      <td>ten</td>\n",
       "    </tr>\n",
       "    <tr>\n",
       "      <th>1</th>\n",
       "      <td>1</td>\n",
       "      <td>0</td>\n",
       "      <td>0</td>\n",
       "      <td>0</td>\n",
       "      <td>0</td>\n",
       "      <td>0</td>\n",
       "      <td>2</td>\n",
       "      <td>0</td>\n",
       "      <td>2</td>\n",
       "      <td>0</td>\n",
       "      <td>...</td>\n",
       "      <td>0</td>\n",
       "      <td>0</td>\n",
       "      <td>0</td>\n",
       "      <td>0</td>\n",
       "      <td>0</td>\n",
       "      <td>0</td>\n",
       "      <td>0</td>\n",
       "      <td>0</td>\n",
       "      <td>0</td>\n",
       "      <td>0</td>\n",
       "    </tr>\n",
       "    <tr>\n",
       "      <th>2</th>\n",
       "      <td>1</td>\n",
       "      <td>3</td>\n",
       "      <td>0</td>\n",
       "      <td>0</td>\n",
       "      <td>0</td>\n",
       "      <td>0</td>\n",
       "      <td>0</td>\n",
       "      <td>0</td>\n",
       "      <td>0</td>\n",
       "      <td>0</td>\n",
       "      <td>...</td>\n",
       "      <td>0</td>\n",
       "      <td>0</td>\n",
       "      <td>0</td>\n",
       "      <td>0</td>\n",
       "      <td>0</td>\n",
       "      <td>0</td>\n",
       "      <td>0</td>\n",
       "      <td>0</td>\n",
       "      <td>0</td>\n",
       "      <td>0</td>\n",
       "    </tr>\n",
       "    <tr>\n",
       "      <th>3</th>\n",
       "      <td>1</td>\n",
       "      <td>0</td>\n",
       "      <td>3</td>\n",
       "      <td>1</td>\n",
       "      <td>0</td>\n",
       "      <td>0</td>\n",
       "      <td>0</td>\n",
       "      <td>0</td>\n",
       "      <td>0</td>\n",
       "      <td>0</td>\n",
       "      <td>...</td>\n",
       "      <td>0</td>\n",
       "      <td>0</td>\n",
       "      <td>0</td>\n",
       "      <td>0</td>\n",
       "      <td>0</td>\n",
       "      <td>0</td>\n",
       "      <td>1</td>\n",
       "      <td>0</td>\n",
       "      <td>0</td>\n",
       "      <td>0</td>\n",
       "    </tr>\n",
       "    <tr>\n",
       "      <th>4</th>\n",
       "      <td>1</td>\n",
       "      <td>1</td>\n",
       "      <td>1</td>\n",
       "      <td>0</td>\n",
       "      <td>0</td>\n",
       "      <td>0</td>\n",
       "      <td>0</td>\n",
       "      <td>0</td>\n",
       "      <td>0</td>\n",
       "      <td>0</td>\n",
       "      <td>...</td>\n",
       "      <td>0</td>\n",
       "      <td>0</td>\n",
       "      <td>0</td>\n",
       "      <td>0</td>\n",
       "      <td>0</td>\n",
       "      <td>0</td>\n",
       "      <td>0</td>\n",
       "      <td>0</td>\n",
       "      <td>0</td>\n",
       "      <td>0</td>\n",
       "    </tr>\n",
       "  </tbody>\n",
       "</table>\n",
       "<p>5 rows × 1001 columns</p>\n",
       "</div>"
      ],
      "text/plain": [
       "    0    1     2    3    4     5     6     7      8     9    ...      991   \\\n",
       "0  Label  thi  book   wa  one  read  movi  like  great  good ...   brought   \n",
       "1      1    0     0    0    0     0     2     0      2     0 ...         0   \n",
       "2      1    3     0    0    0     0     0     0      0     0 ...         0   \n",
       "3      1    0     3    1    0     0     0     0      0     0 ...         0   \n",
       "4      1    1     1    0    0     0     0     0      0     0 ...         0   \n",
       "\n",
       "      992    993     994        995       996        997   998   999  1000  \n",
       "0  regular  shock  secret  complaint  challeng  halloween  pair  soni  ten  \n",
       "1        0      0       0          0         0          0     0     0    0  \n",
       "2        0      0       0          0         0          0     0     0    0  \n",
       "3        0      0       0          0         0          1     0     0    0  \n",
       "4        0      0       0          0         0          0     0     0    0  \n",
       "\n",
       "[5 rows x 1001 columns]"
      ]
     },
     "execution_count": 393,
     "metadata": {},
     "output_type": "execute_result"
    }
   ],
   "source": [
    "data_pd.head()"
   ]
  },
  {
   "cell_type": "code",
   "execution_count": 148,
   "metadata": {},
   "outputs": [
    {
     "data": {
      "text/html": [
       "<div>\n",
       "<style scoped>\n",
       "    .dataframe tbody tr th:only-of-type {\n",
       "        vertical-align: middle;\n",
       "    }\n",
       "\n",
       "    .dataframe tbody tr th {\n",
       "        vertical-align: top;\n",
       "    }\n",
       "\n",
       "    .dataframe thead th {\n",
       "        text-align: right;\n",
       "    }\n",
       "</style>\n",
       "<table border=\"1\" class=\"dataframe\">\n",
       "  <thead>\n",
       "    <tr style=\"text-align: right;\">\n",
       "      <th></th>\n",
       "      <th>342</th>\n",
       "      <th>524</th>\n",
       "      <th>525</th>\n",
       "      <th>660</th>\n",
       "      <th>663</th>\n",
       "      <th>728</th>\n",
       "      <th>843</th>\n",
       "    </tr>\n",
       "  </thead>\n",
       "  <tbody>\n",
       "    <tr>\n",
       "      <th>342</th>\n",
       "      <td>1.000000</td>\n",
       "      <td>0.262831</td>\n",
       "      <td>0.347876</td>\n",
       "      <td>0.330211</td>\n",
       "      <td>0.392287</td>\n",
       "      <td>0.431077</td>\n",
       "      <td>0.422631</td>\n",
       "    </tr>\n",
       "    <tr>\n",
       "      <th>524</th>\n",
       "      <td>0.262831</td>\n",
       "      <td>1.000000</td>\n",
       "      <td>0.429759</td>\n",
       "      <td>0.426896</td>\n",
       "      <td>0.501796</td>\n",
       "      <td>0.548743</td>\n",
       "      <td>0.537139</td>\n",
       "    </tr>\n",
       "    <tr>\n",
       "      <th>525</th>\n",
       "      <td>0.347876</td>\n",
       "      <td>0.429759</td>\n",
       "      <td>1.000000</td>\n",
       "      <td>0.552558</td>\n",
       "      <td>0.691740</td>\n",
       "      <td>0.752040</td>\n",
       "      <td>0.735247</td>\n",
       "    </tr>\n",
       "    <tr>\n",
       "      <th>660</th>\n",
       "      <td>0.330211</td>\n",
       "      <td>0.426896</td>\n",
       "      <td>0.552558</td>\n",
       "      <td>1.000000</td>\n",
       "      <td>0.648858</td>\n",
       "      <td>0.703822</td>\n",
       "      <td>0.687844</td>\n",
       "    </tr>\n",
       "    <tr>\n",
       "      <th>663</th>\n",
       "      <td>0.392287</td>\n",
       "      <td>0.501796</td>\n",
       "      <td>0.691740</td>\n",
       "      <td>0.648858</td>\n",
       "      <td>1.000000</td>\n",
       "      <td>0.895175</td>\n",
       "      <td>0.875350</td>\n",
       "    </tr>\n",
       "    <tr>\n",
       "      <th>728</th>\n",
       "      <td>0.431077</td>\n",
       "      <td>0.548743</td>\n",
       "      <td>0.752040</td>\n",
       "      <td>0.703822</td>\n",
       "      <td>0.895175</td>\n",
       "      <td>1.000000</td>\n",
       "      <td>0.960918</td>\n",
       "    </tr>\n",
       "    <tr>\n",
       "      <th>843</th>\n",
       "      <td>0.422631</td>\n",
       "      <td>0.537139</td>\n",
       "      <td>0.735247</td>\n",
       "      <td>0.687844</td>\n",
       "      <td>0.875350</td>\n",
       "      <td>0.960918</td>\n",
       "      <td>1.000000</td>\n",
       "    </tr>\n",
       "  </tbody>\n",
       "</table>\n",
       "</div>"
      ],
      "text/plain": [
       "          342       524       525       660       663       728       843\n",
       "342  1.000000  0.262831  0.347876  0.330211  0.392287  0.431077  0.422631\n",
       "524  0.262831  1.000000  0.429759  0.426896  0.501796  0.548743  0.537139\n",
       "525  0.347876  0.429759  1.000000  0.552558  0.691740  0.752040  0.735247\n",
       "660  0.330211  0.426896  0.552558  1.000000  0.648858  0.703822  0.687844\n",
       "663  0.392287  0.501796  0.691740  0.648858  1.000000  0.895175  0.875350\n",
       "728  0.431077  0.548743  0.752040  0.703822  0.895175  1.000000  0.960918\n",
       "843  0.422631  0.537139  0.735247  0.687844  0.875350  0.960918  1.000000"
      ]
     },
     "execution_count": 148,
     "metadata": {},
     "output_type": "execute_result"
    }
   ],
   "source": [
    "data_pd.corr()"
   ]
  },
  {
   "cell_type": "code",
   "execution_count": 152,
   "metadata": {},
   "outputs": [
    {
     "data": {
      "text/html": [
       "<div>\n",
       "<style scoped>\n",
       "    .dataframe tbody tr th:only-of-type {\n",
       "        vertical-align: middle;\n",
       "    }\n",
       "\n",
       "    .dataframe tbody tr th {\n",
       "        vertical-align: top;\n",
       "    }\n",
       "\n",
       "    .dataframe thead th {\n",
       "        text-align: right;\n",
       "    }\n",
       "</style>\n",
       "<table border=\"1\" class=\"dataframe\">\n",
       "  <thead>\n",
       "    <tr style=\"text-align: right;\">\n",
       "      <th></th>\n",
       "      <th>0</th>\n",
       "      <th>1</th>\n",
       "      <th>2</th>\n",
       "      <th>3</th>\n",
       "      <th>4</th>\n",
       "      <th>5</th>\n",
       "      <th>6</th>\n",
       "      <th>7</th>\n",
       "      <th>8</th>\n",
       "      <th>9</th>\n",
       "      <th>...</th>\n",
       "      <th>991</th>\n",
       "      <th>992</th>\n",
       "      <th>993</th>\n",
       "      <th>994</th>\n",
       "      <th>995</th>\n",
       "      <th>996</th>\n",
       "      <th>997</th>\n",
       "      <th>998</th>\n",
       "      <th>999</th>\n",
       "      <th>1000</th>\n",
       "    </tr>\n",
       "  </thead>\n",
       "  <tbody>\n",
       "    <tr>\n",
       "      <th>0</th>\n",
       "      <td>Label</td>\n",
       "      <td>thi</td>\n",
       "      <td>book</td>\n",
       "      <td>wa</td>\n",
       "      <td>one</td>\n",
       "      <td>read</td>\n",
       "      <td>movi</td>\n",
       "      <td>like</td>\n",
       "      <td>great</td>\n",
       "      <td>good</td>\n",
       "      <td>...</td>\n",
       "      <td>brought</td>\n",
       "      <td>regular</td>\n",
       "      <td>shock</td>\n",
       "      <td>secret</td>\n",
       "      <td>complaint</td>\n",
       "      <td>challeng</td>\n",
       "      <td>halloween</td>\n",
       "      <td>pair</td>\n",
       "      <td>soni</td>\n",
       "      <td>ten</td>\n",
       "    </tr>\n",
       "    <tr>\n",
       "      <th>1</th>\n",
       "      <td>1</td>\n",
       "      <td>0</td>\n",
       "      <td>0</td>\n",
       "      <td>0</td>\n",
       "      <td>0</td>\n",
       "      <td>0</td>\n",
       "      <td>0</td>\n",
       "      <td>0</td>\n",
       "      <td>0</td>\n",
       "      <td>0</td>\n",
       "      <td>...</td>\n",
       "      <td>0</td>\n",
       "      <td>0</td>\n",
       "      <td>0</td>\n",
       "      <td>0</td>\n",
       "      <td>0</td>\n",
       "      <td>0</td>\n",
       "      <td>0</td>\n",
       "      <td>0</td>\n",
       "      <td>0</td>\n",
       "      <td>0</td>\n",
       "    </tr>\n",
       "    <tr>\n",
       "      <th>2</th>\n",
       "      <td>1</td>\n",
       "      <td>2</td>\n",
       "      <td>1</td>\n",
       "      <td>0</td>\n",
       "      <td>1</td>\n",
       "      <td>1</td>\n",
       "      <td>0</td>\n",
       "      <td>0</td>\n",
       "      <td>0</td>\n",
       "      <td>0</td>\n",
       "      <td>...</td>\n",
       "      <td>0</td>\n",
       "      <td>0</td>\n",
       "      <td>0</td>\n",
       "      <td>0</td>\n",
       "      <td>0</td>\n",
       "      <td>0</td>\n",
       "      <td>0</td>\n",
       "      <td>0</td>\n",
       "      <td>0</td>\n",
       "      <td>0</td>\n",
       "    </tr>\n",
       "    <tr>\n",
       "      <th>3</th>\n",
       "      <td>1</td>\n",
       "      <td>1</td>\n",
       "      <td>0</td>\n",
       "      <td>0</td>\n",
       "      <td>0</td>\n",
       "      <td>0</td>\n",
       "      <td>0</td>\n",
       "      <td>1</td>\n",
       "      <td>0</td>\n",
       "      <td>1</td>\n",
       "      <td>...</td>\n",
       "      <td>0</td>\n",
       "      <td>0</td>\n",
       "      <td>0</td>\n",
       "      <td>0</td>\n",
       "      <td>0</td>\n",
       "      <td>0</td>\n",
       "      <td>0</td>\n",
       "      <td>0</td>\n",
       "      <td>0</td>\n",
       "      <td>0</td>\n",
       "    </tr>\n",
       "    <tr>\n",
       "      <th>4</th>\n",
       "      <td>1</td>\n",
       "      <td>0</td>\n",
       "      <td>0</td>\n",
       "      <td>0</td>\n",
       "      <td>0</td>\n",
       "      <td>0</td>\n",
       "      <td>0</td>\n",
       "      <td>0</td>\n",
       "      <td>1</td>\n",
       "      <td>0</td>\n",
       "      <td>...</td>\n",
       "      <td>0</td>\n",
       "      <td>0</td>\n",
       "      <td>0</td>\n",
       "      <td>0</td>\n",
       "      <td>0</td>\n",
       "      <td>0</td>\n",
       "      <td>0</td>\n",
       "      <td>0</td>\n",
       "      <td>0</td>\n",
       "      <td>0</td>\n",
       "    </tr>\n",
       "  </tbody>\n",
       "</table>\n",
       "<p>5 rows × 1001 columns</p>\n",
       "</div>"
      ],
      "text/plain": [
       "    0    1     2    3    4     5     6     7      8     9    ...      991   \\\n",
       "0  Label  thi  book   wa  one  read  movi  like  great  good ...   brought   \n",
       "1      1    0     0    0    0     0     0     0      0     0 ...         0   \n",
       "2      1    2     1    0    1     1     0     0      0     0 ...         0   \n",
       "3      1    1     0    0    0     0     0     1      0     1 ...         0   \n",
       "4      1    0     0    0    0     0     0     0      1     0 ...         0   \n",
       "\n",
       "      992    993     994        995       996        997   998   999  1000  \n",
       "0  regular  shock  secret  complaint  challeng  halloween  pair  soni  ten  \n",
       "1        0      0       0          0         0          0     0     0    0  \n",
       "2        0      0       0          0         0          0     0     0    0  \n",
       "3        0      0       0          0         0          0     0     0    0  \n",
       "4        0      0       0          0         0          0     0     0    0  \n",
       "\n",
       "[5 rows x 1001 columns]"
      ]
     },
     "execution_count": 152,
     "metadata": {},
     "output_type": "execute_result"
    }
   ],
   "source": [
    "data_pd.head(n=5)"
   ]
  },
  {
   "cell_type": "code",
   "execution_count": 156,
   "metadata": {},
   "outputs": [
    {
     "data": {
      "text/html": [
       "<div>\n",
       "<style scoped>\n",
       "    .dataframe tbody tr th:only-of-type {\n",
       "        vertical-align: middle;\n",
       "    }\n",
       "\n",
       "    .dataframe tbody tr th {\n",
       "        vertical-align: top;\n",
       "    }\n",
       "\n",
       "    .dataframe thead th {\n",
       "        text-align: right;\n",
       "    }\n",
       "</style>\n",
       "<table border=\"1\" class=\"dataframe\">\n",
       "  <thead>\n",
       "    <tr style=\"text-align: right;\">\n",
       "      <th></th>\n",
       "      <th>0</th>\n",
       "      <th>1</th>\n",
       "      <th>2</th>\n",
       "      <th>3</th>\n",
       "      <th>4</th>\n",
       "      <th>5</th>\n",
       "      <th>6</th>\n",
       "      <th>7</th>\n",
       "      <th>8</th>\n",
       "      <th>9</th>\n",
       "      <th>...</th>\n",
       "      <th>991</th>\n",
       "      <th>992</th>\n",
       "      <th>993</th>\n",
       "      <th>994</th>\n",
       "      <th>995</th>\n",
       "      <th>996</th>\n",
       "      <th>997</th>\n",
       "      <th>998</th>\n",
       "      <th>999</th>\n",
       "      <th>1000</th>\n",
       "    </tr>\n",
       "  </thead>\n",
       "  <tbody>\n",
       "  </tbody>\n",
       "</table>\n",
       "<p>0 rows × 1001 columns</p>\n",
       "</div>"
      ],
      "text/plain": [
       "Empty DataFrame\n",
       "Columns: [0, 1, 2, 3, 4, 5, 6, 7, 8, 9, 10, 11, 12, 13, 14, 15, 16, 17, 18, 19, 20, 21, 22, 23, 24, 25, 26, 27, 28, 29, 30, 31, 32, 33, 34, 35, 36, 37, 38, 39, 40, 41, 42, 43, 44, 45, 46, 47, 48, 49, 50, 51, 52, 53, 54, 55, 56, 57, 58, 59, 60, 61, 62, 63, 64, 65, 66, 67, 68, 69, 70, 71, 72, 73, 74, 75, 76, 77, 78, 79, 80, 81, 82, 83, 84, 85, 86, 87, 88, 89, 90, 91, 92, 93, 94, 95, 96, 97, 98, 99, ...]\n",
       "Index: []\n",
       "\n",
       "[0 rows x 1001 columns]"
      ]
     },
     "execution_count": 156,
     "metadata": {},
     "output_type": "execute_result"
    }
   ],
   "source": [
    "data_pd[[]]"
   ]
  },
  {
   "cell_type": "code",
   "execution_count": 149,
   "metadata": {},
   "outputs": [
    {
     "data": {
      "image/png": "[encoded data removed]",
      "text/plain": [
       "<matplotlib.figure.Figure at 0x13c4ba390>"
      ]
     },
     "metadata": {},
     "output_type": "display_data"
    }
   ],
   "source": [
    "corr = data_pd.head(n=5).corr()\n",
    "fig = plt.figure(1, figsize=(10,10))\n",
    "plt.imshow(corr,cmap='inferno')\n",
    "labels = np.arange(len(data_pd.head(n=5).columns))\n",
    "plt.xticks(labels,data_pd.head(n=5).columns,rotation=90)\n",
    "plt.yticks(labels,data_pd.head(n=5).columns)\n",
    "plt.title('Correlation Matrix of Global Variables')\n",
    "cbar = plt.colorbar()\n",
    "plt.show()"
   ]
  },
  {
   "cell_type": "code",
   "execution_count": 394,
   "metadata": {
    "collapsed": true
   },
   "outputs": [],
   "source": [
    "# words pandas df\n",
    "\n",
    "data_pd_words = data_pd.loc[:,1:1000]"
   ]
  },
  {
   "cell_type": "code",
   "execution_count": 5,
   "metadata": {},
   "outputs": [
    {
     "name": "stdout",
     "output_type": "stream",
     "text": [
      "0.8495\n"
     ]
    }
   ],
   "source": [
    "# Take out neutral words (increase signal to noise/ remove features)\n",
    "\n",
    "from sklearn.linear_model import LogisticRegression\n",
    "from sklearn import preprocessing\n",
    "from sklearn.model_selection import train_test_split\n",
    "\n",
    "x_train_s, x_val, y_train_s, y_val = train_test_split(x_train, y_train, test_size=0.2, random_state=42)\n",
    "\n",
    "x_train_s_norm = preprocessing.normalize(x_train_s, norm='l2')\n",
    "x_val_norm = preprocessing.normalize(x_val, norm='l2')\n",
    "\n",
    "model = LogisticRegression(penalty='l1', C=3.90625)\n",
    "model.fit(x_train_s_norm, y_train_s)\n",
    "\n",
    "print(model.score(x_val_norm , y_val))"
   ]
  },
  {
   "cell_type": "code",
   "execution_count": 7,
   "metadata": {},
   "outputs": [
    {
     "data": {
      "text/plain": [
       "SelectFromModel(estimator=LogisticRegression(C=3.90625, class_weight=None, dual=False,\n",
       "          fit_intercept=True, intercept_scaling=1, max_iter=100,\n",
       "          multi_class='ovr', n_jobs=1, penalty='l1', random_state=None,\n",
       "          solver='liblinear', tol=0.0001, verbose=0, warm_start=False),\n",
       "        norm_order=1, prefit=False, threshold=None)"
      ]
     },
     "execution_count": 7,
     "metadata": {},
     "output_type": "execute_result"
    }
   ],
   "source": [
    "from sklearn.feature_selection import SelectFromModel\n",
    "\n",
    "SelectFromModel(model)"
   ]
  },
  {
   "cell_type": "code",
   "execution_count": 15,
   "metadata": {},
   "outputs": [
    {
     "name": "stdout",
     "output_type": "stream",
     "text": [
      "{'alpha': 0.001}\n"
     ]
    }
   ],
   "source": [
    "import warnings\n",
    "warnings.filterwarnings('ignore')\n",
    "\n",
    "from sklearn.model_selection import GridSearchCV\n",
    "from sklearn.linear_model import SGDClassifier\n",
    "\n",
    "tuned_parameters = {'alpha': [10 ** a for a in range(-6, -1)]}\n",
    "clf = GridSearchCV(SGDClassifier(loss='hinge', penalty='elasticnet',l1_ratio=0.15, n_iter=5, shuffle=True, verbose=False, n_jobs=10, average=False, class_weight='balanced')\n",
    "                  , tuned_parameters, cv=10, scoring='f1_macro')\n",
    "\n",
    "#now clf is the best classifier found given the search space\n",
    "clf.fit(x_train_s, y_train_s)\n",
    "#you can find the best alpha here\n",
    "print(clf.best_params_)  "
   ]
  },
  {
   "cell_type": "code",
   "execution_count": 31,
   "metadata": {},
   "outputs": [
    {
     "name": "stdout",
     "output_type": "stream",
     "text": [
      "0.84275\n"
     ]
    }
   ],
   "source": [
    "print(clf.best_estimator_.score(x_val_norm , y_val))"
   ]
  },
  {
   "cell_type": "code",
   "execution_count": 549,
   "metadata": {},
   "outputs": [
    {
     "data": {
      "text/plain": [
       "[<matplotlib.lines.Line2D at 0x15a82bba048>]"
      ]
     },
     "execution_count": 549,
     "metadata": {},
     "output_type": "execute_result"
    },
    {
     "data": {
      "image/png": "[encoded data removed]",
      "text/plain": [
       "<matplotlib.figure.Figure at 0x15a82baf4e0>"
      ]
     },
     "metadata": {},
     "output_type": "display_data"
    }
   ],
   "source": [
    "# Before feature reduction\n",
    "\n",
    "ws =  clf.best_estimator_.coef_\n",
    "plt.plot(range(len(ws[0])), ws[0])"
   ]
  },
  {
   "cell_type": "code",
   "execution_count": 551,
   "metadata": {
    "collapsed": true
   },
   "outputs": [],
   "source": [
    "for i in range(0, clf.best_estimator_.coef_.shape[0]):\n",
    "    top10 = np.argsort(clf.best_estimator_.coef_[i])[-10:]"
   ]
  },
  {
   "cell_type": "code",
   "execution_count": 552,
   "metadata": {
    "collapsed": true
   },
   "outputs": [],
   "source": [
    "bottom10_list = []\n",
    "for i in range(len(top10)):\n",
    "    bottom10_list.append((np.where(clf.best_estimator_.coef_[0] == np.sort(clf.best_estimator_.coef_)[0][:10][i])[0][0], np.sort(clf.best_estimator_.coef_)[0][:10][i]))\n",
    "    \n",
    "bottom10_list_x = []\n",
    "for i in range(len(top10)):\n",
    "    bottom10_list_x.append(sorted(bottom10_list, key=lambda x: x[0])[i][0])\n",
    "    \n",
    "bottom10_list_y = []\n",
    "for i in range(len(top10)):\n",
    "    bottom10_list_y.append(sorted(bottom10_list, key=lambda x: x[0])[i][1])"
   ]
  },
  {
   "cell_type": "code",
   "execution_count": 553,
   "metadata": {
    "collapsed": true
   },
   "outputs": [],
   "source": [
    "top10_list = []\n",
    "for i in range(len(top10)):\n",
    "    top10_list.append((top10[i], np.take(clf.best_estimator_.coef_, top10)[i]))\n",
    "    \n",
    "top10_list_x = []\n",
    "for i in range(len(top10)):\n",
    "    top10_list_x.append(sorted(top10_list, key=lambda x: x[0])[i][0])\n",
    "    \n",
    "top10_list_y = []\n",
    "for i in range(len(top10)):\n",
    "    top10_list_y.append(sorted(top10_list, key=lambda x: x[0])[i][1])"
   ]
  },
  {
   "cell_type": "code",
   "execution_count": 554,
   "metadata": {},
   "outputs": [
    {
     "data": {
      "text/plain": [
       "(-2, 2)"
      ]
     },
     "execution_count": 554,
     "metadata": {},
     "output_type": "execute_result"
    },
    {
     "data": {
      "image/png": "[encoded data removed]",
      "text/plain": [
       "<matplotlib.figure.Figure at 0x15a826d33c8>"
      ]
     },
     "metadata": {},
     "output_type": "display_data"
    }
   ],
   "source": [
    "# After feature selection (top 20)\n",
    "\n",
    "plt.scatter(top10_list_x, top10_list_y)\n",
    "plt.scatter(bottom10_list_x, bottom10_list_y)\n",
    "plt.xlim(-50,1000)\n",
    "plt.ylim(-2,2)"
   ]
  },
  {
   "cell_type": "code",
   "execution_count": 395,
   "metadata": {},
   "outputs": [
    {
     "data": {
      "text/html": [
       "<div>\n",
       "<style scoped>\n",
       "    .dataframe tbody tr th:only-of-type {\n",
       "        vertical-align: middle;\n",
       "    }\n",
       "\n",
       "    .dataframe tbody tr th {\n",
       "        vertical-align: top;\n",
       "    }\n",
       "\n",
       "    .dataframe thead th {\n",
       "        text-align: right;\n",
       "    }\n",
       "</style>\n",
       "<table border=\"1\" class=\"dataframe\">\n",
       "  <thead>\n",
       "    <tr style=\"text-align: right;\">\n",
       "      <th></th>\n",
       "      <th>0</th>\n",
       "      <th>235</th>\n",
       "      <th>878</th>\n",
       "      <th>30</th>\n",
       "      <th>838</th>\n",
       "      <th>7</th>\n",
       "      <th>195</th>\n",
       "      <th>503</th>\n",
       "      <th>323</th>\n",
       "      <th>226</th>\n",
       "      <th>129</th>\n",
       "    </tr>\n",
       "  </thead>\n",
       "  <tbody>\n",
       "    <tr>\n",
       "      <th>0</th>\n",
       "      <td>Label</td>\n",
       "      <td>wrong</td>\n",
       "      <td>mark</td>\n",
       "      <td>look</td>\n",
       "      <td>remov</td>\n",
       "      <td>like</td>\n",
       "      <td>place</td>\n",
       "      <td>publish</td>\n",
       "      <td>becom</td>\n",
       "      <td>small</td>\n",
       "      <td>problem</td>\n",
       "    </tr>\n",
       "    <tr>\n",
       "      <th>1</th>\n",
       "      <td>1</td>\n",
       "      <td>0</td>\n",
       "      <td>0</td>\n",
       "      <td>0</td>\n",
       "      <td>0</td>\n",
       "      <td>0</td>\n",
       "      <td>0</td>\n",
       "      <td>0</td>\n",
       "      <td>0</td>\n",
       "      <td>0</td>\n",
       "      <td>0</td>\n",
       "    </tr>\n",
       "    <tr>\n",
       "      <th>2</th>\n",
       "      <td>1</td>\n",
       "      <td>0</td>\n",
       "      <td>0</td>\n",
       "      <td>2</td>\n",
       "      <td>0</td>\n",
       "      <td>0</td>\n",
       "      <td>0</td>\n",
       "      <td>0</td>\n",
       "      <td>0</td>\n",
       "      <td>0</td>\n",
       "      <td>0</td>\n",
       "    </tr>\n",
       "    <tr>\n",
       "      <th>3</th>\n",
       "      <td>1</td>\n",
       "      <td>0</td>\n",
       "      <td>0</td>\n",
       "      <td>0</td>\n",
       "      <td>0</td>\n",
       "      <td>0</td>\n",
       "      <td>0</td>\n",
       "      <td>0</td>\n",
       "      <td>0</td>\n",
       "      <td>0</td>\n",
       "      <td>0</td>\n",
       "    </tr>\n",
       "    <tr>\n",
       "      <th>4</th>\n",
       "      <td>1</td>\n",
       "      <td>0</td>\n",
       "      <td>0</td>\n",
       "      <td>0</td>\n",
       "      <td>0</td>\n",
       "      <td>0</td>\n",
       "      <td>0</td>\n",
       "      <td>0</td>\n",
       "      <td>0</td>\n",
       "      <td>0</td>\n",
       "      <td>0</td>\n",
       "    </tr>\n",
       "  </tbody>\n",
       "</table>\n",
       "</div>"
      ],
      "text/plain": [
       "     0      235   878   30     838   7      195      503    323    226  \\\n",
       "0  Label  wrong  mark  look  remov  like  place  publish  becom  small   \n",
       "1      1      0     0     0      0     0      0        0      0      0   \n",
       "2      1      0     0     2      0     0      0        0      0      0   \n",
       "3      1      0     0     0      0     0      0        0      0      0   \n",
       "4      1      0     0     0      0     0      0        0      0      0   \n",
       "\n",
       "       129  \n",
       "0  problem  \n",
       "1        0  \n",
       "2        0  \n",
       "3        0  \n",
       "4        0  "
      ]
     },
     "execution_count": 395,
     "metadata": {},
     "output_type": "execute_result"
    }
   ],
   "source": [
    "# top 10 words\n",
    "\n",
    "data_pd[[0] + np.ndarray.tolist(top10)].head(n=5)"
   ]
  },
  {
   "cell_type": "code",
   "execution_count": 396,
   "metadata": {},
   "outputs": [
    {
     "data": {
      "text/html": [
       "<div>\n",
       "<style scoped>\n",
       "    .dataframe tbody tr th:only-of-type {\n",
       "        vertical-align: middle;\n",
       "    }\n",
       "\n",
       "    .dataframe tbody tr th {\n",
       "        vertical-align: top;\n",
       "    }\n",
       "\n",
       "    .dataframe thead th {\n",
       "        text-align: right;\n",
       "    }\n",
       "</style>\n",
       "<table border=\"1\" class=\"dataframe\">\n",
       "  <thead>\n",
       "    <tr style=\"text-align: right;\">\n",
       "      <th></th>\n",
       "      <th>0</th>\n",
       "      <th>76</th>\n",
       "      <th>110</th>\n",
       "      <th>118</th>\n",
       "      <th>182</th>\n",
       "      <th>210</th>\n",
       "      <th>283</th>\n",
       "      <th>302</th>\n",
       "      <th>456</th>\n",
       "      <th>529</th>\n",
       "      <th>551</th>\n",
       "    </tr>\n",
       "  </thead>\n",
       "  <tbody>\n",
       "    <tr>\n",
       "      <th>0</th>\n",
       "      <td>Label</td>\n",
       "      <td>end</td>\n",
       "      <td>show</td>\n",
       "      <td>differ</td>\n",
       "      <td>tell</td>\n",
       "      <td>next</td>\n",
       "      <td>hour</td>\n",
       "      <td>fine</td>\n",
       "      <td>impress</td>\n",
       "      <td>within</td>\n",
       "      <td>manag</td>\n",
       "    </tr>\n",
       "    <tr>\n",
       "      <th>1</th>\n",
       "      <td>1</td>\n",
       "      <td>0</td>\n",
       "      <td>1</td>\n",
       "      <td>0</td>\n",
       "      <td>0</td>\n",
       "      <td>0</td>\n",
       "      <td>0</td>\n",
       "      <td>0</td>\n",
       "      <td>0</td>\n",
       "      <td>0</td>\n",
       "      <td>0</td>\n",
       "    </tr>\n",
       "    <tr>\n",
       "      <th>2</th>\n",
       "      <td>1</td>\n",
       "      <td>0</td>\n",
       "      <td>0</td>\n",
       "      <td>0</td>\n",
       "      <td>0</td>\n",
       "      <td>0</td>\n",
       "      <td>1</td>\n",
       "      <td>1</td>\n",
       "      <td>1</td>\n",
       "      <td>0</td>\n",
       "      <td>0</td>\n",
       "    </tr>\n",
       "    <tr>\n",
       "      <th>3</th>\n",
       "      <td>1</td>\n",
       "      <td>0</td>\n",
       "      <td>0</td>\n",
       "      <td>0</td>\n",
       "      <td>0</td>\n",
       "      <td>0</td>\n",
       "      <td>0</td>\n",
       "      <td>0</td>\n",
       "      <td>0</td>\n",
       "      <td>0</td>\n",
       "      <td>0</td>\n",
       "    </tr>\n",
       "    <tr>\n",
       "      <th>4</th>\n",
       "      <td>1</td>\n",
       "      <td>0</td>\n",
       "      <td>1</td>\n",
       "      <td>0</td>\n",
       "      <td>0</td>\n",
       "      <td>0</td>\n",
       "      <td>0</td>\n",
       "      <td>0</td>\n",
       "      <td>0</td>\n",
       "      <td>0</td>\n",
       "      <td>0</td>\n",
       "    </tr>\n",
       "  </tbody>\n",
       "</table>\n",
       "</div>"
      ],
      "text/plain": [
       "     0    76    110     118   182   210   283   302      456     529    551\n",
       "0  Label  end  show  differ  tell  next  hour  fine  impress  within  manag\n",
       "1      1    0     1       0     0     0     0     0        0       0      0\n",
       "2      1    0     0       0     0     0     1     1        1       0      0\n",
       "3      1    0     0       0     0     0     0     0        0       0      0\n",
       "4      1    0     1       0     0     0     0     0        0       0      0"
      ]
     },
     "execution_count": 396,
     "metadata": {},
     "output_type": "execute_result"
    }
   ],
   "source": [
    "# bottom 10 words\n",
    "\n",
    "data_pd[[0] + bottom10_list_x].head(n=5)"
   ]
  },
  {
   "cell_type": "code",
   "execution_count": null,
   "metadata": {
    "collapsed": true
   },
   "outputs": [],
   "source": [
    "# Show that largest weights correspond with labels 0 and 1\n",
    "\n"
   ]
  },
  {
   "cell_type": "code",
   "execution_count": null,
   "metadata": {
    "collapsed": true
   },
   "outputs": [],
   "source": [
    "# Explore labels for features 'wrong'"
   ]
  },
  {
   "cell_type": "code",
   "execution_count": 419,
   "metadata": {
    "collapsed": true
   },
   "outputs": [],
   "source": [
    "list_bool = (data_pd_words[235] == '0') | (data_pd_words[235] == 0)\n",
    "\n",
    "have_wrong = [not i for i in list_bool]"
   ]
  },
  {
   "cell_type": "code",
   "execution_count": 409,
   "metadata": {},
   "outputs": [
    {
     "data": {
      "text/html": [
       "<div>\n",
       "<style scoped>\n",
       "    .dataframe tbody tr th:only-of-type {\n",
       "        vertical-align: middle;\n",
       "    }\n",
       "\n",
       "    .dataframe tbody tr th {\n",
       "        vertical-align: top;\n",
       "    }\n",
       "\n",
       "    .dataframe thead th {\n",
       "        text-align: right;\n",
       "    }\n",
       "</style>\n",
       "<table border=\"1\" class=\"dataframe\">\n",
       "  <thead>\n",
       "    <tr style=\"text-align: right;\">\n",
       "      <th></th>\n",
       "      <th>0</th>\n",
       "      <th>235</th>\n",
       "    </tr>\n",
       "  </thead>\n",
       "  <tbody>\n",
       "    <tr>\n",
       "      <th>0</th>\n",
       "      <td>Label</td>\n",
       "      <td>wrong</td>\n",
       "    </tr>\n",
       "    <tr>\n",
       "      <th>108</th>\n",
       "      <td>0</td>\n",
       "      <td>1</td>\n",
       "    </tr>\n",
       "    <tr>\n",
       "      <th>192</th>\n",
       "      <td>0</td>\n",
       "      <td>1</td>\n",
       "    </tr>\n",
       "    <tr>\n",
       "      <th>248</th>\n",
       "      <td>0</td>\n",
       "      <td>1</td>\n",
       "    </tr>\n",
       "    <tr>\n",
       "      <th>276</th>\n",
       "      <td>0</td>\n",
       "      <td>1</td>\n",
       "    </tr>\n",
       "    <tr>\n",
       "      <th>307</th>\n",
       "      <td>0</td>\n",
       "      <td>1</td>\n",
       "    </tr>\n",
       "    <tr>\n",
       "      <th>312</th>\n",
       "      <td>0</td>\n",
       "      <td>1</td>\n",
       "    </tr>\n",
       "    <tr>\n",
       "      <th>338</th>\n",
       "      <td>0</td>\n",
       "      <td>1</td>\n",
       "    </tr>\n",
       "    <tr>\n",
       "      <th>394</th>\n",
       "      <td>0</td>\n",
       "      <td>1</td>\n",
       "    </tr>\n",
       "    <tr>\n",
       "      <th>416</th>\n",
       "      <td>0</td>\n",
       "      <td>1</td>\n",
       "    </tr>\n",
       "  </tbody>\n",
       "</table>\n",
       "</div>"
      ],
      "text/plain": [
       "       0      235\n",
       "0    Label  wrong\n",
       "108      0      1\n",
       "192      0      1\n",
       "248      0      1\n",
       "276      0      1\n",
       "307      0      1\n",
       "312      0      1\n",
       "338      0      1\n",
       "394      0      1\n",
       "416      0      1"
      ]
     },
     "execution_count": 409,
     "metadata": {},
     "output_type": "execute_result"
    }
   ],
   "source": [
    "data_pd[[0, 235]][have_wrong].head(n=10)"
   ]
  },
  {
   "cell_type": "code",
   "execution_count": 437,
   "metadata": {
    "collapsed": true
   },
   "outputs": [],
   "source": [
    "have_wrong_y = data_pd[[0, 235]][have_wrong][0].values[1:len(data_pd[[0, 235]][have_wrong][0].values)].astype(int)"
   ]
  },
  {
   "cell_type": "code",
   "execution_count": 446,
   "metadata": {},
   "outputs": [
    {
     "data": {
      "text/plain": [
       "(369, 178)"
      ]
     },
     "execution_count": 446,
     "metadata": {},
     "output_type": "execute_result"
    }
   ],
   "source": [
    "# Number that have 'wrong' and have label 0, Number that have 'wrong' and have label 1\n",
    "\n",
    "len(have_wrong_y[have_wrong_y == 0]), len(have_wrong_y[have_wrong_y == 1])"
   ]
  },
  {
   "cell_type": "code",
   "execution_count": 450,
   "metadata": {},
   "outputs": [
    {
     "data": {
      "text/plain": [
       "2.0730337078651684"
      ]
     },
     "execution_count": 450,
     "metadata": {},
     "output_type": "execute_result"
    }
   ],
   "source": [
    "len(have_wrong_y[have_wrong_y == 0])/len(have_wrong_y[have_wrong_y == 1])"
   ]
  },
  {
   "cell_type": "code",
   "execution_count": 447,
   "metadata": {
    "collapsed": true
   },
   "outputs": [],
   "source": [
    "list_bool_dont = (data_pd_words[235] == '0') | (data_pd_words[235] == 0)\n",
    "\n",
    "dont_have_wrong = list_bool_dont"
   ]
  },
  {
   "cell_type": "code",
   "execution_count": 341,
   "metadata": {},
   "outputs": [
    {
     "data": {
      "text/html": [
       "<div>\n",
       "<style scoped>\n",
       "    .dataframe tbody tr th:only-of-type {\n",
       "        vertical-align: middle;\n",
       "    }\n",
       "\n",
       "    .dataframe tbody tr th {\n",
       "        vertical-align: top;\n",
       "    }\n",
       "\n",
       "    .dataframe thead th {\n",
       "        text-align: right;\n",
       "    }\n",
       "</style>\n",
       "<table border=\"1\" class=\"dataframe\">\n",
       "  <thead>\n",
       "    <tr style=\"text-align: right;\">\n",
       "      <th></th>\n",
       "      <th>0</th>\n",
       "      <th>235</th>\n",
       "    </tr>\n",
       "  </thead>\n",
       "  <tbody>\n",
       "    <tr>\n",
       "      <th>1</th>\n",
       "      <td>1</td>\n",
       "      <td>0</td>\n",
       "    </tr>\n",
       "    <tr>\n",
       "      <th>2</th>\n",
       "      <td>1</td>\n",
       "      <td>0</td>\n",
       "    </tr>\n",
       "    <tr>\n",
       "      <th>3</th>\n",
       "      <td>1</td>\n",
       "      <td>0</td>\n",
       "    </tr>\n",
       "    <tr>\n",
       "      <th>4</th>\n",
       "      <td>1</td>\n",
       "      <td>0</td>\n",
       "    </tr>\n",
       "    <tr>\n",
       "      <th>5</th>\n",
       "      <td>0</td>\n",
       "      <td>0</td>\n",
       "    </tr>\n",
       "  </tbody>\n",
       "</table>\n",
       "</div>"
      ],
      "text/plain": [
       "  0   235\n",
       "1   1   0\n",
       "2   1   0\n",
       "3   1   0\n",
       "4   1   0\n",
       "5   0   0"
      ]
     },
     "execution_count": 341,
     "metadata": {},
     "output_type": "execute_result"
    }
   ],
   "source": [
    "data_pd[[0, 235]][dont_have_wrong].head(n=5)"
   ]
  },
  {
   "cell_type": "code",
   "execution_count": 444,
   "metadata": {
    "collapsed": true
   },
   "outputs": [],
   "source": [
    "dont_have_wrong_y = data_pd[[0, 235]][dont_have_wrong][0].values.astype(int)"
   ]
  },
  {
   "cell_type": "code",
   "execution_count": 448,
   "metadata": {},
   "outputs": [
    {
     "data": {
      "text/plain": [
       "(9524, 9929)"
      ]
     },
     "execution_count": 448,
     "metadata": {},
     "output_type": "execute_result"
    }
   ],
   "source": [
    "# Number that don't have 'wrong' and have label 0, Number that don't have 'wrong' and have label 1\n",
    "\n",
    "len(dont_have_wrong_y[dont_have_wrong_y == 0]), len(dont_have_wrong_y[dont_have_wrong_y == 1])"
   ]
  },
  {
   "cell_type": "code",
   "execution_count": 451,
   "metadata": {},
   "outputs": [
    {
     "data": {
      "text/plain": [
       "0.9592103937959513"
      ]
     },
     "execution_count": 451,
     "metadata": {},
     "output_type": "execute_result"
    }
   ],
   "source": [
    "len(dont_have_wrong_y[dont_have_wrong_y == 0])/len(dont_have_wrong_y[dont_have_wrong_y == 1])"
   ]
  },
  {
   "cell_type": "code",
   "execution_count": 449,
   "metadata": {},
   "outputs": [
    {
     "data": {
      "text/plain": [
       "20000"
      ]
     },
     "execution_count": 449,
     "metadata": {},
     "output_type": "execute_result"
    }
   ],
   "source": [
    "len(dont_have_wrong_y) + len(have_wrong_y)"
   ]
  },
  {
   "cell_type": "code",
   "execution_count": 454,
   "metadata": {},
   "outputs": [
    {
     "data": {
      "text/plain": [
       "965    loud\n",
       "Name: 0, dtype: object"
      ]
     },
     "execution_count": 454,
     "metadata": {},
     "output_type": "execute_result"
    }
   ],
   "source": [
    "# Explore labels for features 'loud'\n",
    "\n",
    "data_pd.iloc[0][data_pd.iloc[0] == 'loud']"
   ]
  },
  {
   "cell_type": "code",
   "execution_count": 455,
   "metadata": {},
   "outputs": [
    {
     "data": {
      "text/html": [
       "<div>\n",
       "<style scoped>\n",
       "    .dataframe tbody tr th:only-of-type {\n",
       "        vertical-align: middle;\n",
       "    }\n",
       "\n",
       "    .dataframe tbody tr th {\n",
       "        vertical-align: top;\n",
       "    }\n",
       "\n",
       "    .dataframe thead th {\n",
       "        text-align: right;\n",
       "    }\n",
       "</style>\n",
       "<table border=\"1\" class=\"dataframe\">\n",
       "  <thead>\n",
       "    <tr style=\"text-align: right;\">\n",
       "      <th></th>\n",
       "      <th>965</th>\n",
       "    </tr>\n",
       "  </thead>\n",
       "  <tbody>\n",
       "    <tr>\n",
       "      <th>0</th>\n",
       "      <td>loud</td>\n",
       "    </tr>\n",
       "    <tr>\n",
       "      <th>1</th>\n",
       "      <td>0</td>\n",
       "    </tr>\n",
       "    <tr>\n",
       "      <th>2</th>\n",
       "      <td>0</td>\n",
       "    </tr>\n",
       "    <tr>\n",
       "      <th>3</th>\n",
       "      <td>0</td>\n",
       "    </tr>\n",
       "    <tr>\n",
       "      <th>4</th>\n",
       "      <td>0</td>\n",
       "    </tr>\n",
       "  </tbody>\n",
       "</table>\n",
       "</div>"
      ],
      "text/plain": [
       "    965\n",
       "0  loud\n",
       "1     0\n",
       "2     0\n",
       "3     0\n",
       "4     0"
      ]
     },
     "execution_count": 455,
     "metadata": {},
     "output_type": "execute_result"
    }
   ],
   "source": [
    "data_pd[[965]].head(n=5)"
   ]
  },
  {
   "cell_type": "code",
   "execution_count": 456,
   "metadata": {
    "collapsed": true
   },
   "outputs": [],
   "source": [
    "list_bool_loud = (data_pd_words[965] == '0') | (data_pd_words[965] == 0)\n",
    "\n",
    "have_loud = [not i for i in list_bool_loud]"
   ]
  },
  {
   "cell_type": "code",
   "execution_count": 457,
   "metadata": {
    "collapsed": true
   },
   "outputs": [],
   "source": [
    "have_loud_y =  data_pd[[0, 965]][have_loud][0].values[1:len(data_pd[[0, 965]][have_loud][0].values)].astype(int)"
   ]
  },
  {
   "cell_type": "code",
   "execution_count": 458,
   "metadata": {},
   "outputs": [
    {
     "data": {
      "text/plain": [
       "(77, 71)"
      ]
     },
     "execution_count": 458,
     "metadata": {},
     "output_type": "execute_result"
    }
   ],
   "source": [
    "# Number that have 'loud' and have label 0, Number that have 'loud' and have label 1\n",
    "\n",
    "len(have_loud_y[have_loud_y == 0]), len(have_loud_y[have_loud_y == 1])"
   ]
  },
  {
   "cell_type": "code",
   "execution_count": 466,
   "metadata": {},
   "outputs": [
    {
     "data": {
      "text/plain": [
       "1.0845070422535212"
      ]
     },
     "execution_count": 466,
     "metadata": {},
     "output_type": "execute_result"
    }
   ],
   "source": [
    "len(have_loud_y[have_loud_y == 0])/len(have_loud_y[have_loud_y == 1])"
   ]
  },
  {
   "cell_type": "code",
   "execution_count": 459,
   "metadata": {
    "collapsed": true
   },
   "outputs": [],
   "source": [
    "list_bool_loud_dont = (data_pd_words[965] == '0') | (data_pd_words[965] == 0)\n",
    "\n",
    "dont_have_loud = list_bool_loud_dont"
   ]
  },
  {
   "cell_type": "code",
   "execution_count": 460,
   "metadata": {
    "collapsed": true
   },
   "outputs": [],
   "source": [
    "dont_have_loud_y = data_pd[[0, 965]][dont_have_loud][0].values.astype(int)"
   ]
  },
  {
   "cell_type": "code",
   "execution_count": 461,
   "metadata": {},
   "outputs": [
    {
     "data": {
      "text/plain": [
       "(9816, 10036)"
      ]
     },
     "execution_count": 461,
     "metadata": {},
     "output_type": "execute_result"
    }
   ],
   "source": [
    "# Number that don't have 'loud' and have label 0, Number that don't have 'loud' and have label 1\n",
    "\n",
    "len(dont_have_loud_y[dont_have_loud_y == 0]), len(dont_have_loud_y[dont_have_loud_y == 1])"
   ]
  },
  {
   "cell_type": "code",
   "execution_count": 467,
   "metadata": {},
   "outputs": [
    {
     "data": {
      "text/plain": [
       "0.9780789159027501"
      ]
     },
     "execution_count": 467,
     "metadata": {},
     "output_type": "execute_result"
    }
   ],
   "source": [
    "len(dont_have_loud_y[dont_have_loud_y == 0])/len(dont_have_loud_y[dont_have_loud_y == 1])"
   ]
  },
  {
   "cell_type": "code",
   "execution_count": 462,
   "metadata": {},
   "outputs": [
    {
     "data": {
      "text/plain": [
       "20000"
      ]
     },
     "execution_count": 462,
     "metadata": {},
     "output_type": "execute_result"
    }
   ],
   "source": [
    "len(dont_have_loud_y) + len(have_loud_y)"
   ]
  },
  {
   "cell_type": "code",
   "execution_count": null,
   "metadata": {
    "collapsed": true
   },
   "outputs": [],
   "source": [
    "# Calculate + show table of largest proportion ratios, then train on only the words with the highest ratios\n",
    "\n",
    "\n"
   ]
  },
  {
   "cell_type": "code",
   "execution_count": 483,
   "metadata": {
    "collapsed": true
   },
   "outputs": [],
   "source": [
    "x_train_top20 = []\n",
    "for i in range(len(x_train)):\n",
    "    x_train_top20.append(x_train[i][top10_list_x + bottom10_list_x])"
   ]
  },
  {
   "cell_type": "code",
   "execution_count": 489,
   "metadata": {},
   "outputs": [
    {
     "data": {
      "text/plain": [
       "[array([ 2.,  0.,  0.,  0.,  0.,  0.,  0.,  0.,  0.,  0.,  0.,  0.,  0.,\n",
       "         0.,  0.,  0.,  0.,  0.,  0.,  0.]),\n",
       " array([ 0.,  0.,  2.,  0.,  0.,  0.,  0.,  0.,  0.,  0.,  0.,  0.,  0.,\n",
       "         0.,  0.,  0.,  0.,  0.,  0.,  0.]),\n",
       " array([ 0.,  0.,  0.,  0.,  0.,  0.,  0.,  0.,  0.,  0.,  0.,  0.,  0.,\n",
       "         0.,  0.,  0.,  0.,  0.,  0.,  0.]),\n",
       " array([ 0.,  0.,  0.,  0.,  0.,  0.,  0.,  0.,  0.,  0.,  0.,  0.,  0.,\n",
       "         0.,  0.,  0.,  0.,  0.,  0.,  0.]),\n",
       " array([ 0.,  0.,  0.,  0.,  0.,  0.,  0.,  0.,  0.,  0.,  0.,  1.,  2.,\n",
       "         1.,  0.,  0.,  0.,  0.,  0.,  0.])]"
      ]
     },
     "execution_count": 489,
     "metadata": {},
     "output_type": "execute_result"
    }
   ],
   "source": [
    "x_train_top20[:5]"
   ]
  },
  {
   "cell_type": "code",
   "execution_count": 497,
   "metadata": {},
   "outputs": [
    {
     "name": "stdout",
     "output_type": "stream",
     "text": [
      "0.72175\n"
     ]
    }
   ],
   "source": [
    "# Logistic Regression w/ top20 words\n",
    "\n",
    "from sklearn.linear_model import LogisticRegression\n",
    "from sklearn import preprocessing\n",
    "from sklearn.model_selection import train_test_split\n",
    "\n",
    "x_train_s, x_val, y_train_s, y_val = train_test_split(x_train_top20, y_train, test_size=0.2, random_state=42)\n",
    "\n",
    "x_train_s_norm = preprocessing.normalize(x_train_s, norm='l2')\n",
    "x_val_norm = preprocessing.normalize(x_val, norm='l2')\n",
    "\n",
    "model = LogisticRegression(penalty='l1', C=3.90625)\n",
    "model.fit(x_train_s_norm, y_train_s)\n",
    "\n",
    "print(model.score(x_val_norm , y_val))"
   ]
  },
  {
   "cell_type": "code",
   "execution_count": 572,
   "metadata": {
    "collapsed": true
   },
   "outputs": [],
   "source": [
    "for i in range(0, clf.best_estimator_.coef_.shape[0]):\n",
    "    top10 = np.argsort(clf.best_estimator_.coef_[i])[-100:]"
   ]
  },
  {
   "cell_type": "code",
   "execution_count": 573,
   "metadata": {
    "collapsed": true
   },
   "outputs": [],
   "source": [
    "top10_list = []\n",
    "for i in range(len(top10)):\n",
    "    top10_list.append((top10[i], np.take(clf.best_estimator_.coef_, top10)[i]))\n",
    "    \n",
    "top10_list_x = []\n",
    "for i in range(len(top10)):\n",
    "    top10_list_x.append(sorted(top10_list, key=lambda x: x[0])[i][0])\n",
    "    \n",
    "top10_list_y = []\n",
    "for i in range(len(top10)):\n",
    "    top10_list_y.append(sorted(top10_list, key=lambda x: x[0])[i][1])"
   ]
  },
  {
   "cell_type": "code",
   "execution_count": 574,
   "metadata": {
    "collapsed": true
   },
   "outputs": [],
   "source": [
    "bottom10_list = []\n",
    "for i in range(len(top10)):\n",
    "    bottom10_list.append((np.where(clf.best_estimator_.coef_[0] == np.sort(clf.best_estimator_.coef_)[0][:len(top10)][i])[0][0], np.sort(clf.best_estimator_.coef_)[0][:len(top10)][i]))\n",
    "    \n",
    "bottom10_list_x = []\n",
    "for i in range(len(top10)):\n",
    "    bottom10_list_x.append(sorted(bottom10_list, key=lambda x: x[0])[i][0])\n",
    "    \n",
    "bottom10_list_y = []\n",
    "for i in range(len(top10)):\n",
    "    bottom10_list_y.append(sorted(bottom10_list, key=lambda x: x[0])[i][1])"
   ]
  },
  {
   "cell_type": "code",
   "execution_count": 558,
   "metadata": {},
   "outputs": [
    {
     "data": {
      "text/plain": [
       "400"
      ]
     },
     "execution_count": 558,
     "metadata": {},
     "output_type": "execute_result"
    }
   ],
   "source": [
    "len(top10_list_x + bottom10_list_x)"
   ]
  },
  {
   "cell_type": "code",
   "execution_count": 542,
   "metadata": {
    "collapsed": true
   },
   "outputs": [],
   "source": [
    "x_train_topx = []\n",
    "for i in range(len(x_train)):\n",
    "    x_train_topx.append(x_train[i][top10_list_x + bottom10_list_x])"
   ]
  },
  {
   "cell_type": "code",
   "execution_count": 506,
   "metadata": {},
   "outputs": [
    {
     "name": "stdout",
     "output_type": "stream",
     "text": [
      "0.78625\n"
     ]
    }
   ],
   "source": [
    "# Logistic Regression w/ top60 words\n",
    "\n",
    "from sklearn.linear_model import LogisticRegression\n",
    "from sklearn import preprocessing\n",
    "from sklearn.model_selection import train_test_split\n",
    "\n",
    "x_train_s, x_val, y_train_s, y_val = train_test_split(x_train_topx, y_train, test_size=0.2, random_state=42)\n",
    "\n",
    "x_train_s_norm = preprocessing.normalize(x_train_s, norm='l2')\n",
    "x_val_norm = preprocessing.normalize(x_val, norm='l2')\n",
    "\n",
    "model = LogisticRegression(penalty='l1', C=3.90625)\n",
    "model.fit(x_train_s_norm, y_train_s)\n",
    "\n",
    "print(model.score(x_val_norm , y_val))"
   ]
  },
  {
   "cell_type": "code",
   "execution_count": 564,
   "metadata": {},
   "outputs": [
    {
     "data": {
      "text/plain": [
       "(-2, 2)"
      ]
     },
     "execution_count": 564,
     "metadata": {},
     "output_type": "execute_result"
    },
    {
     "data": {
      "image/png": "[encoded data removed]",
      "text/plain": [
       "<matplotlib.figure.Figure at 0x15a82787908>"
      ]
     },
     "metadata": {},
     "output_type": "display_data"
    }
   ],
   "source": [
    "# After feature selection (top 60)\n",
    "\n",
    "plt.scatter(top10_list_x, top10_list_y)\n",
    "plt.scatter(bottom10_list_x, bottom10_list_y)\n",
    "plt.xlim(-50,1000)\n",
    "plt.ylim(-2,2)"
   ]
  },
  {
   "cell_type": "code",
   "execution_count": 524,
   "metadata": {},
   "outputs": [
    {
     "name": "stdout",
     "output_type": "stream",
     "text": [
      "0.80775\n"
     ]
    }
   ],
   "source": [
    "# Logistic Regression w/ top100 words\n",
    "\n",
    "from sklearn.linear_model import LogisticRegression\n",
    "from sklearn import preprocessing\n",
    "from sklearn.model_selection import train_test_split\n",
    "\n",
    "x_train_s, x_val, y_train_s, y_val = train_test_split(x_train_topx, y_train, test_size=0.2, random_state=42)\n",
    "\n",
    "x_train_s_norm = preprocessing.normalize(x_train_s, norm='l2')\n",
    "x_val_norm = preprocessing.normalize(x_val, norm='l2')\n",
    "\n",
    "model = LogisticRegression(penalty='l1', C=3.90625)\n",
    "model.fit(x_train_s_norm, y_train_s)\n",
    "\n",
    "print(model.score(x_val_norm , y_val))"
   ]
  },
  {
   "cell_type": "code",
   "execution_count": 571,
   "metadata": {},
   "outputs": [
    {
     "data": {
      "text/plain": [
       "(-2, 2)"
      ]
     },
     "execution_count": 571,
     "metadata": {},
     "output_type": "execute_result"
    },
    {
     "data": {
      "image/png": "[encoded data removed]",
      "text/plain": [
       "<matplotlib.figure.Figure at 0x15a827870b8>"
      ]
     },
     "metadata": {},
     "output_type": "display_data"
    }
   ],
   "source": [
    "# After feature selection (top 100)\n",
    "\n",
    "plt.scatter(top10_list_x, top10_list_y)\n",
    "plt.scatter(bottom10_list_x, bottom10_list_y)\n",
    "plt.xlim(-50,1000)\n",
    "plt.ylim(-2,2)"
   ]
  },
  {
   "cell_type": "code",
   "execution_count": 545,
   "metadata": {
    "collapsed": true
   },
   "outputs": [],
   "source": [
    "# Optimize\n",
    "\n",
    "from sklearn.model_selection import train_test_split\n",
    "from sklearn import preprocessing\n",
    "\n",
    "cs = []\n",
    "ci = 0.01\n",
    "for i in range(4):\n",
    "    ci = 5*ci\n",
    "    cs.append(ci)\n",
    "\n",
    "x_train_s, x_val, y_train_s, y_val = train_test_split(x_train_topx, y_train, test_size=0.2, random_state=42)\n",
    "x_train_s_norm = preprocessing.normalize(x_train_s, norm='l2')\n",
    "x_val_norm = preprocessing.normalize(x_val, norm='l2')\n",
    "\n",
    "opt_c = []\n",
    "for ci in cs:\n",
    "    model = LogisticRegression(penalty='l1', C=ci)\n",
    "    model.fit(x_train_s_norm, y_train_s)\n",
    "    opt_c.append(model.score(x_val_norm, y_val))"
   ]
  },
  {
   "cell_type": "code",
   "execution_count": 546,
   "metadata": {},
   "outputs": [
    {
     "data": {
      "text/plain": [
       "(2,\n",
       " 0.78549999999999998,\n",
       " 0.05,\n",
       " [0.78549999999999998,\n",
       "  0.83550000000000002,\n",
       "  0.84250000000000003,\n",
       "  0.84199999999999997],\n",
       " [0.05, 0.25, 1.25, 6.25])"
      ]
     },
     "execution_count": 546,
     "metadata": {},
     "output_type": "execute_result"
    }
   ],
   "source": [
    "np.argmax(opt_c), opt_c[0], cs[0], opt_c, cs"
   ]
  },
  {
   "cell_type": "code",
   "execution_count": 543,
   "metadata": {},
   "outputs": [
    {
     "name": "stdout",
     "output_type": "stream",
     "text": [
      "0.8435\n"
     ]
    }
   ],
   "source": [
    "# Logistic Regression w/ top400 words\n",
    "\n",
    "from sklearn.linear_model import LogisticRegression\n",
    "from sklearn import preprocessing\n",
    "from sklearn.model_selection import train_test_split\n",
    "\n",
    "x_train_s, x_val, y_train_s, y_val = train_test_split(x_train_topx, y_train, test_size=0.2, random_state=42)\n",
    "\n",
    "x_train_s_norm = preprocessing.normalize(x_train_s, norm='l2')\n",
    "x_val_norm = preprocessing.normalize(x_val, norm='l2')\n",
    "\n",
    "model = LogisticRegression(penalty='l1', C=3.90625)\n",
    "model.fit(x_train_s_norm, y_train_s)\n",
    "\n",
    "print(model.score(x_val_norm , y_val))"
   ]
  },
  {
   "cell_type": "code",
   "execution_count": 560,
   "metadata": {},
   "outputs": [
    {
     "data": {
      "text/plain": [
       "(-2, 2)"
      ]
     },
     "execution_count": 560,
     "metadata": {},
     "output_type": "execute_result"
    },
    {
     "data": {
      "image/png": "[encoded data removed]",
      "text/plain": [
       "<matplotlib.figure.Figure at 0x15a824fcf98>"
      ]
     },
     "metadata": {},
     "output_type": "display_data"
    }
   ],
   "source": [
    "# After feature selection (top 400)\n",
    "\n",
    "plt.scatter(top10_list_x, top10_list_y)\n",
    "plt.scatter(bottom10_list_x, bottom10_list_y)\n",
    "plt.xlim(-50,1000)\n",
    "plt.ylim(-2,2)"
   ]
  },
  {
   "cell_type": "code",
   "execution_count": 537,
   "metadata": {},
   "outputs": [
    {
     "name": "stdout",
     "output_type": "stream",
     "text": [
      "0.84875\n"
     ]
    }
   ],
   "source": [
    "# Logistic Regression w/ top800 words\n",
    "\n",
    "from sklearn.linear_model import LogisticRegression\n",
    "from sklearn import preprocessing\n",
    "from sklearn.model_selection import train_test_split\n",
    "\n",
    "x_train_s, x_val, y_train_s, y_val = train_test_split(x_train_topx, y_train, test_size=0.2, random_state=42)\n",
    "\n",
    "x_train_s_norm = preprocessing.normalize(x_train_s, norm='l2')\n",
    "x_val_norm = preprocessing.normalize(x_val, norm='l2')\n",
    "\n",
    "model = LogisticRegression(penalty='l1', C=3.90625)\n",
    "model.fit(x_train_s_norm, y_train_s)\n",
    "\n",
    "print(model.score(x_val_norm , y_val))"
   ]
  },
  {
   "cell_type": "code",
   "execution_count": null,
   "metadata": {
    "collapsed": true
   },
   "outputs": [],
   "source": [
    "# Best Naive Bayes Model (TF-IDF, optimzed Hyperparameters, train on top words)\n",
    "\n"
   ]
  },
  {
   "cell_type": "code",
   "execution_count": null,
   "metadata": {
    "collapsed": true
   },
   "outputs": [],
   "source": [
    "# Explore word co-occurances (increase signal to noise)"
   ]
  },
  {
   "cell_type": "code",
   "execution_count": 1,
   "metadata": {
    "collapsed": true
   },
   "outputs": [],
   "source": [
    "# Dylan Preprocessing Datasets\n",
    "\n",
    "from scipy.stats import percentileofscore\n",
    "import numpy as np\n",
    "from sklearn import preprocessing\n",
    "from sklearn.model_selection import train_test_split"
   ]
  },
  {
   "cell_type": "code",
   "execution_count": 2,
   "metadata": {
    "collapsed": true
   },
   "outputs": [],
   "source": [
    "data = np.loadtxt('training_data.txt', skiprows=1)\n",
    "\n",
    "x_train = data[:,range(1,1001)]\n",
    "y_train = data[:,0]\n",
    "\n",
    "# 2) Add in verbosity term\n",
    "# prereq: 1\n",
    "verbosity = np.sum(x_train, axis = 1)\n",
    "verbosity = np.ndarray( shape=(20000,1), buffer=verbosity )\n",
    "x_train_verbosity = np.append(x_train, verbosity, axis=1)"
   ]
  },
  {
   "cell_type": "code",
   "execution_count": 5,
   "metadata": {
    "collapsed": true
   },
   "outputs": [],
   "source": [
    "x_train_verb = x_train_verbosity[:,range(1,1001)]\n",
    "y_train_verb = y_train"
   ]
  },
  {
   "cell_type": "code",
   "execution_count": 6,
   "metadata": {},
   "outputs": [
    {
     "data": {
      "text/plain": [
       "array([[  0.,   0.,   0., ...,   0.,   0.,  19.],\n",
       "       [  0.,   0.,   0., ...,   0.,   0.,  61.],\n",
       "       [  3.,   1.,   0., ...,   0.,   0.,  21.],\n",
       "       ..., \n",
       "       [  0.,   1.,   1., ...,   0.,   0.,  39.],\n",
       "       [  4.,   0.,   1., ...,   0.,   0.,  56.],\n",
       "       [  0.,   3.,   0., ...,   0.,   0.,  41.]])"
      ]
     },
     "execution_count": 6,
     "metadata": {},
     "output_type": "execute_result"
    }
   ],
   "source": [
    "x_train_verb"
   ]
  },
  {
   "cell_type": "code",
   "execution_count": 8,
   "metadata": {
    "collapsed": true
   },
   "outputs": [],
   "source": [
    "# test set verbosity\n",
    "\n",
    "data_test = np.loadtxt('test_data.txt', skiprows=1)\n",
    "\n",
    "x_test = data_test"
   ]
  },
  {
   "cell_type": "code",
   "execution_count": 9,
   "metadata": {
    "collapsed": true
   },
   "outputs": [],
   "source": [
    "verbosity_test = np.sum(x_test, axis = 1)\n",
    "verbosity_test = np.ndarray( shape=(10000,1), buffer=verbosity_test )\n",
    "x_test_verbosity = np.append(x_test, verbosity_test, axis=1)"
   ]
  },
  {
   "cell_type": "code",
   "execution_count": 10,
   "metadata": {
    "collapsed": true
   },
   "outputs": [],
   "source": [
    "x_test_verb = x_test_verbosity[:,range(1,1001)]"
   ]
  },
  {
   "cell_type": "code",
   "execution_count": 20,
   "metadata": {},
   "outputs": [
    {
     "data": {
      "text/plain": [
       "array([[  3.,   1.,   0., ...,   0.,   0.,  14.],\n",
       "       [  0.,   0.,   1., ...,   0.,   0.,  72.],\n",
       "       [  0.,   0.,   0., ...,   0.,   0.,  31.],\n",
       "       ..., \n",
       "       [  0.,   1.,   0., ...,   0.,   0.,  11.],\n",
       "       [  1.,   0.,   0., ...,   0.,   0.,  23.],\n",
       "       [  1.,   1.,   0., ...,   0.,   0.,  21.]])"
      ]
     },
     "execution_count": 20,
     "metadata": {},
     "output_type": "execute_result"
    }
   ],
   "source": [
    "x_test_verb"
   ]
  },
  {
   "cell_type": "code",
   "execution_count": 12,
   "metadata": {},
   "outputs": [
    {
     "name": "stdout",
     "output_type": "stream",
     "text": [
      "0.846\n"
     ]
    }
   ],
   "source": [
    "# Verbosity + Logistic Regression\n",
    "\n",
    "from sklearn.linear_model import LogisticRegression\n",
    "\n",
    "x_train_s_verb, x_val_verb, y_train_s_verb, y_val_verb = train_test_split(x_train_verb, y_train_verb, test_size=0.2, random_state=42)\n",
    "\n",
    "x_train_s_norm_verb = preprocessing.normalize(x_train_s_verb, norm='l2')\n",
    "x_val_norm_verb = preprocessing.normalize(x_val_verb, norm='l2')\n",
    "\n",
    "model = LogisticRegression(penalty='l1', C=3.90625)\n",
    "model.fit(x_train_s_norm_verb, y_train_s_verb)\n",
    "\n",
    "print(model.score(x_val_norm_verb, y_val_verb))"
   ]
  },
  {
   "cell_type": "code",
   "execution_count": null,
   "metadata": {
    "collapsed": true
   },
   "outputs": [],
   "source": [
    "0.8565"
   ]
  },
  {
   "cell_type": "code",
   "execution_count": 18,
   "metadata": {},
   "outputs": [
    {
     "ename": "AttributeError",
     "evalue": "'LogisticRegression' object has no attribute 'coef_'",
     "output_type": "error",
     "traceback": [
      "\u001b[0;31m---------------------------------------------------------------------------\u001b[0m",
      "\u001b[0;31mAttributeError\u001b[0m                            Traceback (most recent call last)",
      "\u001b[0;32m<ipython-input-18-56d2111780ef>\u001b[0m in \u001b[0;36m<module>\u001b[0;34m()\u001b[0m\n\u001b[0;32m----> 1\u001b[0;31m \u001b[0mws\u001b[0m \u001b[0;34m=\u001b[0m \u001b[0mmodel\u001b[0m\u001b[0;34m.\u001b[0m\u001b[0mcoef_\u001b[0m\u001b[0;34m\u001b[0m\u001b[0m\n\u001b[0m\u001b[1;32m      2\u001b[0m \u001b[0mplt\u001b[0m\u001b[0;34m.\u001b[0m\u001b[0mplot\u001b[0m\u001b[0;34m(\u001b[0m\u001b[0mrange\u001b[0m\u001b[0;34m(\u001b[0m\u001b[0mlen\u001b[0m\u001b[0;34m(\u001b[0m\u001b[0mws\u001b[0m\u001b[0;34m[\u001b[0m\u001b[0;36m0\u001b[0m\u001b[0;34m]\u001b[0m\u001b[0;34m)\u001b[0m\u001b[0;34m)\u001b[0m\u001b[0;34m,\u001b[0m \u001b[0mws\u001b[0m\u001b[0;34m[\u001b[0m\u001b[0;36m0\u001b[0m\u001b[0;34m]\u001b[0m\u001b[0;34m)\u001b[0m\u001b[0;34m\u001b[0m\u001b[0m\n",
      "\u001b[0;31mAttributeError\u001b[0m: 'LogisticRegression' object has no attribute 'coef_'"
     ]
    }
   ],
   "source": [
    "ws = model.coef_\n",
    "plt.plot(range(len(ws[0])), ws[0])"
   ]
  },
  {
   "cell_type": "code",
   "execution_count": 22,
   "metadata": {
    "collapsed": true
   },
   "outputs": [],
   "source": [
    "# Optimize\n",
    "\n",
    "from sklearn.model_selection import train_test_split\n",
    "from sklearn import preprocessing\n",
    "\n",
    "cs = []\n",
    "ci = 0.01\n",
    "for i in range(6):\n",
    "    ci = 5*ci\n",
    "    cs.append(ci)\n",
    "\n",
    "x_train_s_verb, x_val_verb, y_train_s_verb, y_val_verb = train_test_split(x_train_verb, y_train_verb, test_size=0.2, random_state=42)\n",
    "x_train_s_norm_verb = preprocessing.normalize(x_train_s_verb, norm='l2')\n",
    "x_val_norm_verb = preprocessing.normalize(x_val_verb, norm='l2')\n",
    "\n",
    "opt_c = []\n",
    "for ci in cs:\n",
    "    model = LogisticRegression(penalty='l1', C=ci)\n",
    "    model.fit(x_train_s_norm_verb, y_train_s_verb)\n",
    "    opt_c.append(model.score(x_val_norm_verb, y_val_verb))"
   ]
  },
  {
   "cell_type": "code",
   "execution_count": 23,
   "metadata": {},
   "outputs": [
    {
     "data": {
      "text/plain": [
       "(3,\n",
       " 0.64749999999999996,\n",
       " 0.05,\n",
       " [0.64749999999999996,\n",
       "  0.77324999999999999,\n",
       "  0.83199999999999996,\n",
       "  0.84850000000000003,\n",
       "  0.84499999999999997,\n",
       "  0.84399999999999997],\n",
       " [0.05, 0.25, 1.25, 6.25, 31.25, 156.25])"
      ]
     },
     "execution_count": 23,
     "metadata": {},
     "output_type": "execute_result"
    }
   ],
   "source": [
    "np.argmax(opt_c), opt_c[0], cs[0], opt_c, cs"
   ]
  },
  {
   "cell_type": "code",
   "execution_count": 25,
   "metadata": {},
   "outputs": [
    {
     "name": "stdout",
     "output_type": "stream",
     "text": [
      "0.82575\n"
     ]
    }
   ],
   "source": [
    "# Verbosity + Best Linear SVM\n",
    "\n",
    "from sklearn import svm\n",
    "\n",
    "x_train_s_verb, x_val_verb, y_train_s_verb, y_val_verb = train_test_split(x_train_verb, y_train_verb, test_size=0.2, random_state=42)\n",
    "\n",
    "x_train_s_norm_verb = preprocessing.normalize(x_train_s_verb, norm='l2')\n",
    "x_val_norm_verb = preprocessing.normalize(x_val_verb, norm='l2')\n",
    "\n",
    "clf = svm.SVC(C=1, kernel='linear')\n",
    "clf.fit(x_train_s_norm_verb, y_train_s_verb)\n",
    "\n",
    "print(clf.score(x_val_norm_verb, y_val_verb))"
   ]
  },
  {
   "cell_type": "code",
   "execution_count": null,
   "metadata": {
    "collapsed": true
   },
   "outputs": [],
   "source": [
    "# Normalize data\n",
    "\n",
    "x_train_norm_verb = preprocessing.normalize(x_train_verb, norm='l2')\n",
    "x_test_norm_verb = preprocessing.normalize(x_test_verb, norm='l2')\n",
    "\n",
    "# Optimal Logistic Regression (Verbosity)\n",
    "\n",
    "model = LogisticRegression(penalty='l1', C=ci)\n",
    "model.fit(x_train_norm_verb, y_train_verb)\n",
    "\n",
    "y_pred = clf.predict(x_test_norm_verb)\n",
    "\n",
    "submission = pd.DataFrame({'Id': range(1, len(x_test)+1), 'Prediction': [int(x) for x in y_pred]})\n",
    "print(submission.head(10))\n",
    "\n",
    "submission.to_csv('submission_opt_log_reg_verbosity.csv', index=False, header=True)"
   ]
  },
  {
   "cell_type": "code",
   "execution_count": null,
   "metadata": {
    "collapsed": true
   },
   "outputs": [],
   "source": [
    "# Best SVM score\n",
    "\n",
    "0.8495"
   ]
  },
  {
   "cell_type": "code",
   "execution_count": 3,
   "metadata": {
    "collapsed": true
   },
   "outputs": [],
   "source": [
    "original_training_data = np.loadtxt(\"training_data.txt\", skiprows=1)\n",
    "train = original_training_data\n",
    "\n",
    "# 4) Add in vocabulary size (% words from entire corpus present in review)\n",
    "# prereq: 1\n",
    "train_binary = np.where(train[:,1:] > 0, 1, 0)\n",
    "raw_vocab = np.sum(train_binary, axis=1)\n",
    "vocab = raw_vocab/1000\n",
    "vocab = np.ndarray( shape=(20000,1), buffer=vocab )\n",
    "train_vocab = np.append( train, vocab, axis=1 )"
   ]
  },
  {
   "cell_type": "code",
   "execution_count": 4,
   "metadata": {
    "collapsed": true
   },
   "outputs": [],
   "source": [
    "x_train_vocab = train_vocab[:,range(1,1002)]\n",
    "y_train_vocab = train_vocab[:,0]"
   ]
  },
  {
   "cell_type": "code",
   "execution_count": 5,
   "metadata": {},
   "outputs": [
    {
     "data": {
      "text/plain": [
       "array([[ 0.   ,  0.   ,  0.   , ...,  0.   ,  0.   ,  0.017],\n",
       "       [ 3.   ,  0.   ,  0.   , ...,  0.   ,  0.   ,  0.044],\n",
       "       [ 0.   ,  3.   ,  1.   , ...,  0.   ,  0.   ,  0.016],\n",
       "       ..., \n",
       "       [ 3.   ,  0.   ,  1.   , ...,  0.   ,  0.   ,  0.034],\n",
       "       [ 2.   ,  4.   ,  0.   , ...,  0.   ,  0.   ,  0.042],\n",
       "       [ 0.   ,  0.   ,  3.   , ...,  0.   ,  0.   ,  0.037]])"
      ]
     },
     "execution_count": 5,
     "metadata": {},
     "output_type": "execute_result"
    }
   ],
   "source": [
    "x_train_vocab"
   ]
  },
  {
   "cell_type": "code",
   "execution_count": 6,
   "metadata": {
    "collapsed": true
   },
   "outputs": [],
   "source": [
    "# Test data\n",
    "\n",
    "data_test = np.loadtxt('test_data.txt', skiprows=1)\n",
    "test = data_test"
   ]
  },
  {
   "cell_type": "code",
   "execution_count": 7,
   "metadata": {
    "collapsed": true
   },
   "outputs": [],
   "source": [
    "test_binary = np.where(test[:,1:] > 0, 1, 0)\n",
    "raw_vocab = np.sum(test_binary, axis=1)\n",
    "vocab = raw_vocab/1000\n",
    "vocab = np.ndarray( shape=(10000,1), buffer=vocab )\n",
    "x_test_vocab = np.append( test, vocab, axis=1 )"
   ]
  },
  {
   "cell_type": "code",
   "execution_count": 662,
   "metadata": {},
   "outputs": [
    {
     "data": {
      "text/plain": [
       "(1001,)"
      ]
     },
     "execution_count": 662,
     "metadata": {},
     "output_type": "execute_result"
    }
   ],
   "source": [
    "x_test_vocab[0].shape"
   ]
  },
  {
   "cell_type": "code",
   "execution_count": 663,
   "metadata": {},
   "outputs": [
    {
     "data": {
      "text/plain": [
       "(1001,)"
      ]
     },
     "execution_count": 663,
     "metadata": {},
     "output_type": "execute_result"
    }
   ],
   "source": [
    "x_train_vocab[0].shape"
   ]
  },
  {
   "cell_type": "code",
   "execution_count": null,
   "metadata": {
    "collapsed": true
   },
   "outputs": [],
   "source": [
    "3.90625"
   ]
  },
  {
   "cell_type": "code",
   "execution_count": 9,
   "metadata": {},
   "outputs": [
    {
     "name": "stdout",
     "output_type": "stream",
     "text": [
      "0.85025\n"
     ]
    }
   ],
   "source": [
    "# Vocab Size + Logistic Regression\n",
    "\n",
    "from sklearn.model_selection import train_test_split\n",
    "from sklearn import preprocessing\n",
    "\n",
    "from sklearn.linear_model import LogisticRegression\n",
    "\n",
    "x_train_s_vocab, x_val_vocab, y_train_s_vocab, y_val_vocab = train_test_split(x_train_vocab, y_train_vocab, test_size=0.2, random_state=42)\n",
    "\n",
    "x_train_s_norm_vocab = preprocessing.normalize(x_train_s_vocab, norm='l2')\n",
    "x_val_norm_vocab = preprocessing.normalize(x_val_vocab, norm='l2')\n",
    "\n",
    "model = LogisticRegression(penalty='l1', C=3.3)\n",
    "model.fit(x_train_s_norm_vocab, y_train_s_vocab)\n",
    "\n",
    "print(model.score(x_val_norm_vocab, y_val_vocab))"
   ]
  },
  {
   "cell_type": "code",
   "execution_count": 14,
   "metadata": {},
   "outputs": [
    {
     "name": "stdout",
     "output_type": "stream",
     "text": [
      "   Id  Prediction\n",
      "0   1           1\n",
      "1   2           1\n",
      "2   3           0\n",
      "3   4           0\n",
      "4   5           0\n",
      "5   6           0\n",
      "6   7           1\n",
      "7   8           1\n",
      "8   9           1\n",
      "9  10           0\n"
     ]
    }
   ],
   "source": [
    "# Normalize data\n",
    "\n",
    "x_train_norm_vocab = preprocessing.normalize(x_train_vocab, norm='l2')\n",
    "x_test_norm_vocab = preprocessing.normalize(x_test_vocab, norm='l2')\n",
    "\n",
    "# Optimal Logistic Regression (Verbosity)\n",
    "\n",
    "model = LogisticRegression(penalty='l1', C=3.3)\n",
    "model.fit(x_train_norm_vocab, y_train_vocab)\n",
    "\n",
    "y_pred = model.predict(x_test_norm_vocab)\n",
    "\n",
    "submission = pd.DataFrame({'Id': range(1, len(x_test)+1), 'Prediction': [int(x) for x in y_pred]})\n",
    "print(submission.head(10))\n",
    "\n",
    "submission.to_csv('submission_opt_log_reg_vocab_size.csv', index=False, header=True)"
   ]
  },
  {
   "cell_type": "code",
   "execution_count": 618,
   "metadata": {
    "collapsed": true
   },
   "outputs": [],
   "source": [
    "# Optimize\n",
    "\n",
    "from sklearn.model_selection import train_test_split\n",
    "from sklearn import preprocessing\n",
    "\n",
    "cs = []\n",
    "ci = 0.01\n",
    "for i in range(6):\n",
    "    ci = 5*ci\n",
    "    cs.append(ci)\n",
    "\n",
    "x_train_s_vocab, x_val_vocab, y_train_s_vocab, y_val_vocab = train_test_split(x_train_vocab, y_train_vocab, test_size=0.2, random_state=42)\n",
    "x_train_s_norm_vocab = preprocessing.normalize(x_train_s_vocab, norm='l2')\n",
    "x_val_norm_vocab = preprocessing.normalize(x_val_vocab, norm='l2')\n",
    "\n",
    "opt_c = []\n",
    "for ci in cs:\n",
    "    model = LogisticRegression(penalty='l1', C=ci)\n",
    "    model.fit(x_train_s_norm_vocab, y_train_s_vocab)\n",
    "    opt_c.append(model.score(x_val_norm_vocab, y_val_vocab))"
   ]
  },
  {
   "cell_type": "code",
   "execution_count": 619,
   "metadata": {},
   "outputs": [
    {
     "data": {
      "text/plain": [
       "(3,\n",
       " 0.76700000000000002,\n",
       " 0.05,\n",
       " [0.76700000000000002,\n",
       "  0.82674999999999998,\n",
       "  0.84799999999999998,\n",
       "  0.84975000000000001,\n",
       "  0.84824999999999995,\n",
       "  0.84699999999999998],\n",
       " [0.05, 0.25, 1.25, 6.25, 31.25, 156.25])"
      ]
     },
     "execution_count": 619,
     "metadata": {},
     "output_type": "execute_result"
    }
   ],
   "source": [
    "np.argmax(opt_c), opt_c[0], cs[0], opt_c, cs"
   ]
  },
  {
   "cell_type": "code",
   "execution_count": 588,
   "metadata": {},
   "outputs": [
    {
     "data": {
      "text/html": [
       "<div>\n",
       "<style scoped>\n",
       "    .dataframe tbody tr th:only-of-type {\n",
       "        vertical-align: middle;\n",
       "    }\n",
       "\n",
       "    .dataframe tbody tr th {\n",
       "        vertical-align: top;\n",
       "    }\n",
       "\n",
       "    .dataframe thead th {\n",
       "        text-align: right;\n",
       "    }\n",
       "</style>\n",
       "<table border=\"1\" class=\"dataframe\">\n",
       "  <thead>\n",
       "    <tr style=\"text-align: right;\">\n",
       "      <th></th>\n",
       "      <th>Id</th>\n",
       "      <th>Prediction0</th>\n",
       "      <th>Prediction1</th>\n",
       "      <th>Prediction2</th>\n",
       "      <th>Prediction3</th>\n",
       "    </tr>\n",
       "  </thead>\n",
       "  <tbody>\n",
       "    <tr>\n",
       "      <th>0</th>\n",
       "      <td>1</td>\n",
       "      <td>1</td>\n",
       "      <td>1</td>\n",
       "      <td>1</td>\n",
       "      <td>1</td>\n",
       "    </tr>\n",
       "    <tr>\n",
       "      <th>1</th>\n",
       "      <td>2</td>\n",
       "      <td>1</td>\n",
       "      <td>1</td>\n",
       "      <td>1</td>\n",
       "      <td>1</td>\n",
       "    </tr>\n",
       "    <tr>\n",
       "      <th>2</th>\n",
       "      <td>3</td>\n",
       "      <td>0</td>\n",
       "      <td>0</td>\n",
       "      <td>1</td>\n",
       "      <td>0</td>\n",
       "    </tr>\n",
       "    <tr>\n",
       "      <th>3</th>\n",
       "      <td>4</td>\n",
       "      <td>0</td>\n",
       "      <td>0</td>\n",
       "      <td>0</td>\n",
       "      <td>0</td>\n",
       "    </tr>\n",
       "    <tr>\n",
       "      <th>4</th>\n",
       "      <td>5</td>\n",
       "      <td>0</td>\n",
       "      <td>0</td>\n",
       "      <td>1</td>\n",
       "      <td>1</td>\n",
       "    </tr>\n",
       "    <tr>\n",
       "      <th>5</th>\n",
       "      <td>6</td>\n",
       "      <td>0</td>\n",
       "      <td>0</td>\n",
       "      <td>0</td>\n",
       "      <td>0</td>\n",
       "    </tr>\n",
       "    <tr>\n",
       "      <th>6</th>\n",
       "      <td>7</td>\n",
       "      <td>1</td>\n",
       "      <td>1</td>\n",
       "      <td>1</td>\n",
       "      <td>1</td>\n",
       "    </tr>\n",
       "    <tr>\n",
       "      <th>7</th>\n",
       "      <td>8</td>\n",
       "      <td>1</td>\n",
       "      <td>1</td>\n",
       "      <td>1</td>\n",
       "      <td>1</td>\n",
       "    </tr>\n",
       "    <tr>\n",
       "      <th>8</th>\n",
       "      <td>9</td>\n",
       "      <td>1</td>\n",
       "      <td>1</td>\n",
       "      <td>1</td>\n",
       "      <td>1</td>\n",
       "    </tr>\n",
       "    <tr>\n",
       "      <th>9</th>\n",
       "      <td>10</td>\n",
       "      <td>0</td>\n",
       "      <td>0</td>\n",
       "      <td>0</td>\n",
       "      <td>0</td>\n",
       "    </tr>\n",
       "    <tr>\n",
       "      <th>10</th>\n",
       "      <td>11</td>\n",
       "      <td>1</td>\n",
       "      <td>1</td>\n",
       "      <td>1</td>\n",
       "      <td>1</td>\n",
       "    </tr>\n",
       "    <tr>\n",
       "      <th>11</th>\n",
       "      <td>12</td>\n",
       "      <td>0</td>\n",
       "      <td>1</td>\n",
       "      <td>1</td>\n",
       "      <td>1</td>\n",
       "    </tr>\n",
       "    <tr>\n",
       "      <th>12</th>\n",
       "      <td>13</td>\n",
       "      <td>1</td>\n",
       "      <td>1</td>\n",
       "      <td>1</td>\n",
       "      <td>0</td>\n",
       "    </tr>\n",
       "    <tr>\n",
       "      <th>13</th>\n",
       "      <td>14</td>\n",
       "      <td>0</td>\n",
       "      <td>0</td>\n",
       "      <td>0</td>\n",
       "      <td>0</td>\n",
       "    </tr>\n",
       "    <tr>\n",
       "      <th>14</th>\n",
       "      <td>15</td>\n",
       "      <td>0</td>\n",
       "      <td>0</td>\n",
       "      <td>0</td>\n",
       "      <td>0</td>\n",
       "    </tr>\n",
       "    <tr>\n",
       "      <th>15</th>\n",
       "      <td>16</td>\n",
       "      <td>1</td>\n",
       "      <td>1</td>\n",
       "      <td>1</td>\n",
       "      <td>1</td>\n",
       "    </tr>\n",
       "    <tr>\n",
       "      <th>16</th>\n",
       "      <td>17</td>\n",
       "      <td>0</td>\n",
       "      <td>0</td>\n",
       "      <td>0</td>\n",
       "      <td>0</td>\n",
       "    </tr>\n",
       "    <tr>\n",
       "      <th>17</th>\n",
       "      <td>18</td>\n",
       "      <td>0</td>\n",
       "      <td>0</td>\n",
       "      <td>0</td>\n",
       "      <td>0</td>\n",
       "    </tr>\n",
       "    <tr>\n",
       "      <th>18</th>\n",
       "      <td>19</td>\n",
       "      <td>1</td>\n",
       "      <td>1</td>\n",
       "      <td>1</td>\n",
       "      <td>1</td>\n",
       "    </tr>\n",
       "    <tr>\n",
       "      <th>19</th>\n",
       "      <td>20</td>\n",
       "      <td>0</td>\n",
       "      <td>0</td>\n",
       "      <td>1</td>\n",
       "      <td>0</td>\n",
       "    </tr>\n",
       "    <tr>\n",
       "      <th>20</th>\n",
       "      <td>21</td>\n",
       "      <td>0</td>\n",
       "      <td>0</td>\n",
       "      <td>0</td>\n",
       "      <td>0</td>\n",
       "    </tr>\n",
       "    <tr>\n",
       "      <th>21</th>\n",
       "      <td>22</td>\n",
       "      <td>1</td>\n",
       "      <td>1</td>\n",
       "      <td>1</td>\n",
       "      <td>1</td>\n",
       "    </tr>\n",
       "    <tr>\n",
       "      <th>22</th>\n",
       "      <td>23</td>\n",
       "      <td>1</td>\n",
       "      <td>1</td>\n",
       "      <td>1</td>\n",
       "      <td>1</td>\n",
       "    </tr>\n",
       "    <tr>\n",
       "      <th>23</th>\n",
       "      <td>24</td>\n",
       "      <td>1</td>\n",
       "      <td>1</td>\n",
       "      <td>0</td>\n",
       "      <td>0</td>\n",
       "    </tr>\n",
       "    <tr>\n",
       "      <th>24</th>\n",
       "      <td>25</td>\n",
       "      <td>0</td>\n",
       "      <td>0</td>\n",
       "      <td>0</td>\n",
       "      <td>0</td>\n",
       "    </tr>\n",
       "    <tr>\n",
       "      <th>25</th>\n",
       "      <td>26</td>\n",
       "      <td>1</td>\n",
       "      <td>1</td>\n",
       "      <td>0</td>\n",
       "      <td>1</td>\n",
       "    </tr>\n",
       "    <tr>\n",
       "      <th>26</th>\n",
       "      <td>27</td>\n",
       "      <td>0</td>\n",
       "      <td>0</td>\n",
       "      <td>0</td>\n",
       "      <td>0</td>\n",
       "    </tr>\n",
       "    <tr>\n",
       "      <th>27</th>\n",
       "      <td>28</td>\n",
       "      <td>0</td>\n",
       "      <td>0</td>\n",
       "      <td>0</td>\n",
       "      <td>0</td>\n",
       "    </tr>\n",
       "    <tr>\n",
       "      <th>28</th>\n",
       "      <td>29</td>\n",
       "      <td>0</td>\n",
       "      <td>0</td>\n",
       "      <td>0</td>\n",
       "      <td>0</td>\n",
       "    </tr>\n",
       "    <tr>\n",
       "      <th>29</th>\n",
       "      <td>30</td>\n",
       "      <td>1</td>\n",
       "      <td>1</td>\n",
       "      <td>1</td>\n",
       "      <td>1</td>\n",
       "    </tr>\n",
       "  </tbody>\n",
       "</table>\n",
       "</div>"
      ],
      "text/plain": [
       "    Id  Prediction0  Prediction1  Prediction2  Prediction3\n",
       "0    1            1            1            1            1\n",
       "1    2            1            1            1            1\n",
       "2    3            0            0            1            0\n",
       "3    4            0            0            0            0\n",
       "4    5            0            0            1            1\n",
       "5    6            0            0            0            0\n",
       "6    7            1            1            1            1\n",
       "7    8            1            1            1            1\n",
       "8    9            1            1            1            1\n",
       "9   10            0            0            0            0\n",
       "10  11            1            1            1            1\n",
       "11  12            0            1            1            1\n",
       "12  13            1            1            1            0\n",
       "13  14            0            0            0            0\n",
       "14  15            0            0            0            0\n",
       "15  16            1            1            1            1\n",
       "16  17            0            0            0            0\n",
       "17  18            0            0            0            0\n",
       "18  19            1            1            1            1\n",
       "19  20            0            0            1            0\n",
       "20  21            0            0            0            0\n",
       "21  22            1            1            1            1\n",
       "22  23            1            1            1            1\n",
       "23  24            1            1            0            0\n",
       "24  25            0            0            0            0\n",
       "25  26            1            1            0            1\n",
       "26  27            0            0            0            0\n",
       "27  28            0            0            0            0\n",
       "28  29            0            0            0            0\n",
       "29  30            1            1            1            1"
      ]
     },
     "execution_count": 588,
     "metadata": {},
     "output_type": "execute_result"
    }
   ],
   "source": [
    "# Stack Logistic Regression, Random Forest, LinearSVM, Multinomial NB\n",
    "\n",
    "# Majority Stacking\n",
    "\n",
    "import os\n",
    "\n",
    "sub_path = \"submissions/\"\n",
    "all_files = os.listdir(sub_path)\n",
    "\n",
    "# Read and concatenate submissions\n",
    "outs = [pd.read_csv(os.path.join(sub_path, f), index_col=0) for f in all_files]\n",
    "concat_sub = pd.concat(outs, axis=1)\n",
    "cols = list(map(lambda x: \"Prediction\" + str(x), range(len(concat_sub.columns))))\n",
    "concat_sub.columns = cols\n",
    "concat_sub.reset_index(inplace=True)\n",
    "concat_sub.head(n=30)"
   ]
  },
  {
   "cell_type": "code",
   "execution_count": 596,
   "metadata": {},
   "outputs": [
    {
     "data": {
      "text/plain": [
       "array([1, 1, 0, 0, 0, 0, 1, 1, 1, 0, 1, 1, 1, 0, 0])"
      ]
     },
     "execution_count": 596,
     "metadata": {},
     "output_type": "execute_result"
    }
   ],
   "source": [
    "predictDF = np.array(concat_sub.iloc[:, 1:5])\n",
    "predictDF[0:5, ] #.head()\n",
    "majority = np.mean(predictDF, axis=1)\n",
    "majority[0:5]\n",
    "stacked = (majority > 0.5) + 0\n",
    "stacked[0:15]"
   ]
  },
  {
   "cell_type": "code",
   "execution_count": 597,
   "metadata": {},
   "outputs": [
    {
     "name": "stdout",
     "output_type": "stream",
     "text": [
      "   Id  Prediction\n",
      "0   1           1\n",
      "1   2           1\n",
      "2   3           0\n",
      "3   4           0\n",
      "4   5           0\n",
      "5   6           0\n",
      "6   7           1\n",
      "7   8           1\n",
      "8   9           1\n",
      "9  10           0\n"
     ]
    }
   ],
   "source": [
    "# Majority stack\n",
    "\n",
    "submission = pd.DataFrame({'Id': range(1, len(x_test)+1), 'Prediction': [int(x) for x in stacked]})\n",
    "print(submission.head(10))\n",
    "\n",
    "submission.to_csv('submission_majority_stack_svm_logreg_rfo_Multinomial_NB.csv', index=False, header=True)"
   ]
  },
  {
   "cell_type": "code",
   "execution_count": 607,
   "metadata": {},
   "outputs": [
    {
     "data": {
      "text/html": [
       "<div>\n",
       "<style scoped>\n",
       "    .dataframe tbody tr th:only-of-type {\n",
       "        vertical-align: middle;\n",
       "    }\n",
       "\n",
       "    .dataframe tbody tr th {\n",
       "        vertical-align: top;\n",
       "    }\n",
       "\n",
       "    .dataframe thead th {\n",
       "        text-align: right;\n",
       "    }\n",
       "</style>\n",
       "<table border=\"1\" class=\"dataframe\">\n",
       "  <thead>\n",
       "    <tr style=\"text-align: right;\">\n",
       "      <th></th>\n",
       "      <th>Id</th>\n",
       "      <th>Prediction0</th>\n",
       "      <th>Prediction1</th>\n",
       "      <th>Prediction2</th>\n",
       "      <th>Prediction3</th>\n",
       "      <th>Prediction4</th>\n",
       "    </tr>\n",
       "  </thead>\n",
       "  <tbody>\n",
       "    <tr>\n",
       "      <th>0</th>\n",
       "      <td>1</td>\n",
       "      <td>1</td>\n",
       "      <td>1</td>\n",
       "      <td>1</td>\n",
       "      <td>1</td>\n",
       "      <td>1</td>\n",
       "    </tr>\n",
       "    <tr>\n",
       "      <th>1</th>\n",
       "      <td>2</td>\n",
       "      <td>1</td>\n",
       "      <td>1</td>\n",
       "      <td>1</td>\n",
       "      <td>1</td>\n",
       "      <td>1</td>\n",
       "    </tr>\n",
       "    <tr>\n",
       "      <th>2</th>\n",
       "      <td>3</td>\n",
       "      <td>0</td>\n",
       "      <td>0</td>\n",
       "      <td>0</td>\n",
       "      <td>1</td>\n",
       "      <td>0</td>\n",
       "    </tr>\n",
       "    <tr>\n",
       "      <th>3</th>\n",
       "      <td>4</td>\n",
       "      <td>0</td>\n",
       "      <td>0</td>\n",
       "      <td>0</td>\n",
       "      <td>0</td>\n",
       "      <td>0</td>\n",
       "    </tr>\n",
       "    <tr>\n",
       "      <th>4</th>\n",
       "      <td>5</td>\n",
       "      <td>0</td>\n",
       "      <td>0</td>\n",
       "      <td>0</td>\n",
       "      <td>1</td>\n",
       "      <td>1</td>\n",
       "    </tr>\n",
       "    <tr>\n",
       "      <th>5</th>\n",
       "      <td>6</td>\n",
       "      <td>0</td>\n",
       "      <td>0</td>\n",
       "      <td>0</td>\n",
       "      <td>0</td>\n",
       "      <td>0</td>\n",
       "    </tr>\n",
       "    <tr>\n",
       "      <th>6</th>\n",
       "      <td>7</td>\n",
       "      <td>1</td>\n",
       "      <td>1</td>\n",
       "      <td>1</td>\n",
       "      <td>1</td>\n",
       "      <td>1</td>\n",
       "    </tr>\n",
       "    <tr>\n",
       "      <th>7</th>\n",
       "      <td>8</td>\n",
       "      <td>1</td>\n",
       "      <td>1</td>\n",
       "      <td>1</td>\n",
       "      <td>1</td>\n",
       "      <td>1</td>\n",
       "    </tr>\n",
       "    <tr>\n",
       "      <th>8</th>\n",
       "      <td>9</td>\n",
       "      <td>1</td>\n",
       "      <td>1</td>\n",
       "      <td>1</td>\n",
       "      <td>1</td>\n",
       "      <td>1</td>\n",
       "    </tr>\n",
       "    <tr>\n",
       "      <th>9</th>\n",
       "      <td>10</td>\n",
       "      <td>0</td>\n",
       "      <td>0</td>\n",
       "      <td>0</td>\n",
       "      <td>0</td>\n",
       "      <td>0</td>\n",
       "    </tr>\n",
       "    <tr>\n",
       "      <th>10</th>\n",
       "      <td>11</td>\n",
       "      <td>1</td>\n",
       "      <td>1</td>\n",
       "      <td>1</td>\n",
       "      <td>1</td>\n",
       "      <td>1</td>\n",
       "    </tr>\n",
       "    <tr>\n",
       "      <th>11</th>\n",
       "      <td>12</td>\n",
       "      <td>0</td>\n",
       "      <td>0</td>\n",
       "      <td>1</td>\n",
       "      <td>1</td>\n",
       "      <td>1</td>\n",
       "    </tr>\n",
       "    <tr>\n",
       "      <th>12</th>\n",
       "      <td>13</td>\n",
       "      <td>1</td>\n",
       "      <td>1</td>\n",
       "      <td>1</td>\n",
       "      <td>1</td>\n",
       "      <td>0</td>\n",
       "    </tr>\n",
       "    <tr>\n",
       "      <th>13</th>\n",
       "      <td>14</td>\n",
       "      <td>0</td>\n",
       "      <td>0</td>\n",
       "      <td>0</td>\n",
       "      <td>0</td>\n",
       "      <td>0</td>\n",
       "    </tr>\n",
       "    <tr>\n",
       "      <th>14</th>\n",
       "      <td>15</td>\n",
       "      <td>0</td>\n",
       "      <td>0</td>\n",
       "      <td>0</td>\n",
       "      <td>0</td>\n",
       "      <td>0</td>\n",
       "    </tr>\n",
       "    <tr>\n",
       "      <th>15</th>\n",
       "      <td>16</td>\n",
       "      <td>1</td>\n",
       "      <td>1</td>\n",
       "      <td>1</td>\n",
       "      <td>1</td>\n",
       "      <td>1</td>\n",
       "    </tr>\n",
       "    <tr>\n",
       "      <th>16</th>\n",
       "      <td>17</td>\n",
       "      <td>0</td>\n",
       "      <td>0</td>\n",
       "      <td>0</td>\n",
       "      <td>0</td>\n",
       "      <td>0</td>\n",
       "    </tr>\n",
       "    <tr>\n",
       "      <th>17</th>\n",
       "      <td>18</td>\n",
       "      <td>0</td>\n",
       "      <td>0</td>\n",
       "      <td>0</td>\n",
       "      <td>0</td>\n",
       "      <td>0</td>\n",
       "    </tr>\n",
       "    <tr>\n",
       "      <th>18</th>\n",
       "      <td>19</td>\n",
       "      <td>1</td>\n",
       "      <td>1</td>\n",
       "      <td>1</td>\n",
       "      <td>1</td>\n",
       "      <td>1</td>\n",
       "    </tr>\n",
       "    <tr>\n",
       "      <th>19</th>\n",
       "      <td>20</td>\n",
       "      <td>0</td>\n",
       "      <td>0</td>\n",
       "      <td>0</td>\n",
       "      <td>1</td>\n",
       "      <td>0</td>\n",
       "    </tr>\n",
       "    <tr>\n",
       "      <th>20</th>\n",
       "      <td>21</td>\n",
       "      <td>0</td>\n",
       "      <td>0</td>\n",
       "      <td>0</td>\n",
       "      <td>0</td>\n",
       "      <td>0</td>\n",
       "    </tr>\n",
       "    <tr>\n",
       "      <th>21</th>\n",
       "      <td>22</td>\n",
       "      <td>1</td>\n",
       "      <td>1</td>\n",
       "      <td>1</td>\n",
       "      <td>1</td>\n",
       "      <td>1</td>\n",
       "    </tr>\n",
       "    <tr>\n",
       "      <th>22</th>\n",
       "      <td>23</td>\n",
       "      <td>1</td>\n",
       "      <td>1</td>\n",
       "      <td>1</td>\n",
       "      <td>1</td>\n",
       "      <td>1</td>\n",
       "    </tr>\n",
       "    <tr>\n",
       "      <th>23</th>\n",
       "      <td>24</td>\n",
       "      <td>1</td>\n",
       "      <td>1</td>\n",
       "      <td>1</td>\n",
       "      <td>0</td>\n",
       "      <td>0</td>\n",
       "    </tr>\n",
       "    <tr>\n",
       "      <th>24</th>\n",
       "      <td>25</td>\n",
       "      <td>0</td>\n",
       "      <td>0</td>\n",
       "      <td>0</td>\n",
       "      <td>0</td>\n",
       "      <td>0</td>\n",
       "    </tr>\n",
       "    <tr>\n",
       "      <th>25</th>\n",
       "      <td>26</td>\n",
       "      <td>1</td>\n",
       "      <td>1</td>\n",
       "      <td>1</td>\n",
       "      <td>0</td>\n",
       "      <td>1</td>\n",
       "    </tr>\n",
       "    <tr>\n",
       "      <th>26</th>\n",
       "      <td>27</td>\n",
       "      <td>0</td>\n",
       "      <td>0</td>\n",
       "      <td>0</td>\n",
       "      <td>0</td>\n",
       "      <td>0</td>\n",
       "    </tr>\n",
       "    <tr>\n",
       "      <th>27</th>\n",
       "      <td>28</td>\n",
       "      <td>0</td>\n",
       "      <td>0</td>\n",
       "      <td>0</td>\n",
       "      <td>0</td>\n",
       "      <td>0</td>\n",
       "    </tr>\n",
       "    <tr>\n",
       "      <th>28</th>\n",
       "      <td>29</td>\n",
       "      <td>0</td>\n",
       "      <td>0</td>\n",
       "      <td>0</td>\n",
       "      <td>0</td>\n",
       "      <td>0</td>\n",
       "    </tr>\n",
       "    <tr>\n",
       "      <th>29</th>\n",
       "      <td>30</td>\n",
       "      <td>1</td>\n",
       "      <td>1</td>\n",
       "      <td>1</td>\n",
       "      <td>1</td>\n",
       "      <td>1</td>\n",
       "    </tr>\n",
       "  </tbody>\n",
       "</table>\n",
       "</div>"
      ],
      "text/plain": [
       "    Id  Prediction0  Prediction1  Prediction2  Prediction3  Prediction4\n",
       "0    1            1            1            1            1            1\n",
       "1    2            1            1            1            1            1\n",
       "2    3            0            0            0            1            0\n",
       "3    4            0            0            0            0            0\n",
       "4    5            0            0            0            1            1\n",
       "5    6            0            0            0            0            0\n",
       "6    7            1            1            1            1            1\n",
       "7    8            1            1            1            1            1\n",
       "8    9            1            1            1            1            1\n",
       "9   10            0            0            0            0            0\n",
       "10  11            1            1            1            1            1\n",
       "11  12            0            0            1            1            1\n",
       "12  13            1            1            1            1            0\n",
       "13  14            0            0            0            0            0\n",
       "14  15            0            0            0            0            0\n",
       "15  16            1            1            1            1            1\n",
       "16  17            0            0            0            0            0\n",
       "17  18            0            0            0            0            0\n",
       "18  19            1            1            1            1            1\n",
       "19  20            0            0            0            1            0\n",
       "20  21            0            0            0            0            0\n",
       "21  22            1            1            1            1            1\n",
       "22  23            1            1            1            1            1\n",
       "23  24            1            1            1            0            0\n",
       "24  25            0            0            0            0            0\n",
       "25  26            1            1            1            0            1\n",
       "26  27            0            0            0            0            0\n",
       "27  28            0            0            0            0            0\n",
       "28  29            0            0            0            0            0\n",
       "29  30            1            1            1            1            1"
      ]
     },
     "execution_count": 607,
     "metadata": {},
     "output_type": "execute_result"
    }
   ],
   "source": [
    "# Stack Logistic Regression, Random Forest, LinearSVM, GBM\n",
    "\n",
    "# Majority Stacking\n",
    "\n",
    "import os\n",
    "\n",
    "sub_path = \"submissions/\"\n",
    "all_files = os.listdir(sub_path)\n",
    "\n",
    "# Read and concatenate submissions\n",
    "outs = [pd.read_csv(os.path.join(sub_path, f), index_col=0) for f in all_files]\n",
    "concat_sub = pd.concat(outs, axis=1)\n",
    "cols = list(map(lambda x: \"Prediction\" + str(x), range(len(concat_sub.columns))))\n",
    "concat_sub.columns = cols\n",
    "concat_sub.reset_index(inplace=True)\n",
    "concat_sub.head(n=30)"
   ]
  },
  {
   "cell_type": "code",
   "execution_count": 608,
   "metadata": {},
   "outputs": [
    {
     "data": {
      "text/plain": [
       "array([1, 1, 0, 0, 0, 0, 1, 1, 1, 0, 1, 0, 1, 0, 0])"
      ]
     },
     "execution_count": 608,
     "metadata": {},
     "output_type": "execute_result"
    }
   ],
   "source": [
    "predictDF = np.array(concat_sub.iloc[:, 1:5])\n",
    "predictDF[0:5, ] #.head()\n",
    "majority = np.mean(predictDF, axis=1)\n",
    "majority[0:5]\n",
    "stacked = (majority > 0.5) + 0\n",
    "stacked[0:15]"
   ]
  },
  {
   "cell_type": "code",
   "execution_count": 609,
   "metadata": {},
   "outputs": [
    {
     "name": "stdout",
     "output_type": "stream",
     "text": [
      "   Id  Prediction\n",
      "0   1           1\n",
      "1   2           1\n",
      "2   3           0\n",
      "3   4           0\n",
      "4   5           0\n",
      "5   6           0\n",
      "6   7           1\n",
      "7   8           1\n",
      "8   9           1\n",
      "9  10           0\n"
     ]
    }
   ],
   "source": [
    "# Majority stack\n",
    "\n",
    "submission = pd.DataFrame({'Id': range(1, len(x_test)+1), 'Prediction': [int(x) for x in stacked]})\n",
    "print(submission.head(10))\n",
    "\n",
    "submission.to_csv('submission_majority_stack_svm_logreg_rfo_GBM.csv', index=False, header=True)"
   ]
  },
  {
   "cell_type": "code",
   "execution_count": 610,
   "metadata": {},
   "outputs": [
    {
     "data": {
      "text/html": [
       "<div>\n",
       "<style scoped>\n",
       "    .dataframe tbody tr th:only-of-type {\n",
       "        vertical-align: middle;\n",
       "    }\n",
       "\n",
       "    .dataframe tbody tr th {\n",
       "        vertical-align: top;\n",
       "    }\n",
       "\n",
       "    .dataframe thead th {\n",
       "        text-align: right;\n",
       "    }\n",
       "</style>\n",
       "<table border=\"1\" class=\"dataframe\">\n",
       "  <thead>\n",
       "    <tr style=\"text-align: right;\">\n",
       "      <th></th>\n",
       "      <th>Id</th>\n",
       "      <th>Prediction0</th>\n",
       "      <th>Prediction1</th>\n",
       "      <th>Prediction2</th>\n",
       "      <th>Prediction3</th>\n",
       "      <th>Prediction4</th>\n",
       "    </tr>\n",
       "  </thead>\n",
       "  <tbody>\n",
       "    <tr>\n",
       "      <th>0</th>\n",
       "      <td>1</td>\n",
       "      <td>1</td>\n",
       "      <td>1</td>\n",
       "      <td>1</td>\n",
       "      <td>1</td>\n",
       "      <td>1</td>\n",
       "    </tr>\n",
       "    <tr>\n",
       "      <th>1</th>\n",
       "      <td>2</td>\n",
       "      <td>1</td>\n",
       "      <td>1</td>\n",
       "      <td>1</td>\n",
       "      <td>1</td>\n",
       "      <td>1</td>\n",
       "    </tr>\n",
       "    <tr>\n",
       "      <th>2</th>\n",
       "      <td>3</td>\n",
       "      <td>0</td>\n",
       "      <td>0</td>\n",
       "      <td>0</td>\n",
       "      <td>1</td>\n",
       "      <td>0</td>\n",
       "    </tr>\n",
       "    <tr>\n",
       "      <th>3</th>\n",
       "      <td>4</td>\n",
       "      <td>0</td>\n",
       "      <td>0</td>\n",
       "      <td>0</td>\n",
       "      <td>0</td>\n",
       "      <td>0</td>\n",
       "    </tr>\n",
       "    <tr>\n",
       "      <th>4</th>\n",
       "      <td>5</td>\n",
       "      <td>0</td>\n",
       "      <td>0</td>\n",
       "      <td>0</td>\n",
       "      <td>1</td>\n",
       "      <td>1</td>\n",
       "    </tr>\n",
       "    <tr>\n",
       "      <th>5</th>\n",
       "      <td>6</td>\n",
       "      <td>0</td>\n",
       "      <td>0</td>\n",
       "      <td>0</td>\n",
       "      <td>0</td>\n",
       "      <td>0</td>\n",
       "    </tr>\n",
       "    <tr>\n",
       "      <th>6</th>\n",
       "      <td>7</td>\n",
       "      <td>1</td>\n",
       "      <td>1</td>\n",
       "      <td>1</td>\n",
       "      <td>1</td>\n",
       "      <td>1</td>\n",
       "    </tr>\n",
       "    <tr>\n",
       "      <th>7</th>\n",
       "      <td>8</td>\n",
       "      <td>1</td>\n",
       "      <td>1</td>\n",
       "      <td>1</td>\n",
       "      <td>1</td>\n",
       "      <td>1</td>\n",
       "    </tr>\n",
       "    <tr>\n",
       "      <th>8</th>\n",
       "      <td>9</td>\n",
       "      <td>1</td>\n",
       "      <td>1</td>\n",
       "      <td>1</td>\n",
       "      <td>1</td>\n",
       "      <td>1</td>\n",
       "    </tr>\n",
       "    <tr>\n",
       "      <th>9</th>\n",
       "      <td>10</td>\n",
       "      <td>0</td>\n",
       "      <td>0</td>\n",
       "      <td>0</td>\n",
       "      <td>0</td>\n",
       "      <td>0</td>\n",
       "    </tr>\n",
       "    <tr>\n",
       "      <th>10</th>\n",
       "      <td>11</td>\n",
       "      <td>1</td>\n",
       "      <td>1</td>\n",
       "      <td>1</td>\n",
       "      <td>1</td>\n",
       "      <td>1</td>\n",
       "    </tr>\n",
       "    <tr>\n",
       "      <th>11</th>\n",
       "      <td>12</td>\n",
       "      <td>0</td>\n",
       "      <td>0</td>\n",
       "      <td>1</td>\n",
       "      <td>1</td>\n",
       "      <td>1</td>\n",
       "    </tr>\n",
       "    <tr>\n",
       "      <th>12</th>\n",
       "      <td>13</td>\n",
       "      <td>1</td>\n",
       "      <td>1</td>\n",
       "      <td>1</td>\n",
       "      <td>1</td>\n",
       "      <td>0</td>\n",
       "    </tr>\n",
       "    <tr>\n",
       "      <th>13</th>\n",
       "      <td>14</td>\n",
       "      <td>0</td>\n",
       "      <td>0</td>\n",
       "      <td>0</td>\n",
       "      <td>0</td>\n",
       "      <td>0</td>\n",
       "    </tr>\n",
       "    <tr>\n",
       "      <th>14</th>\n",
       "      <td>15</td>\n",
       "      <td>0</td>\n",
       "      <td>0</td>\n",
       "      <td>0</td>\n",
       "      <td>0</td>\n",
       "      <td>0</td>\n",
       "    </tr>\n",
       "    <tr>\n",
       "      <th>15</th>\n",
       "      <td>16</td>\n",
       "      <td>1</td>\n",
       "      <td>1</td>\n",
       "      <td>1</td>\n",
       "      <td>1</td>\n",
       "      <td>1</td>\n",
       "    </tr>\n",
       "    <tr>\n",
       "      <th>16</th>\n",
       "      <td>17</td>\n",
       "      <td>0</td>\n",
       "      <td>0</td>\n",
       "      <td>0</td>\n",
       "      <td>0</td>\n",
       "      <td>0</td>\n",
       "    </tr>\n",
       "    <tr>\n",
       "      <th>17</th>\n",
       "      <td>18</td>\n",
       "      <td>0</td>\n",
       "      <td>0</td>\n",
       "      <td>0</td>\n",
       "      <td>0</td>\n",
       "      <td>0</td>\n",
       "    </tr>\n",
       "    <tr>\n",
       "      <th>18</th>\n",
       "      <td>19</td>\n",
       "      <td>1</td>\n",
       "      <td>1</td>\n",
       "      <td>1</td>\n",
       "      <td>1</td>\n",
       "      <td>1</td>\n",
       "    </tr>\n",
       "    <tr>\n",
       "      <th>19</th>\n",
       "      <td>20</td>\n",
       "      <td>0</td>\n",
       "      <td>0</td>\n",
       "      <td>0</td>\n",
       "      <td>1</td>\n",
       "      <td>0</td>\n",
       "    </tr>\n",
       "    <tr>\n",
       "      <th>20</th>\n",
       "      <td>21</td>\n",
       "      <td>0</td>\n",
       "      <td>0</td>\n",
       "      <td>0</td>\n",
       "      <td>0</td>\n",
       "      <td>0</td>\n",
       "    </tr>\n",
       "    <tr>\n",
       "      <th>21</th>\n",
       "      <td>22</td>\n",
       "      <td>1</td>\n",
       "      <td>1</td>\n",
       "      <td>1</td>\n",
       "      <td>1</td>\n",
       "      <td>1</td>\n",
       "    </tr>\n",
       "    <tr>\n",
       "      <th>22</th>\n",
       "      <td>23</td>\n",
       "      <td>1</td>\n",
       "      <td>1</td>\n",
       "      <td>1</td>\n",
       "      <td>1</td>\n",
       "      <td>1</td>\n",
       "    </tr>\n",
       "    <tr>\n",
       "      <th>23</th>\n",
       "      <td>24</td>\n",
       "      <td>1</td>\n",
       "      <td>1</td>\n",
       "      <td>1</td>\n",
       "      <td>0</td>\n",
       "      <td>0</td>\n",
       "    </tr>\n",
       "    <tr>\n",
       "      <th>24</th>\n",
       "      <td>25</td>\n",
       "      <td>0</td>\n",
       "      <td>0</td>\n",
       "      <td>0</td>\n",
       "      <td>0</td>\n",
       "      <td>0</td>\n",
       "    </tr>\n",
       "    <tr>\n",
       "      <th>25</th>\n",
       "      <td>26</td>\n",
       "      <td>1</td>\n",
       "      <td>1</td>\n",
       "      <td>1</td>\n",
       "      <td>0</td>\n",
       "      <td>1</td>\n",
       "    </tr>\n",
       "    <tr>\n",
       "      <th>26</th>\n",
       "      <td>27</td>\n",
       "      <td>0</td>\n",
       "      <td>0</td>\n",
       "      <td>0</td>\n",
       "      <td>0</td>\n",
       "      <td>0</td>\n",
       "    </tr>\n",
       "    <tr>\n",
       "      <th>27</th>\n",
       "      <td>28</td>\n",
       "      <td>0</td>\n",
       "      <td>0</td>\n",
       "      <td>0</td>\n",
       "      <td>0</td>\n",
       "      <td>0</td>\n",
       "    </tr>\n",
       "    <tr>\n",
       "      <th>28</th>\n",
       "      <td>29</td>\n",
       "      <td>0</td>\n",
       "      <td>0</td>\n",
       "      <td>0</td>\n",
       "      <td>0</td>\n",
       "      <td>0</td>\n",
       "    </tr>\n",
       "    <tr>\n",
       "      <th>29</th>\n",
       "      <td>30</td>\n",
       "      <td>1</td>\n",
       "      <td>1</td>\n",
       "      <td>1</td>\n",
       "      <td>1</td>\n",
       "      <td>1</td>\n",
       "    </tr>\n",
       "  </tbody>\n",
       "</table>\n",
       "</div>"
      ],
      "text/plain": [
       "    Id  Prediction0  Prediction1  Prediction2  Prediction3  Prediction4\n",
       "0    1            1            1            1            1            1\n",
       "1    2            1            1            1            1            1\n",
       "2    3            0            0            0            1            0\n",
       "3    4            0            0            0            0            0\n",
       "4    5            0            0            0            1            1\n",
       "5    6            0            0            0            0            0\n",
       "6    7            1            1            1            1            1\n",
       "7    8            1            1            1            1            1\n",
       "8    9            1            1            1            1            1\n",
       "9   10            0            0            0            0            0\n",
       "10  11            1            1            1            1            1\n",
       "11  12            0            0            1            1            1\n",
       "12  13            1            1            1            1            0\n",
       "13  14            0            0            0            0            0\n",
       "14  15            0            0            0            0            0\n",
       "15  16            1            1            1            1            1\n",
       "16  17            0            0            0            0            0\n",
       "17  18            0            0            0            0            0\n",
       "18  19            1            1            1            1            1\n",
       "19  20            0            0            0            1            0\n",
       "20  21            0            0            0            0            0\n",
       "21  22            1            1            1            1            1\n",
       "22  23            1            1            1            1            1\n",
       "23  24            1            1            1            0            0\n",
       "24  25            0            0            0            0            0\n",
       "25  26            1            1            1            0            1\n",
       "26  27            0            0            0            0            0\n",
       "27  28            0            0            0            0            0\n",
       "28  29            0            0            0            0            0\n",
       "29  30            1            1            1            1            1"
      ]
     },
     "execution_count": 610,
     "metadata": {},
     "output_type": "execute_result"
    }
   ],
   "source": [
    "# Stack Logistic Regression, Random Forest, LinearSVM, GBM, Multinomial NB\n",
    "\n",
    "# Majority Stacking\n",
    "\n",
    "import os\n",
    "\n",
    "sub_path = \"submissions/\"\n",
    "all_files = os.listdir(sub_path)\n",
    "\n",
    "# Read and concatenate submissions\n",
    "outs = [pd.read_csv(os.path.join(sub_path, f), index_col=0) for f in all_files]\n",
    "concat_sub = pd.concat(outs, axis=1)\n",
    "cols = list(map(lambda x: \"Prediction\" + str(x), range(len(concat_sub.columns))))\n",
    "concat_sub.columns = cols\n",
    "concat_sub.reset_index(inplace=True)\n",
    "concat_sub.head(n=30)"
   ]
  },
  {
   "cell_type": "code",
   "execution_count": 611,
   "metadata": {},
   "outputs": [
    {
     "data": {
      "text/plain": [
       "array([1, 1, 0, 0, 0, 0, 1, 1, 1, 0, 1, 1, 1, 0, 0])"
      ]
     },
     "execution_count": 611,
     "metadata": {},
     "output_type": "execute_result"
    }
   ],
   "source": [
    "predictDF = np.array(concat_sub.iloc[:, 1:6])\n",
    "predictDF[0:5, ] #.head()\n",
    "majority = np.mean(predictDF, axis=1)\n",
    "majority[0:5]\n",
    "stacked = (majority > 0.5) + 0\n",
    "stacked[0:15]"
   ]
  },
  {
   "cell_type": "code",
   "execution_count": 612,
   "metadata": {},
   "outputs": [
    {
     "name": "stdout",
     "output_type": "stream",
     "text": [
      "   Id  Prediction\n",
      "0   1           1\n",
      "1   2           1\n",
      "2   3           0\n",
      "3   4           0\n",
      "4   5           0\n",
      "5   6           0\n",
      "6   7           1\n",
      "7   8           1\n",
      "8   9           1\n",
      "9  10           0\n"
     ]
    }
   ],
   "source": [
    "# Majority stack\n",
    "\n",
    "submission = pd.DataFrame({'Id': range(1, len(x_test)+1), 'Prediction': [int(x) for x in stacked]})\n",
    "print(submission.head(10))\n",
    "\n",
    "submission.to_csv('submission_majority_stack_svm_logreg_rfo_GBM_Mulinomial_Bayes.csv', index=False, header=True)"
   ]
  },
  {
   "cell_type": "code",
   "execution_count": 15,
   "metadata": {},
   "outputs": [
    {
     "data": {
      "text/html": [
       "<div>\n",
       "<style scoped>\n",
       "    .dataframe tbody tr th:only-of-type {\n",
       "        vertical-align: middle;\n",
       "    }\n",
       "\n",
       "    .dataframe tbody tr th {\n",
       "        vertical-align: top;\n",
       "    }\n",
       "\n",
       "    .dataframe thead th {\n",
       "        text-align: right;\n",
       "    }\n",
       "</style>\n",
       "<table border=\"1\" class=\"dataframe\">\n",
       "  <thead>\n",
       "    <tr style=\"text-align: right;\">\n",
       "      <th></th>\n",
       "      <th>Id</th>\n",
       "      <th>Prediction0</th>\n",
       "      <th>Prediction1</th>\n",
       "      <th>Prediction2</th>\n",
       "    </tr>\n",
       "  </thead>\n",
       "  <tbody>\n",
       "    <tr>\n",
       "      <th>0</th>\n",
       "      <td>1</td>\n",
       "      <td>1</td>\n",
       "      <td>1</td>\n",
       "      <td>1</td>\n",
       "    </tr>\n",
       "    <tr>\n",
       "      <th>1</th>\n",
       "      <td>2</td>\n",
       "      <td>1</td>\n",
       "      <td>1</td>\n",
       "      <td>1</td>\n",
       "    </tr>\n",
       "    <tr>\n",
       "      <th>2</th>\n",
       "      <td>3</td>\n",
       "      <td>0</td>\n",
       "      <td>0</td>\n",
       "      <td>0</td>\n",
       "    </tr>\n",
       "    <tr>\n",
       "      <th>3</th>\n",
       "      <td>4</td>\n",
       "      <td>0</td>\n",
       "      <td>0</td>\n",
       "      <td>0</td>\n",
       "    </tr>\n",
       "    <tr>\n",
       "      <th>4</th>\n",
       "      <td>5</td>\n",
       "      <td>0</td>\n",
       "      <td>0</td>\n",
       "      <td>1</td>\n",
       "    </tr>\n",
       "    <tr>\n",
       "      <th>5</th>\n",
       "      <td>6</td>\n",
       "      <td>0</td>\n",
       "      <td>0</td>\n",
       "      <td>0</td>\n",
       "    </tr>\n",
       "    <tr>\n",
       "      <th>6</th>\n",
       "      <td>7</td>\n",
       "      <td>1</td>\n",
       "      <td>1</td>\n",
       "      <td>1</td>\n",
       "    </tr>\n",
       "    <tr>\n",
       "      <th>7</th>\n",
       "      <td>8</td>\n",
       "      <td>1</td>\n",
       "      <td>1</td>\n",
       "      <td>1</td>\n",
       "    </tr>\n",
       "    <tr>\n",
       "      <th>8</th>\n",
       "      <td>9</td>\n",
       "      <td>1</td>\n",
       "      <td>1</td>\n",
       "      <td>1</td>\n",
       "    </tr>\n",
       "    <tr>\n",
       "      <th>9</th>\n",
       "      <td>10</td>\n",
       "      <td>0</td>\n",
       "      <td>0</td>\n",
       "      <td>0</td>\n",
       "    </tr>\n",
       "    <tr>\n",
       "      <th>10</th>\n",
       "      <td>11</td>\n",
       "      <td>1</td>\n",
       "      <td>1</td>\n",
       "      <td>1</td>\n",
       "    </tr>\n",
       "    <tr>\n",
       "      <th>11</th>\n",
       "      <td>12</td>\n",
       "      <td>0</td>\n",
       "      <td>1</td>\n",
       "      <td>1</td>\n",
       "    </tr>\n",
       "    <tr>\n",
       "      <th>12</th>\n",
       "      <td>13</td>\n",
       "      <td>1</td>\n",
       "      <td>1</td>\n",
       "      <td>0</td>\n",
       "    </tr>\n",
       "    <tr>\n",
       "      <th>13</th>\n",
       "      <td>14</td>\n",
       "      <td>0</td>\n",
       "      <td>0</td>\n",
       "      <td>0</td>\n",
       "    </tr>\n",
       "    <tr>\n",
       "      <th>14</th>\n",
       "      <td>15</td>\n",
       "      <td>0</td>\n",
       "      <td>0</td>\n",
       "      <td>0</td>\n",
       "    </tr>\n",
       "    <tr>\n",
       "      <th>15</th>\n",
       "      <td>16</td>\n",
       "      <td>1</td>\n",
       "      <td>1</td>\n",
       "      <td>1</td>\n",
       "    </tr>\n",
       "    <tr>\n",
       "      <th>16</th>\n",
       "      <td>17</td>\n",
       "      <td>0</td>\n",
       "      <td>0</td>\n",
       "      <td>0</td>\n",
       "    </tr>\n",
       "    <tr>\n",
       "      <th>17</th>\n",
       "      <td>18</td>\n",
       "      <td>0</td>\n",
       "      <td>0</td>\n",
       "      <td>0</td>\n",
       "    </tr>\n",
       "    <tr>\n",
       "      <th>18</th>\n",
       "      <td>19</td>\n",
       "      <td>1</td>\n",
       "      <td>1</td>\n",
       "      <td>1</td>\n",
       "    </tr>\n",
       "    <tr>\n",
       "      <th>19</th>\n",
       "      <td>20</td>\n",
       "      <td>0</td>\n",
       "      <td>0</td>\n",
       "      <td>0</td>\n",
       "    </tr>\n",
       "    <tr>\n",
       "      <th>20</th>\n",
       "      <td>21</td>\n",
       "      <td>0</td>\n",
       "      <td>0</td>\n",
       "      <td>0</td>\n",
       "    </tr>\n",
       "    <tr>\n",
       "      <th>21</th>\n",
       "      <td>22</td>\n",
       "      <td>1</td>\n",
       "      <td>1</td>\n",
       "      <td>1</td>\n",
       "    </tr>\n",
       "    <tr>\n",
       "      <th>22</th>\n",
       "      <td>23</td>\n",
       "      <td>1</td>\n",
       "      <td>1</td>\n",
       "      <td>1</td>\n",
       "    </tr>\n",
       "    <tr>\n",
       "      <th>23</th>\n",
       "      <td>24</td>\n",
       "      <td>1</td>\n",
       "      <td>1</td>\n",
       "      <td>0</td>\n",
       "    </tr>\n",
       "    <tr>\n",
       "      <th>24</th>\n",
       "      <td>25</td>\n",
       "      <td>0</td>\n",
       "      <td>0</td>\n",
       "      <td>0</td>\n",
       "    </tr>\n",
       "    <tr>\n",
       "      <th>25</th>\n",
       "      <td>26</td>\n",
       "      <td>1</td>\n",
       "      <td>1</td>\n",
       "      <td>1</td>\n",
       "    </tr>\n",
       "    <tr>\n",
       "      <th>26</th>\n",
       "      <td>27</td>\n",
       "      <td>0</td>\n",
       "      <td>0</td>\n",
       "      <td>0</td>\n",
       "    </tr>\n",
       "    <tr>\n",
       "      <th>27</th>\n",
       "      <td>28</td>\n",
       "      <td>0</td>\n",
       "      <td>0</td>\n",
       "      <td>0</td>\n",
       "    </tr>\n",
       "    <tr>\n",
       "      <th>28</th>\n",
       "      <td>29</td>\n",
       "      <td>0</td>\n",
       "      <td>0</td>\n",
       "      <td>0</td>\n",
       "    </tr>\n",
       "    <tr>\n",
       "      <th>29</th>\n",
       "      <td>30</td>\n",
       "      <td>1</td>\n",
       "      <td>1</td>\n",
       "      <td>1</td>\n",
       "    </tr>\n",
       "  </tbody>\n",
       "</table>\n",
       "</div>"
      ],
      "text/plain": [
       "    Id  Prediction0  Prediction1  Prediction2\n",
       "0    1            1            1            1\n",
       "1    2            1            1            1\n",
       "2    3            0            0            0\n",
       "3    4            0            0            0\n",
       "4    5            0            0            1\n",
       "5    6            0            0            0\n",
       "6    7            1            1            1\n",
       "7    8            1            1            1\n",
       "8    9            1            1            1\n",
       "9   10            0            0            0\n",
       "10  11            1            1            1\n",
       "11  12            0            1            1\n",
       "12  13            1            1            0\n",
       "13  14            0            0            0\n",
       "14  15            0            0            0\n",
       "15  16            1            1            1\n",
       "16  17            0            0            0\n",
       "17  18            0            0            0\n",
       "18  19            1            1            1\n",
       "19  20            0            0            0\n",
       "20  21            0            0            0\n",
       "21  22            1            1            1\n",
       "22  23            1            1            1\n",
       "23  24            1            1            0\n",
       "24  25            0            0            0\n",
       "25  26            1            1            1\n",
       "26  27            0            0            0\n",
       "27  28            0            0            0\n",
       "28  29            0            0            0\n",
       "29  30            1            1            1"
      ]
     },
     "execution_count": 15,
     "metadata": {},
     "output_type": "execute_result"
    }
   ],
   "source": [
    "# Stack Logistic Regression (vocab size), Random Forest, LinearSVM\n",
    "\n",
    "# Majority Stacking\n",
    "\n",
    "import os\n",
    "\n",
    "sub_path = \"submissions/\"\n",
    "all_files = os.listdir(sub_path)\n",
    "\n",
    "# Read and concatenate submissions\n",
    "outs = [pd.read_csv(os.path.join(sub_path, f), index_col=0) for f in all_files]\n",
    "concat_sub = pd.concat(outs, axis=1)\n",
    "cols = list(map(lambda x: \"Prediction\" + str(x), range(len(concat_sub.columns))))\n",
    "concat_sub.columns = cols\n",
    "concat_sub.reset_index(inplace=True)\n",
    "concat_sub.head(n=30)"
   ]
  },
  {
   "cell_type": "code",
   "execution_count": 16,
   "metadata": {},
   "outputs": [
    {
     "data": {
      "text/plain": [
       "array([1, 1, 0, 0, 0, 0, 1, 1, 1, 0, 1, 1, 1, 0, 0])"
      ]
     },
     "execution_count": 16,
     "metadata": {},
     "output_type": "execute_result"
    }
   ],
   "source": [
    "predictDF = np.array(concat_sub.iloc[:, 1:6])\n",
    "predictDF[0:5, ] #.head()\n",
    "majority = np.mean(predictDF, axis=1)\n",
    "majority[0:5]\n",
    "stacked = (majority > 0.5) + 0\n",
    "stacked[0:15]"
   ]
  },
  {
   "cell_type": "code",
   "execution_count": 17,
   "metadata": {},
   "outputs": [
    {
     "name": "stdout",
     "output_type": "stream",
     "text": [
      "   Id  Prediction\n",
      "0   1           1\n",
      "1   2           1\n",
      "2   3           0\n",
      "3   4           0\n",
      "4   5           0\n",
      "5   6           0\n",
      "6   7           1\n",
      "7   8           1\n",
      "8   9           1\n",
      "9  10           0\n"
     ]
    }
   ],
   "source": [
    "# Majority stack\n",
    "\n",
    "submission = pd.DataFrame({'Id': range(1, len(x_test)+1), 'Prediction': [int(x) for x in stacked]})\n",
    "print(submission.head(10))\n",
    "\n",
    "submission.to_csv('submission_majority_stack_svm_logreg_vocab_size_rfo.csv', index=False, header=True)"
   ]
  },
  {
   "cell_type": "code",
   "execution_count": 62,
   "metadata": {},
   "outputs": [
    {
     "data": {
      "text/html": [
       "<div>\n",
       "<style scoped>\n",
       "    .dataframe tbody tr th:only-of-type {\n",
       "        vertical-align: middle;\n",
       "    }\n",
       "\n",
       "    .dataframe tbody tr th {\n",
       "        vertical-align: top;\n",
       "    }\n",
       "\n",
       "    .dataframe thead th {\n",
       "        text-align: right;\n",
       "    }\n",
       "</style>\n",
       "<table border=\"1\" class=\"dataframe\">\n",
       "  <thead>\n",
       "    <tr style=\"text-align: right;\">\n",
       "      <th></th>\n",
       "      <th>Id</th>\n",
       "      <th>Prediction0</th>\n",
       "      <th>Prediction1</th>\n",
       "      <th>Prediction2</th>\n",
       "      <th>Prediction3</th>\n",
       "      <th>Prediction4</th>\n",
       "    </tr>\n",
       "  </thead>\n",
       "  <tbody>\n",
       "    <tr>\n",
       "      <th>0</th>\n",
       "      <td>1</td>\n",
       "      <td>1</td>\n",
       "      <td>1</td>\n",
       "      <td>1</td>\n",
       "      <td>1</td>\n",
       "      <td>1</td>\n",
       "    </tr>\n",
       "    <tr>\n",
       "      <th>1</th>\n",
       "      <td>2</td>\n",
       "      <td>1</td>\n",
       "      <td>1</td>\n",
       "      <td>1</td>\n",
       "      <td>1</td>\n",
       "      <td>1</td>\n",
       "    </tr>\n",
       "    <tr>\n",
       "      <th>2</th>\n",
       "      <td>3</td>\n",
       "      <td>0</td>\n",
       "      <td>0</td>\n",
       "      <td>0</td>\n",
       "      <td>0</td>\n",
       "      <td>0</td>\n",
       "    </tr>\n",
       "    <tr>\n",
       "      <th>3</th>\n",
       "      <td>4</td>\n",
       "      <td>0</td>\n",
       "      <td>0</td>\n",
       "      <td>0</td>\n",
       "      <td>0</td>\n",
       "      <td>0</td>\n",
       "    </tr>\n",
       "    <tr>\n",
       "      <th>4</th>\n",
       "      <td>5</td>\n",
       "      <td>0</td>\n",
       "      <td>0</td>\n",
       "      <td>0</td>\n",
       "      <td>0</td>\n",
       "      <td>1</td>\n",
       "    </tr>\n",
       "    <tr>\n",
       "      <th>5</th>\n",
       "      <td>6</td>\n",
       "      <td>0</td>\n",
       "      <td>0</td>\n",
       "      <td>0</td>\n",
       "      <td>0</td>\n",
       "      <td>0</td>\n",
       "    </tr>\n",
       "    <tr>\n",
       "      <th>6</th>\n",
       "      <td>7</td>\n",
       "      <td>1</td>\n",
       "      <td>1</td>\n",
       "      <td>1</td>\n",
       "      <td>1</td>\n",
       "      <td>1</td>\n",
       "    </tr>\n",
       "    <tr>\n",
       "      <th>7</th>\n",
       "      <td>8</td>\n",
       "      <td>1</td>\n",
       "      <td>1</td>\n",
       "      <td>1</td>\n",
       "      <td>1</td>\n",
       "      <td>1</td>\n",
       "    </tr>\n",
       "    <tr>\n",
       "      <th>8</th>\n",
       "      <td>9</td>\n",
       "      <td>1</td>\n",
       "      <td>1</td>\n",
       "      <td>1</td>\n",
       "      <td>1</td>\n",
       "      <td>1</td>\n",
       "    </tr>\n",
       "    <tr>\n",
       "      <th>9</th>\n",
       "      <td>10</td>\n",
       "      <td>0</td>\n",
       "      <td>0</td>\n",
       "      <td>0</td>\n",
       "      <td>0</td>\n",
       "      <td>0</td>\n",
       "    </tr>\n",
       "  </tbody>\n",
       "</table>\n",
       "</div>"
      ],
      "text/plain": [
       "   Id  Prediction0  Prediction1  Prediction2  Prediction3  Prediction4\n",
       "0   1            1            1            1            1            1\n",
       "1   2            1            1            1            1            1\n",
       "2   3            0            0            0            0            0\n",
       "3   4            0            0            0            0            0\n",
       "4   5            0            0            0            0            1\n",
       "5   6            0            0            0            0            0\n",
       "6   7            1            1            1            1            1\n",
       "7   8            1            1            1            1            1\n",
       "8   9            1            1            1            1            1\n",
       "9  10            0            0            0            0            0"
      ]
     },
     "execution_count": 62,
     "metadata": {},
     "output_type": "execute_result"
    }
   ],
   "source": [
    "# Stack Logistic Regression, Random Forest, LinearSVM times 2, NN\n",
    "\n",
    "# Majority Stacking\n",
    "\n",
    "import os\n",
    "\n",
    "sub_path = \"submissions/\"\n",
    "all_files = os.listdir(sub_path)\n",
    "\n",
    "# Read and concatenate submissions\n",
    "outs = [pd.read_csv(os.path.join(sub_path, f), index_col=0) for f in all_files]\n",
    "concat_sub = pd.concat(outs, axis=1)\n",
    "cols = list(map(lambda x: \"Prediction\" + str(x), range(len(concat_sub.columns))))\n",
    "concat_sub.columns = cols\n",
    "concat_sub.reset_index(inplace=True)\n",
    "concat_sub.head(n=10)"
   ]
  },
  {
   "cell_type": "code",
   "execution_count": 57,
   "metadata": {},
   "outputs": [
    {
     "data": {
      "text/html": [
       "<div>\n",
       "<style scoped>\n",
       "    .dataframe tbody tr th:only-of-type {\n",
       "        vertical-align: middle;\n",
       "    }\n",
       "\n",
       "    .dataframe tbody tr th {\n",
       "        vertical-align: top;\n",
       "    }\n",
       "\n",
       "    .dataframe thead th {\n",
       "        text-align: right;\n",
       "    }\n",
       "</style>\n",
       "<table border=\"1\" class=\"dataframe\">\n",
       "  <thead>\n",
       "    <tr style=\"text-align: right;\">\n",
       "      <th></th>\n",
       "      <th>Id</th>\n",
       "      <th>Prediction0</th>\n",
       "      <th>Prediction1</th>\n",
       "      <th>Prediction2</th>\n",
       "      <th>Prediction3</th>\n",
       "      <th>Prediction4</th>\n",
       "    </tr>\n",
       "  </thead>\n",
       "  <tbody>\n",
       "    <tr>\n",
       "      <th>Id</th>\n",
       "      <td>1.000000</td>\n",
       "      <td>0.005802</td>\n",
       "      <td>0.006020</td>\n",
       "      <td>0.000389</td>\n",
       "      <td>0.005802</td>\n",
       "      <td>0.017638</td>\n",
       "    </tr>\n",
       "    <tr>\n",
       "      <th>Prediction0</th>\n",
       "      <td>0.005802</td>\n",
       "      <td>1.000000</td>\n",
       "      <td>0.905069</td>\n",
       "      <td>0.906198</td>\n",
       "      <td>1.000000</td>\n",
       "      <td>0.786237</td>\n",
       "    </tr>\n",
       "    <tr>\n",
       "      <th>Prediction1</th>\n",
       "      <td>0.006020</td>\n",
       "      <td>0.905069</td>\n",
       "      <td>1.000000</td>\n",
       "      <td>0.887909</td>\n",
       "      <td>0.905069</td>\n",
       "      <td>0.768188</td>\n",
       "    </tr>\n",
       "    <tr>\n",
       "      <th>Prediction2</th>\n",
       "      <td>0.000389</td>\n",
       "      <td>0.906198</td>\n",
       "      <td>0.887909</td>\n",
       "      <td>1.000000</td>\n",
       "      <td>0.906198</td>\n",
       "      <td>0.762519</td>\n",
       "    </tr>\n",
       "    <tr>\n",
       "      <th>Prediction3</th>\n",
       "      <td>0.005802</td>\n",
       "      <td>1.000000</td>\n",
       "      <td>0.905069</td>\n",
       "      <td>0.906198</td>\n",
       "      <td>1.000000</td>\n",
       "      <td>0.786237</td>\n",
       "    </tr>\n",
       "    <tr>\n",
       "      <th>Prediction4</th>\n",
       "      <td>0.017638</td>\n",
       "      <td>0.786237</td>\n",
       "      <td>0.768188</td>\n",
       "      <td>0.762519</td>\n",
       "      <td>0.786237</td>\n",
       "      <td>1.000000</td>\n",
       "    </tr>\n",
       "  </tbody>\n",
       "</table>\n",
       "</div>"
      ],
      "text/plain": [
       "                   Id  Prediction0  Prediction1  Prediction2  Prediction3  \\\n",
       "Id           1.000000     0.005802     0.006020     0.000389     0.005802   \n",
       "Prediction0  0.005802     1.000000     0.905069     0.906198     1.000000   \n",
       "Prediction1  0.006020     0.905069     1.000000     0.887909     0.905069   \n",
       "Prediction2  0.000389     0.906198     0.887909     1.000000     0.906198   \n",
       "Prediction3  0.005802     1.000000     0.905069     0.906198     1.000000   \n",
       "Prediction4  0.017638     0.786237     0.768188     0.762519     0.786237   \n",
       "\n",
       "             Prediction4  \n",
       "Id              0.017638  \n",
       "Prediction0     0.786237  \n",
       "Prediction1     0.768188  \n",
       "Prediction2     0.762519  \n",
       "Prediction3     0.786237  \n",
       "Prediction4     1.000000  "
      ]
     },
     "execution_count": 57,
     "metadata": {},
     "output_type": "execute_result"
    }
   ],
   "source": [
    "# check correlation\n",
    "\n",
    "concat_sub.corr()"
   ]
  },
  {
   "cell_type": "code",
   "execution_count": 63,
   "metadata": {},
   "outputs": [
    {
     "data": {
      "text/plain": [
       "array([1, 1, 0, 0, 0, 0, 1, 1, 1, 0, 1, 1, 1, 0, 0])"
      ]
     },
     "execution_count": 63,
     "metadata": {},
     "output_type": "execute_result"
    }
   ],
   "source": [
    "predictDF = np.array(concat_sub.iloc[:, 1:7])\n",
    "predictDF[0:5, ] #.head()\n",
    "majority = np.mean(predictDF, axis=1)\n",
    "majority[0:5]\n",
    "stacked = (majority > 0.5) + 0\n",
    "stacked[0:15]"
   ]
  },
  {
   "cell_type": "code",
   "execution_count": 65,
   "metadata": {},
   "outputs": [
    {
     "name": "stdout",
     "output_type": "stream",
     "text": [
      "   Id  Prediction\n",
      "0   1           1\n",
      "1   2           1\n",
      "2   3           0\n",
      "3   4           0\n",
      "4   5           0\n",
      "5   6           0\n",
      "6   7           1\n",
      "7   8           1\n",
      "8   9           1\n",
      "9  10           0\n"
     ]
    }
   ],
   "source": [
    "# Majority stack\n",
    "\n",
    "submission = pd.DataFrame({'Id': range(1, len(x_test)+1), 'Prediction': [int(x) for x in stacked]})\n",
    "print(submission.head(10))\n",
    "\n",
    "submission.to_csv('submission_majority_stack_2svm__logreg_rfo_NN.csv', index=False, header=True)"
   ]
  },
  {
   "cell_type": "code",
   "execution_count": null,
   "metadata": {
    "collapsed": true
   },
   "outputs": [],
   "source": [
    "# Stacking Analysis"
   ]
  },
  {
   "cell_type": "code",
   "execution_count": null,
   "metadata": {
    "collapsed": true
   },
   "outputs": [],
   "source": [
    "# Normalize data\n",
    "x_train_s, x_val, y_train_s, y_val = train_test_split(x_train_top, y_train, test_size=0.2, random_state=42)\n",
    "x_train_s_norm = preprocessing.normalize(x_train_s, norm='l2')\n",
    "x_val_norm = preprocessing.normalize(x_val, norm='l2')"
   ]
  },
  {
   "cell_type": "code",
   "execution_count": 73,
   "metadata": {},
   "outputs": [
    {
     "name": "stdout",
     "output_type": "stream",
     "text": [
      "   Id  Prediction\n",
      "0   1           0\n",
      "1   2           0\n",
      "2   3           0\n",
      "3   4           1\n",
      "4   5           1\n",
      "5   6           1\n",
      "6   7           1\n",
      "7   8           0\n",
      "8   9           0\n",
      "9  10           1\n"
     ]
    }
   ],
   "source": [
    "# Best Logistic Regression Model\n",
    "\n",
    "from sklearn.linear_model import LogisticRegression\n",
    "\n",
    "# Normalize data\n",
    "x_train_norm = preprocessing.normalize(x_train, norm='l2')\n",
    "x_test_norm = preprocessing.normalize(x_test, norm='l2')\n",
    "\n",
    "model1 = LogisticRegression(penalty='l1', C=3.90625)\n",
    "model1.fit(x_train_s_norm, y_train_s)\n",
    "\n",
    "y_pred = model1.predict(x_val_norm)\n",
    "\n",
    "submission = pd.DataFrame({'Id': range(1, len(x_val_norm)+1), 'Prediction': [int(x) for x in y_pred]})\n",
    "print(submission.head(10))\n",
    "\n",
    "submission.to_csv('submissions_CV/stack1/submission_logistic_regression_CV.csv', index=False, header=True)"
   ]
  },
  {
   "cell_type": "code",
   "execution_count": 75,
   "metadata": {},
   "outputs": [
    {
     "name": "stdout",
     "output_type": "stream",
     "text": [
      "   Id  Prediction\n",
      "0   1           0\n",
      "1   2           0\n",
      "2   3           0\n",
      "3   4           1\n",
      "4   5           1\n",
      "5   6           0\n",
      "6   7           1\n",
      "7   8           0\n",
      "8   9           0\n",
      "9  10           1\n"
     ]
    }
   ],
   "source": [
    "# Best Random Forest\n",
    "\n",
    "from sklearn.ensemble import RandomForestClassifier\n",
    "\n",
    "# Normalize data\n",
    "\n",
    "x_train_norm = preprocessing.normalize(x_train, norm='l2')\n",
    "x_test_norm = preprocessing.normalize(x_test, norm='l2')\n",
    "\n",
    "model2 = RandomForestClassifier(n_estimators=1000)\n",
    "model2.fit(x_train_s_norm, y_train_s)\n",
    "\n",
    "y_pred = model2.predict(x_val_norm)\n",
    "\n",
    "submission = pd.DataFrame({'Id': range(1, len(x_val_norm)+1), 'Prediction': [int(x) for x in y_pred]})\n",
    "print(submission.head(10))\n",
    "\n",
    "submission.to_csv('submissions_CV/stack1/submission_optimal_rfo_CV.csv', index=False, header=True)"
   ]
  },
  {
   "cell_type": "code",
   "execution_count": 76,
   "metadata": {},
   "outputs": [
    {
     "name": "stdout",
     "output_type": "stream",
     "text": [
      "   Id  Prediction\n",
      "0   1           0\n",
      "1   2           0\n",
      "2   3           0\n",
      "3   4           1\n",
      "4   5           1\n",
      "5   6           1\n",
      "6   7           1\n",
      "7   8           0\n",
      "8   9           0\n",
      "9  10           1\n"
     ]
    }
   ],
   "source": [
    "# Best SVC\n",
    "\n",
    "from sklearn import svm\n",
    "\n",
    "model3 = svm.SVC(C=1, kernel='linear')\n",
    "model3.fit(x_train_s_norm, y_train_s)\n",
    "\n",
    "y_pred = model3.predict(x_val_norm)\n",
    "\n",
    "submission = pd.DataFrame({'Id': range(1, len(x_val_norm)+1), 'Prediction': [int(x) for x in y_pred]})\n",
    "print(submission.head(10))\n",
    "\n",
    "submission.to_csv('submissions_CV/stack1/submission_optimal_SVC_CV.csv', index=False, header=True)"
   ]
  },
  {
   "cell_type": "code",
   "execution_count": 70,
   "metadata": {},
   "outputs": [
    {
     "name": "stdout",
     "output_type": "stream",
     "text": [
      "Epoch 1/5\n",
      "16000/16000 [==============================] - 5s 296us/step - loss: 0.7040 - acc: 0.5305\n",
      "Epoch 2/5\n",
      "16000/16000 [==============================] - 4s 248us/step - loss: 0.6531 - acc: 0.6123\n",
      "Epoch 3/5\n",
      "16000/16000 [==============================] - 4s 259us/step - loss: 0.5728 - acc: 0.6996\n",
      "Epoch 4/5\n",
      "16000/16000 [==============================] - 4s 237us/step - loss: 0.5129 - acc: 0.7445\n",
      "Epoch 5/5\n",
      "16000/16000 [==============================] - 4s 240us/step - loss: 0.4726 - acc: 0.7751\n",
      "   Id  Prediction\n",
      "0   1           0\n",
      "1   2           0\n",
      "2   3           0\n",
      "3   4           1\n",
      "4   5           1\n",
      "5   6           1\n",
      "6   7           1\n",
      "7   8           1\n",
      "8   9           0\n",
      "9  10           1\n"
     ]
    }
   ],
   "source": [
    "# Best NN\n",
    "\n",
    "from keras.models import Sequential\n",
    "from keras.layers import Dense, Dropout\n",
    "\n",
    "model4 = Sequential()\n",
    "model4.add(Dense(120, input_shape=(1000,)))\n",
    "model4.add(Activation('sigmoid'))\n",
    "model4.add(Dropout(0.7))\n",
    "model4.add(Dense(20))\n",
    "model4.add(Activation('sigmoid'))\n",
    "\n",
    "model4.add(Dense(2))\n",
    "model4.add(Activation('softmax'))\n",
    "    \n",
    "model4.compile(optimizer='adam',\n",
    "              loss='binary_crossentropy',\n",
    "              metrics=['accuracy'])\n",
    "    \n",
    "model4.fit(x_train_s_norm, y_train_s_hot, epochs=5, batch_size=32, verbose=1)\n",
    "\n",
    "y_pred = model4.predict_classes(x_val_norm)\n",
    "\n",
    "submission = pd.DataFrame({'Id': range(1, len(x_val_norm)+1), 'Prediction': [int(x) for x in y_pred]})\n",
    "print(submission.head(10))\n",
    "\n",
    "submission.to_csv('submissions_CV/stack1/submission_optimal_Dense_NN_CV.csv', index=False, header=True)"
   ]
  },
  {
   "cell_type": "code",
   "execution_count": 95,
   "metadata": {},
   "outputs": [],
   "source": [
    "# Best Naive Bayes\n",
    "\n",
    "from sklearn.naive_bayes import MultinomialNB\n",
    "# from sklearn.feature_extraction.text import TfidfTransformer\n",
    "from sklearn.model_selection import cross_val_score\n",
    "\n",
    "label_weights = pd.read_csv(\"./Logistic_L1_weights_229.txt\", delimiter=\"\\t\")\n",
    "\n",
    "def NBayesCrossVal(whichweights, X_orig, Y_orig, laplace=1, kfold=5, modeltype='multinomial'):\n",
    "    \n",
    "    N, D = X_orig.shape\n",
    "    nhypers = whichweights.shape[0] # nhypers X nweights\n",
    "    models = []\n",
    "    val_scores = []\n",
    "\n",
    "    for hyper in range(nhypers): \n",
    "        theseweights = whichweights[hyper, :]\n",
    "        X = X_orig[:, theseweights.astype('bool')]\n",
    "        if modeltype == 'bernoulli':\n",
    "            model = BernoulliNB(alpha=1.0, fit_prior=True)\n",
    "        elif modeltype == 'multinomial':\n",
    "            model = MultinomialNB(alpha=1.0, fit_prior=True)\n",
    "        scores = cross_val_score(model, X, Y_orig, cv=kfold)\n",
    "        models.append(model)\n",
    "        val_scores.append(scores)\n",
    "        \n",
    "    val_scores = np.array(val_scores)\n",
    "    mean_val_scores = np.mean(val_scores, axis=1)\n",
    "    hyper_best_i = np.argmax(mean_val_scores)\n",
    "    print(hyper_best_i, mean_val_scores[hyper_best_i]) #c_best,\n",
    "    \n",
    "    return val_scores, mean_val_scores, hyper_best_i, models\n",
    "\n",
    "nhypers = 20\n",
    "Qs = np.linspace(60, 65, nhypers) # 0.1% of 1000 is 1\n",
    "whichweights = np.zeros((nhypers, x_train_s.shape[1]))\n",
    "abs_weights = np.absolute(label_weights.weights)\n",
    "for i, Q in enumerate(Qs):\n",
    "    cutoff = np.percentile(a=abs_weights, q=Q)\n",
    "    whichweights[i, :] = np.greater_equal(abs_weights, cutoff)\n",
    "\n",
    "percentiles = [np.percentile(a=np.absolute(label_weights.weights), q=Q) for Q in Qs]"
   ]
  },
  {
   "cell_type": "code",
   "execution_count": 96,
   "metadata": {},
   "outputs": [
    {
     "name": "stdout",
     "output_type": "stream",
     "text": [
      "19 0.851623998028\n"
     ]
    }
   ],
   "source": [
    "val_scores, mean_val_scores, hyper_best_i, models = NBayesCrossVal(whichweights, x_train_s, y_train_s, 1, 5, 'multinomial')"
   ]
  },
  {
   "cell_type": "code",
   "execution_count": 99,
   "metadata": {},
   "outputs": [
    {
     "name": "stdout",
     "output_type": "stream",
     "text": [
      "0.202192206491\n",
      "65.0\n"
     ]
    },
    {
     "data": {
      "image/png": "[encoded data removed]",
      "text/plain": [
       "<matplotlib.figure.Figure at 0x129e3be80>"
      ]
     },
     "metadata": {},
     "output_type": "display_data"
    }
   ],
   "source": [
    "print(percentiles[hyper_best_i])\n",
    "print(Qs[hyper_best_i])\n",
    "plt.plot(Qs, mean_val_scores)\n",
    "plt.show()\n",
    "bestweights = whichweights[hyper_best_i, :] #models[33] # No, all the models are the same!\n",
    "bestmodel = models[0] # All the models are the same!\n",
    "bestmatrix = x_train_s[:, bestweights.astype('bool')]\n",
    "bestmodel.fit(bestmatrix, y_train_s)\n"
   ]
  },
  {
   "cell_type": "code",
   "execution_count": 100,
   "metadata": {},
   "outputs": [
    {
     "name": "stdout",
     "output_type": "stream",
     "text": [
      "   Id  Prediction\n",
      "0   1           0\n",
      "1   2           0\n",
      "2   3           0\n",
      "3   4           1\n",
      "4   5           1\n",
      "5   6           1\n",
      "6   7           1\n",
      "7   8           0\n",
      "8   9           0\n",
      "9  10           1\n"
     ]
    }
   ],
   "source": [
    "y_pred = bestmodel.predict(x_val[:, bestweights.astype('bool')])\n",
    "\n",
    "submission = pd.DataFrame({'Id': range(1, len(x_val_norm)+1), 'Prediction': [int(x) for x in y_pred]})\n",
    "print(submission.head(10))\n",
    "\n",
    "submission.to_csv('submissions_CV/stack1/submission_optimal_Naive_Bayes_Eric_CV.csv', index=False, header=True)"
   ]
  },
  {
   "cell_type": "code",
   "execution_count": 158,
   "metadata": {},
   "outputs": [],
   "source": [
    "# Dylan Logistic Regression\n",
    "\n",
    "# Copied from his ...reg_optimal.py\n",
    "import numpy as np\n",
    "from sklearn.linear_model import LogisticRegression\n",
    "from sklearn.model_selection import StratifiedKFold\n",
    "from sklearn.feature_extraction.text import TfidfTransformer\n",
    "\n",
    "# Import training data\n",
    "original_training_data = np.loadtxt(\"training_data.txt\", skiprows=1)\n",
    "# Import test data\n",
    "original_test_data = np.loadtxt(\"test_data.txt\", skiprows=1)\n",
    "# Produce joint tf-idf-generating dataset\n",
    "pre_tf_idf = np.append(original_training_data[:,1:], original_test_data, axis=0)\n",
    "\n",
    "# Compute tf-idf\n",
    "tfidf_trans = TfidfTransformer()\n",
    "full_tf_idf = tfidf_trans.fit_transform(pre_tf_idf)\n",
    "full_tf_idf = full_tf_idf.toarray()\n",
    "\n",
    "# Reconstitute training data\n",
    "train_labels = original_training_data[:,0]\n",
    "train_labels = train_labels.reshape(20000,1)\n",
    "training_tf_idf = np.append(train_labels, full_tf_idf[0:20000,:], axis=1)\n",
    "\n",
    "# Reconstitute test data\n",
    "test_tf_idf = full_tf_idf[20000:, :]\n",
    "\n",
    "# Train model on tf-idf training data\n",
    "training_x = training_tf_idf[:,1:]\n",
    "training_y = training_tf_idf[:,0]\n",
    "\n",
    "# END copy\n",
    "# Now rename variables to match the rest of this notebook\n",
    "\n",
    "x_train_s_tfifd, x_val_tfifd, y_train_s_tfifd, y_val_tfifd = train_test_split(training_x, training_y, test_size=0.2, random_state=42)"
   ]
  },
  {
   "cell_type": "code",
   "execution_count": 159,
   "metadata": {},
   "outputs": [
    {
     "data": {
      "text/plain": [
       "LogisticRegression(C=0.9483, class_weight=None, dual=False,\n",
       "          fit_intercept=True, intercept_scaling=1, max_iter=100,\n",
       "          multi_class='ovr', n_jobs=1, penalty='l2', random_state=None,\n",
       "          solver='liblinear', tol=0.0001, verbose=0, warm_start=False)"
      ]
     },
     "execution_count": 159,
     "metadata": {},
     "output_type": "execute_result"
    }
   ],
   "source": [
    "model = LogisticRegression(penalty='l2', C = 0.9483) #0.975\n",
    "model.fit(x_train_s_tfifd, y_train_s_tfifd)"
   ]
  },
  {
   "cell_type": "code",
   "execution_count": 160,
   "metadata": {},
   "outputs": [
    {
     "name": "stdout",
     "output_type": "stream",
     "text": [
      "   Id  Prediction\n",
      "0   1           0\n",
      "1   2           0\n",
      "2   3           0\n",
      "3   4           1\n",
      "4   5           1\n",
      "5   6           1\n",
      "6   7           1\n",
      "7   8           0\n",
      "8   9           0\n",
      "9  10           1\n"
     ]
    }
   ],
   "source": [
    "y_pred = model.predict(x_val_tfifd)\n",
    "\n",
    "submission = pd.DataFrame({'Id': range(1, len(x_val_norm)+1), 'Prediction': [int(x) for x in y_pred]})\n",
    "print(submission.head(10))\n",
    "\n",
    "submission.to_csv('submissions_CV/stack1/submission_optimal_Dylan_TFIFDall_0.9483_CV.csv', index=False, header=True)"
   ]
  },
  {
   "cell_type": "code",
   "execution_count": 67,
   "metadata": {
    "collapsed": true
   },
   "outputs": [],
   "source": [
    "from sklearn.metrics import accuracy_score"
   ]
  },
  {
   "cell_type": "code",
   "execution_count": 79,
   "metadata": {},
   "outputs": [
    {
     "data": {
      "text/plain": [
       "array([0, 0, 0, ..., 1, 1, 1])"
      ]
     },
     "execution_count": 79,
     "metadata": {},
     "output_type": "execute_result"
    }
   ],
   "source": [
    "# Stacking Prediction: Logistic Regression, Random Forest, SVM*2, NN\n",
    "\n",
    "import os\n",
    "\n",
    "sub_path = \"submissions_CV/stack1/\"\n",
    "all_files = os.listdir(sub_path)\n",
    "\n",
    "# Read and concatenate submissions\n",
    "outs = [pd.read_csv(os.path.join(sub_path, f), index_col=0) for f in all_files]\n",
    "concat_sub = pd.concat(outs, axis=1)\n",
    "cols = list(map(lambda x: \"Prediction\" + str(x), range(len(concat_sub.columns))))\n",
    "concat_sub.columns = cols\n",
    "concat_sub.reset_index(inplace=True)\n",
    "\n",
    "predictDF = np.array(concat_sub.iloc[:, 1:7])\n",
    "majority = np.mean(predictDF, axis=1)\n",
    "stacked = (majority > 0.5) + 0\n",
    "\n",
    "y_pred = stacked\n",
    "y_pred"
   ]
  },
  {
   "cell_type": "code",
   "execution_count": 80,
   "metadata": {},
   "outputs": [
    {
     "data": {
      "text/plain": [
       "0.85150000000000003"
      ]
     },
     "execution_count": 80,
     "metadata": {},
     "output_type": "execute_result"
    }
   ],
   "source": [
    "accuracy_score(y_val, y_pred)"
   ]
  },
  {
   "cell_type": "code",
   "execution_count": 81,
   "metadata": {},
   "outputs": [
    {
     "data": {
      "text/plain": [
       "array([0, 0, 0, ..., 1, 1, 1])"
      ]
     },
     "execution_count": 81,
     "metadata": {},
     "output_type": "execute_result"
    }
   ],
   "source": [
    "# Stacking Prediction: Logistic Regression, Random Forest, SVM\n",
    "\n",
    "import os\n",
    "\n",
    "sub_path = \"submissions_CV/stack2/\"\n",
    "all_files = os.listdir(sub_path)\n",
    "\n",
    "# Read and concatenate submissions\n",
    "outs = [pd.read_csv(os.path.join(sub_path, f), index_col=0) for f in all_files]\n",
    "concat_sub = pd.concat(outs, axis=1)\n",
    "cols = list(map(lambda x: \"Prediction\" + str(x), range(len(concat_sub.columns))))\n",
    "concat_sub.columns = cols\n",
    "concat_sub.reset_index(inplace=True)\n",
    "\n",
    "predictDF = np.array(concat_sub.iloc[:, 1:7])\n",
    "majority = np.mean(predictDF, axis=1)\n",
    "stacked = (majority > 0.5) + 0\n",
    "\n",
    "y_pred = stacked\n",
    "y_pred"
   ]
  },
  {
   "cell_type": "code",
   "execution_count": 82,
   "metadata": {},
   "outputs": [
    {
     "data": {
      "text/plain": [
       "0.85375000000000001"
      ]
     },
     "execution_count": 82,
     "metadata": {},
     "output_type": "execute_result"
    }
   ],
   "source": [
    "accuracy_score(y_val, y_pred)"
   ]
  },
  {
   "cell_type": "code",
   "execution_count": 83,
   "metadata": {},
   "outputs": [
    {
     "data": {
      "text/plain": [
       "array([0, 0, 0, ..., 1, 1, 1])"
      ]
     },
     "execution_count": 83,
     "metadata": {},
     "output_type": "execute_result"
    }
   ],
   "source": [
    "# Stacking Prediction: Logistic Regression, SVM, NN\n",
    "\n",
    "import os\n",
    "\n",
    "sub_path = \"submissions_CV/stack3/\"\n",
    "all_files = os.listdir(sub_path)\n",
    "\n",
    "# Read and concatenate submissions\n",
    "outs = [pd.read_csv(os.path.join(sub_path, f), index_col=0) for f in all_files]\n",
    "concat_sub = pd.concat(outs, axis=1)\n",
    "cols = list(map(lambda x: \"Prediction\" + str(x), range(len(concat_sub.columns))))\n",
    "concat_sub.columns = cols\n",
    "concat_sub.reset_index(inplace=True)\n",
    "\n",
    "predictDF = np.array(concat_sub.iloc[:, 1:7])\n",
    "majority = np.mean(predictDF, axis=1)\n",
    "stacked = (majority > 0.5) + 0\n",
    "\n",
    "y_pred = stacked\n",
    "y_pred"
   ]
  },
  {
   "cell_type": "code",
   "execution_count": 85,
   "metadata": {},
   "outputs": [
    {
     "data": {
      "text/plain": [
       "0.85099999999999998"
      ]
     },
     "execution_count": 85,
     "metadata": {},
     "output_type": "execute_result"
    }
   ],
   "source": [
    "accuracy_score(y_val, y_pred)"
   ]
  },
  {
   "cell_type": "code",
   "execution_count": null,
   "metadata": {},
   "outputs": [],
   "source": [
    "# Stacking Prediction: Logistic Regression (Dylan), Random Forest, SVM, Naive Bayes (Eric)*2\n",
    "\n",
    "import os\n",
    "\n",
    "sub_path = \"submissions_CV/stack4/\"\n",
    "all_files = os.listdir(sub_path)\n",
    "all_files = sorted(all_files)\n",
    "print(all_files)\n",
    "\n",
    "# Read and concatenate submissions\n",
    "outs = [pd.read_csv(os.path.join(sub_path, f), index_col=0) for f in all_files]\n",
    "concat_sub = pd.concat(outs, axis=1)\n",
    "cols = list(map(lambda x: \"Prediction\" + str(x), range(len(concat_sub.columns))))\n",
    "concat_sub.columns = cols\n",
    "concat_sub.reset_index(inplace=True)\n",
    "\n",
    "predictDF = np.array(concat_sub.iloc[:, 1:7])\n",
    "# majority = np.mean(predictDF, axis=1)\n",
    "\n",
    "bestacc = [0.854, 0.853, 0.851, 0.833]\n",
    "bestaccsum = sum(bestacc)\n",
    "\n",
    "def weightedMajority(predictdf):\n",
    "    majority = []\n",
    "    for row in range(len(y_val)):\n",
    "        wmean = (bestacc[0]*predictdf[row, 0] + bestacc[1]*predictdf[row, 1] + bestacc[2]*predictdf[row, 2] + bestacc[3]*predictdf[row, 3]) / (bestaccsum)\n",
    "        majority.append(wmean)\n",
    "        if row % 10 == 0:\n",
    "            print(str(row))\n",
    "    majority = np.array(majority)\n",
    "    return majority\n",
    "\n",
    "majority = weightedMajority(predictDF)\n",
    "\n",
    "if False:\n",
    "    stacked = majority > 0.5\n",
    "    y_pred = stacked\n",
    "    y_pred"
   ]
  },
  {
   "cell_type": "code",
   "execution_count": 172,
   "metadata": {},
   "outputs": [
    {
     "data": {
      "text/plain": [
       "1"
      ]
     },
     "execution_count": 172,
     "metadata": {},
     "output_type": "execute_result"
    }
   ],
   "source": [
    "predictDF[6, 3]"
   ]
  },
  {
   "cell_type": "code",
   "execution_count": 166,
   "metadata": {},
   "outputs": [
    {
     "data": {
      "text/plain": [
       "4000"
      ]
     },
     "execution_count": 166,
     "metadata": {},
     "output_type": "execute_result"
    }
   ],
   "source": [
    "np.sum(y_pred)\n",
    "len(y_pred)"
   ]
  },
  {
   "cell_type": "code",
   "execution_count": 156,
   "metadata": {},
   "outputs": [
    {
     "data": {
      "text/plain": [
       "0.85575000000000001"
      ]
     },
     "execution_count": 156,
     "metadata": {},
     "output_type": "execute_result"
    }
   ],
   "source": [
    "accuracy_score(y_val, y_pred)"
   ]
  },
  {
   "cell_type": "code",
   "execution_count": null,
   "metadata": {
    "collapsed": true
   },
   "outputs": [],
   "source": [
    "0.85575000000000001"
   ]
  },
  {
   "cell_type": "code",
   "execution_count": null,
   "metadata": {
    "collapsed": true
   },
   "outputs": [],
   "source": [
    "0.85624999999999996"
   ]
  },
  {
   "cell_type": "code",
   "execution_count": null,
   "metadata": {
    "collapsed": true
   },
   "outputs": [],
   "source": [
    "0.85675000000000001"
   ]
  },
  {
   "cell_type": "code",
   "execution_count": null,
   "metadata": {
    "collapsed": true
   },
   "outputs": [],
   "source": [
    "# Final Stack #3: Logistic Regression (Dylan), Random Forest, SVM, Naive Bayes (Eric)"
   ]
  },
  {
   "cell_type": "code",
   "execution_count": 144,
   "metadata": {
    "collapsed": true
   },
   "outputs": [],
   "source": [
    "# Eric Final (whole training set)\n",
    "\n",
    "from sklearn.naive_bayes import MultinomialNB\n",
    "# from sklearn.feature_extraction.text import TfidfTransformer\n",
    "from sklearn.model_selection import cross_val_score\n",
    "\n",
    "label_weights = pd.read_csv(\"./Logistic_L1_weights_229.txt\", delimiter=\"\\t\")\n",
    "\n",
    "nhypers = 10\n",
    "Qs = np.linspace(61, 65, nhypers) # 0.1% of 1000 is 1\n",
    "whichweights = np.zeros((nhypers, x_train.shape[1]))\n",
    "abs_weights = np.absolute(label_weights.weights)\n",
    "for i, Q in enumerate(Qs):\n",
    "    cutoff = np.percentile(a=abs_weights, q=Q)\n",
    "    whichweights[i, :] = np.greater_equal(abs_weights, cutoff)\n",
    "\n",
    "percentiles = [np.percentile(a=np.absolute(label_weights.weights), q=Q) for Q in Qs]"
   ]
  },
  {
   "cell_type": "code",
   "execution_count": 145,
   "metadata": {},
   "outputs": [
    {
     "name": "stdout",
     "output_type": "stream",
     "text": [
      "8 0.854149230309\n"
     ]
    }
   ],
   "source": [
    "val_scores, mean_val_scores, hyper_best_i, models = NBayesCrossVal(whichweights, x_train, y_train, 1, 5, 'multinomial')"
   ]
  },
  {
   "cell_type": "code",
   "execution_count": 146,
   "metadata": {},
   "outputs": [
    {
     "name": "stdout",
     "output_type": "stream",
     "text": [
      "0.199385044853\n",
      "64.5555555556\n"
     ]
    },
    {
     "data": {
      "image/png": "[encoded data removed]",
      "text/plain": [
       "<matplotlib.figure.Figure at 0x129e52080>"
      ]
     },
     "metadata": {},
     "output_type": "display_data"
    },
    {
     "data": {
      "text/plain": [
       "MultinomialNB(alpha=1.0, class_prior=None, fit_prior=True)"
      ]
     },
     "execution_count": 146,
     "metadata": {},
     "output_type": "execute_result"
    }
   ],
   "source": [
    "print(percentiles[hyper_best_i])\n",
    "print(Qs[hyper_best_i])\n",
    "plt.plot(Qs, mean_val_scores)\n",
    "plt.show()\n",
    "bestweights = whichweights[hyper_best_i, :] #models[33] # No, all the models are the same!\n",
    "bestmodel = models[0] # All the models are the same!\n",
    "bestmatrix = x_train[:, bestweights.astype('bool')]\n",
    "bestmodel.fit(bestmatrix, y_train)"
   ]
  },
  {
   "cell_type": "code",
   "execution_count": 147,
   "metadata": {},
   "outputs": [
    {
     "name": "stdout",
     "output_type": "stream",
     "text": [
      "   Id  Prediction\n",
      "0   1           1\n",
      "1   2           1\n",
      "2   3           0\n",
      "3   4           0\n",
      "4   5           0\n",
      "5   6           0\n",
      "6   7           1\n",
      "7   8           1\n",
      "8   9           1\n",
      "9  10           0\n"
     ]
    }
   ],
   "source": [
    "y_pred = bestmodel.predict(x_test[:, bestweights.astype('bool')])\n",
    "\n",
    "submission = pd.DataFrame({'Id': range(1, len(x_test)+1), 'Prediction': [int(x) for x in y_pred]})\n",
    "print(submission.head(10))\n",
    "\n",
    "submission.to_csv('submissions_CV/stack1/submission_optimal_Naive_Bayes_Eric_Final.csv', index=False, header=True)"
   ]
  },
  {
   "cell_type": "code",
   "execution_count": 161,
   "metadata": {
    "collapsed": true
   },
   "outputs": [],
   "source": [
    "# Dylan Final\n",
    "\n",
    "# Copied from his ...reg_optimal.py\n",
    "import numpy as np\n",
    "from sklearn.linear_model import LogisticRegression\n",
    "from sklearn.model_selection import StratifiedKFold\n",
    "from sklearn.feature_extraction.text import TfidfTransformer\n",
    "\n",
    "# Import training data\n",
    "original_training_data = np.loadtxt(\"training_data.txt\", skiprows=1)\n",
    "# Import test data\n",
    "original_test_data = np.loadtxt(\"test_data.txt\", skiprows=1)\n",
    "# Produce joint tf-idf-generating dataset\n",
    "pre_tf_idf = np.append(original_training_data[:,1:], original_test_data, axis=0)\n",
    "\n",
    "# Compute tf-idf\n",
    "tfidf_trans = TfidfTransformer()\n",
    "full_tf_idf = tfidf_trans.fit_transform(pre_tf_idf)\n",
    "full_tf_idf = full_tf_idf.toarray()\n",
    "\n",
    "# Reconstitute training data\n",
    "train_labels = original_training_data[:,0]\n",
    "train_labels = train_labels.reshape(20000,1)\n",
    "training_tf_idf = np.append(train_labels, full_tf_idf[0:20000,:], axis=1)\n",
    "\n",
    "# Reconstitute test data\n",
    "test_tf_idf = full_tf_idf[20000:, :]\n",
    "\n",
    "# Train model on tf-idf training data\n",
    "training_x = training_tf_idf[:,1:]\n",
    "training_y = training_tf_idf[:,0]"
   ]
  },
  {
   "cell_type": "code",
   "execution_count": 162,
   "metadata": {},
   "outputs": [
    {
     "data": {
      "text/plain": [
       "LogisticRegression(C=0.9483, class_weight=None, dual=False,\n",
       "          fit_intercept=True, intercept_scaling=1, max_iter=100,\n",
       "          multi_class='ovr', n_jobs=1, penalty='l2', random_state=None,\n",
       "          solver='liblinear', tol=0.0001, verbose=0, warm_start=False)"
      ]
     },
     "execution_count": 162,
     "metadata": {},
     "output_type": "execute_result"
    }
   ],
   "source": [
    "model = LogisticRegression(penalty='l2', C = 0.9483)\n",
    "model.fit(training_x, training_y)"
   ]
  },
  {
   "cell_type": "code",
   "execution_count": 163,
   "metadata": {},
   "outputs": [
    {
     "name": "stdout",
     "output_type": "stream",
     "text": [
      "   Id  Prediction\n",
      "0   1           1\n",
      "1   2           1\n",
      "2   3           0\n",
      "3   4           0\n",
      "4   5           0\n",
      "5   6           0\n",
      "6   7           1\n",
      "7   8           1\n",
      "8   9           1\n",
      "9  10           0\n"
     ]
    }
   ],
   "source": [
    "y_pred = model.predict(test_tf_idf)\n",
    "\n",
    "submission = pd.DataFrame({'Id': range(1, len(test_tf_idf)+1), 'Prediction': [int(x) for x in y_pred]})\n",
    "print(submission.head(10))\n",
    "\n",
    "submission.to_csv('submissions/submission_optimal_Dylan_TFIFDall_0.9483_Final.csv', index=False, header=True)"
   ]
  },
  {
   "cell_type": "code",
   "execution_count": 152,
   "metadata": {},
   "outputs": [
    {
     "data": {
      "text/html": [
       "<div>\n",
       "<style scoped>\n",
       "    .dataframe tbody tr th:only-of-type {\n",
       "        vertical-align: middle;\n",
       "    }\n",
       "\n",
       "    .dataframe tbody tr th {\n",
       "        vertical-align: top;\n",
       "    }\n",
       "\n",
       "    .dataframe thead th {\n",
       "        text-align: right;\n",
       "    }\n",
       "</style>\n",
       "<table border=\"1\" class=\"dataframe\">\n",
       "  <thead>\n",
       "    <tr style=\"text-align: right;\">\n",
       "      <th></th>\n",
       "      <th>Id</th>\n",
       "      <th>Prediction0</th>\n",
       "      <th>Prediction1</th>\n",
       "      <th>Prediction2</th>\n",
       "      <th>Prediction3</th>\n",
       "    </tr>\n",
       "  </thead>\n",
       "  <tbody>\n",
       "    <tr>\n",
       "      <th>0</th>\n",
       "      <td>1</td>\n",
       "      <td>1</td>\n",
       "      <td>1</td>\n",
       "      <td>1</td>\n",
       "      <td>1</td>\n",
       "    </tr>\n",
       "    <tr>\n",
       "      <th>1</th>\n",
       "      <td>2</td>\n",
       "      <td>1</td>\n",
       "      <td>1</td>\n",
       "      <td>1</td>\n",
       "      <td>1</td>\n",
       "    </tr>\n",
       "    <tr>\n",
       "      <th>2</th>\n",
       "      <td>3</td>\n",
       "      <td>0</td>\n",
       "      <td>0</td>\n",
       "      <td>0</td>\n",
       "      <td>0</td>\n",
       "    </tr>\n",
       "    <tr>\n",
       "      <th>3</th>\n",
       "      <td>4</td>\n",
       "      <td>0</td>\n",
       "      <td>0</td>\n",
       "      <td>0</td>\n",
       "      <td>0</td>\n",
       "    </tr>\n",
       "    <tr>\n",
       "      <th>4</th>\n",
       "      <td>5</td>\n",
       "      <td>0</td>\n",
       "      <td>0</td>\n",
       "      <td>0</td>\n",
       "      <td>1</td>\n",
       "    </tr>\n",
       "    <tr>\n",
       "      <th>5</th>\n",
       "      <td>6</td>\n",
       "      <td>0</td>\n",
       "      <td>0</td>\n",
       "      <td>0</td>\n",
       "      <td>0</td>\n",
       "    </tr>\n",
       "    <tr>\n",
       "      <th>6</th>\n",
       "      <td>7</td>\n",
       "      <td>1</td>\n",
       "      <td>1</td>\n",
       "      <td>1</td>\n",
       "      <td>1</td>\n",
       "    </tr>\n",
       "    <tr>\n",
       "      <th>7</th>\n",
       "      <td>8</td>\n",
       "      <td>1</td>\n",
       "      <td>1</td>\n",
       "      <td>1</td>\n",
       "      <td>1</td>\n",
       "    </tr>\n",
       "    <tr>\n",
       "      <th>8</th>\n",
       "      <td>9</td>\n",
       "      <td>1</td>\n",
       "      <td>1</td>\n",
       "      <td>1</td>\n",
       "      <td>1</td>\n",
       "    </tr>\n",
       "    <tr>\n",
       "      <th>9</th>\n",
       "      <td>10</td>\n",
       "      <td>0</td>\n",
       "      <td>0</td>\n",
       "      <td>0</td>\n",
       "      <td>0</td>\n",
       "    </tr>\n",
       "  </tbody>\n",
       "</table>\n",
       "</div>"
      ],
      "text/plain": [
       "   Id  Prediction0  Prediction1  Prediction2  Prediction3\n",
       "0   1            1            1            1            1\n",
       "1   2            1            1            1            1\n",
       "2   3            0            0            0            0\n",
       "3   4            0            0            0            0\n",
       "4   5            0            0            0            1\n",
       "5   6            0            0            0            0\n",
       "6   7            1            1            1            1\n",
       "7   8            1            1            1            1\n",
       "8   9            1            1            1            1\n",
       "9  10            0            0            0            0"
      ]
     },
     "execution_count": 152,
     "metadata": {},
     "output_type": "execute_result"
    }
   ],
   "source": [
    "import os\n",
    "\n",
    "sub_path = \"submissions/\"\n",
    "all_files = os.listdir(sub_path)\n",
    "\n",
    "# Read and concatenate submissions\n",
    "outs = [pd.read_csv(os.path.join(sub_path, f), index_col=0) for f in all_files]\n",
    "concat_sub = pd.concat(outs, axis=1)\n",
    "cols = list(map(lambda x: \"Prediction\" + str(x), range(len(concat_sub.columns))))\n",
    "concat_sub.columns = cols\n",
    "concat_sub.reset_index(inplace=True)\n",
    "concat_sub.head(n=10)"
   ]
  },
  {
   "cell_type": "code",
   "execution_count": 153,
   "metadata": {},
   "outputs": [
    {
     "data": {
      "text/plain": [
       "array([1, 1, 0, 0, 0, 0, 1, 1, 1, 0, 1, 0, 1, 0, 0])"
      ]
     },
     "execution_count": 153,
     "metadata": {},
     "output_type": "execute_result"
    }
   ],
   "source": [
    "predictDF = np.array(concat_sub.iloc[:, 1:6])\n",
    "predictDF[0:5, ] #.head()\n",
    "majority = np.mean(predictDF, axis=1)\n",
    "majority[0:5]\n",
    "stacked = (majority > 0.5) + 0\n",
    "stacked[0:15]"
   ]
  },
  {
   "cell_type": "code",
   "execution_count": 154,
   "metadata": {},
   "outputs": [
    {
     "name": "stdout",
     "output_type": "stream",
     "text": [
      "   Id  Prediction\n",
      "0   1           1\n",
      "1   2           1\n",
      "2   3           0\n",
      "3   4           0\n",
      "4   5           0\n",
      "5   6           0\n",
      "6   7           1\n",
      "7   8           1\n",
      "8   9           1\n",
      "9  10           0\n"
     ]
    }
   ],
   "source": [
    "submission = pd.DataFrame({'Id': range(1, len(x_test)+1), 'Prediction': [int(x) for x in stacked]})\n",
    "print(submission.head(10))\n",
    "\n",
    "submission.to_csv('submission_majority_stack_Final_Stack_3.csv', index=False, header=True)"
   ]
  }
 ],
 "metadata": {
  "kernelspec": {
   "display_name": "Python 3",
   "language": "python",
   "name": "python3"
  },
  "language_info": {
   "codemirror_mode": {
    "name": "ipython",
    "version": 3
   },
   "file_extension": ".py",
   "mimetype": "text/x-python",
   "name": "python",
   "nbconvert_exporter": "python",
   "pygments_lexer": "ipython3",
   "version": "3.5.2"
  }
 },
 "nbformat": 4,
 "nbformat_minor": 2
}
