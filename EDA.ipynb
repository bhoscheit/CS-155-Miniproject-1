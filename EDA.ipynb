{
 "cells": [
  {
   "cell_type": "code",
   "execution_count": 1,
   "metadata": {
    "collapsed": true
   },
   "outputs": [],
   "source": [
    "import numpy as np\n",
    "import pandas as pd"
   ]
  },
  {
   "cell_type": "code",
   "execution_count": 2,
   "metadata": {
    "collapsed": true
   },
   "outputs": [],
   "source": [
    "# Load data\n",
    "\n",
    "data = np.loadtxt('data/training_data.txt', skiprows=1)"
   ]
  },
  {
   "cell_type": "code",
   "execution_count": 25,
   "metadata": {
    "collapsed": true
   },
   "outputs": [],
   "source": [
    "x_train = data[:,range(1,1001)]\n",
    "y_train = data[:,0]"
   ]
  },
  {
   "cell_type": "code",
   "execution_count": 48,
   "metadata": {},
   "outputs": [
    {
     "name": "stdout",
     "output_type": "stream",
     "text": [
      "0.84725\n",
      "0.84725\n",
      "0.84775\n",
      "0.84675\n",
      "0.84775\n"
     ]
    }
   ],
   "source": [
    "# Logistic Regression\n",
    "\n",
    "from sklearn.linear_model import LogisticRegression\n",
    "\n",
    "# Test Normalization\n",
    "\n",
    "from sklearn import preprocessing\n",
    "\n",
    "# KFold cross validation\n",
    "\n",
    "# from sklearn.model_selection import KFold\n",
    "    \n",
    "# kf = KFold(n_splits = 5, shuffle=True)\n",
    "# inds = [ind for ind in kf.split(x_train, y_train)]\n",
    "\n",
    "# for fold in range(5):\n",
    "#     x_train_folds = x_train[inds[fold][0]]\n",
    "#     x_val_folds = x_train[inds[fold][1]]\n",
    "#     y_train_folds = y_train[inds[fold][0]]\n",
    "#     y_val_folds = y_train[inds[fold][1]]\n",
    "    \n",
    "# print(len(x_train_folds))\n",
    "\n",
    "# Split the data\n",
    "\n",
    "from sklearn.model_selection import train_test_split\n",
    "\n",
    "x_train_s, x_val, y_train_s, y_val = train_test_split(x_train, y_train, test_size=0.2, random_state=42)\n",
    "\n",
    "# w/o normalization\n",
    "\n",
    "# l1 regularization\n",
    "\n",
    "model = LogisticRegression(penalty='l1')\n",
    "model.fit(x_train_s, y_train_s)\n",
    "\n",
    "print(model.score(x_val, y_val))\n",
    "\n",
    "# l2 regularization\n",
    "\n",
    "model = LogisticRegression(penalty='l1')\n",
    "model.fit(x_train_s, y_train_s)\n",
    "\n",
    "print(model.score(x_val, y_val))\n",
    "\n",
    "# w/ normalization\n",
    "\n",
    "x_train_s_norm = preprocessing.normalize(x_train_s, norm='l2')\n",
    "x_val_norm = preprocessing.normalize(x_val, norm='l2')\n",
    "\n",
    "# l1 regularization\n",
    "\n",
    "model = LogisticRegression(penalty='l1')\n",
    "model.fit(x_train_s_norm, y_train_s)\n",
    "\n",
    "print(model.score(x_val_norm, y_val))\n",
    "\n",
    "# l2 regularization\n",
    "\n",
    "model = LogisticRegression(penalty='l2')\n",
    "model.fit(x_train_s_norm, y_train_s)\n",
    "\n",
    "print(model.score(x_val_norm, y_val))\n",
    "\n",
    "# Recoded data: 0 and 1 to -1 and 1\n",
    "\n",
    "y_train_neg1 = y_train\n",
    "y_train_neg1[y_train == 0] = -1\n",
    "\n",
    "x_train_s, x_val, y_train_s, y_val = train_test_split(x_train, y_train_neg1, test_size=0.2, random_state=42)\n",
    "\n",
    "x_train_s_norm = preprocessing.normalize(x_train_s, norm='l2')\n",
    "x_val_norm = preprocessing.normalize(x_val, norm='l2')\n",
    "\n",
    "# Best model\n",
    "\n",
    "model = LogisticRegression(penalty='l1')\n",
    "model.fit(x_train_s_norm, y_train_s)\n",
    "\n",
    "print(model.score(x_val_norm, y_val))"
   ]
  },
  {
   "cell_type": "code",
   "execution_count": null,
   "metadata": {
    "collapsed": true
   },
   "outputs": [],
   "source": [
    "# Load words\n",
    "\n",
    "import numpy as np\n",
    "import csv\n",
    "\n",
    "# Import data and labels\n",
    "training_data = np.loadtxt('data/training_data.txt', skiprows=1)\n",
    "with open('data/training_data.txt') as f:\n",
    "    reader = csv.reader(f, delimiter=\" \")\n",
    "    labels = next(reader)"
   ]
  }
 ],
 "metadata": {
  "kernelspec": {
   "display_name": "Python 3",
   "language": "python",
   "name": "python3"
  },
  "language_info": {
   "codemirror_mode": {
    "name": "ipython",
    "version": 3
   },
   "file_extension": ".py",
   "mimetype": "text/x-python",
   "name": "python",
   "nbconvert_exporter": "python",
   "pygments_lexer": "ipython3",
   "version": "3.5.2"
  }
 },
 "nbformat": 4,
 "nbformat_minor": 2
}
